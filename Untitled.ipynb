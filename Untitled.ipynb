{
 "cells": [
  {
   "cell_type": "markdown",
   "id": "1d0bc732-9af9-454e-b4e8-c22145c95615",
   "metadata": {},
   "source": [
    "# 함수와 입출력"
   ]
  },
  {
   "cell_type": "markdown",
   "id": "a72c561b-62de-4395-8dc1-80000a53ffa9",
   "metadata": {},
   "source": [
    "### 함수"
   ]
  },
  {
   "cell_type": "code",
   "execution_count": 8,
   "id": "0dc52dba-edd8-43d4-b36a-78fec755c6b4",
   "metadata": {},
   "outputs": [],
   "source": [
    "def add(a,b):\n",
    "    return a + b"
   ]
  },
  {
   "cell_type": "code",
   "execution_count": 6,
   "id": "e7e8dd53-32f4-4724-bf45-1492b095757c",
   "metadata": {},
   "outputs": [
    {
     "name": "stdout",
     "output_type": "stream",
     "text": [
      "7\n"
     ]
    }
   ],
   "source": [
    "a = 3\n",
    "b = 4\n",
    "c = add(a,b)\n",
    "print(c)"
   ]
  },
  {
   "cell_type": "code",
   "execution_count": 10,
   "id": "208f9d04-651c-40db-a72d-8f4c805ad516",
   "metadata": {},
   "outputs": [
    {
     "name": "stdout",
     "output_type": "stream",
     "text": [
      "7\n"
     ]
    }
   ],
   "source": [
    "def add(a, b):  # a, b는 매개변수\n",
    "    return a+b\n",
    "\n",
    "print(add(3, 4))  # 3, 4는 인수"
   ]
  },
  {
   "cell_type": "markdown",
   "id": "e7f5f9c7-712d-48f3-94de-487e6bb685ad",
   "metadata": {},
   "source": [
    "### 입력값과 리턴값에 따른 함수의 형태"
   ]
  },
  {
   "cell_type": "code",
   "execution_count": 14,
   "id": "bdda7090-0714-410d-854d-ce0eaffcd436",
   "metadata": {},
   "outputs": [],
   "source": [
    "def add(a, b): \n",
    "    result = a + b \n",
    "    return result"
   ]
  },
  {
   "cell_type": "code",
   "execution_count": 16,
   "id": "5680c1ed-0953-426a-9526-aa229b70d661",
   "metadata": {},
   "outputs": [
    {
     "data": {
      "text/plain": [
       "7"
      ]
     },
     "execution_count": 16,
     "metadata": {},
     "output_type": "execute_result"
    }
   ],
   "source": [
    "add(3,4)"
   ]
  },
  {
   "cell_type": "code",
   "execution_count": 18,
   "id": "f85df72b-50b2-4754-aefb-a359c771a6c5",
   "metadata": {},
   "outputs": [],
   "source": [
    "#입력값이 없는 함수\n",
    "\n",
    "def say():\n",
    "    return 'Hi'"
   ]
  },
  {
   "cell_type": "code",
   "execution_count": 20,
   "id": "13b59fdd-7cb1-4d42-84fc-f8fb42c5886a",
   "metadata": {},
   "outputs": [
    {
     "data": {
      "text/plain": [
       "'Hi'"
      ]
     },
     "execution_count": 20,
     "metadata": {},
     "output_type": "execute_result"
    }
   ],
   "source": [
    "say()"
   ]
  },
  {
   "cell_type": "code",
   "execution_count": 32,
   "id": "01c63e56-9db5-428c-96e1-6acb69d35c41",
   "metadata": {},
   "outputs": [],
   "source": [
    "def add2(a, b): \n",
    "    print(\"%d, %d의 합은 %d입니다.\" % (a, b, a+b))"
   ]
  },
  {
   "cell_type": "code",
   "execution_count": 34,
   "id": "e4c99599-76af-43d9-9f14-af20528be580",
   "metadata": {},
   "outputs": [
    {
     "name": "stdout",
     "output_type": "stream",
     "text": [
      "3, 4의 합은 7입니다.\n"
     ]
    }
   ],
   "source": [
    "add2(3, 4)"
   ]
  },
  {
   "cell_type": "code",
   "execution_count": 36,
   "id": "619cd689-7980-4751-a8ca-4523612c49fb",
   "metadata": {},
   "outputs": [
    {
     "name": "stdout",
     "output_type": "stream",
     "text": [
      "3, 4의 합은 7입니다.\n"
     ]
    }
   ],
   "source": [
    "c = add2(3,4)"
   ]
  },
  {
   "cell_type": "code",
   "execution_count": 38,
   "id": "a40c3e9c-bcae-4ba1-9f96-a4074c4bd80d",
   "metadata": {},
   "outputs": [
    {
     "name": "stdout",
     "output_type": "stream",
     "text": [
      "None\n"
     ]
    }
   ],
   "source": [
    "print(c)"
   ]
  },
  {
   "cell_type": "code",
   "execution_count": 42,
   "id": "976231eb-08bd-49cf-bd06-3cd4b44244c9",
   "metadata": {},
   "outputs": [],
   "source": [
    "# 입력값도, 리턴값도 없는 함수\n",
    "def say2():\n",
    "    print('Hi')"
   ]
  },
  {
   "cell_type": "code",
   "execution_count": 44,
   "id": "52aca0c9-0fe9-48e7-9685-7337082ac6f9",
   "metadata": {},
   "outputs": [
    {
     "name": "stdout",
     "output_type": "stream",
     "text": [
      "Hi\n"
     ]
    }
   ],
   "source": [
    "say2()"
   ]
  },
  {
   "cell_type": "code",
   "execution_count": 46,
   "id": "cfb37f08-95f8-4d4d-bfbf-27d5b4ddd4f6",
   "metadata": {},
   "outputs": [
    {
     "name": "stdout",
     "output_type": "stream",
     "text": [
      "Hi\n"
     ]
    }
   ],
   "source": [
    "d = say2()"
   ]
  },
  {
   "cell_type": "code",
   "execution_count": 50,
   "id": "dc08b0e3-522a-47ca-b0ee-c33b2c99f5a7",
   "metadata": {},
   "outputs": [
    {
     "name": "stdout",
     "output_type": "stream",
     "text": [
      "None\n"
     ]
    }
   ],
   "source": [
    "print(d)"
   ]
  },
  {
   "cell_type": "markdown",
   "id": "f4020190-f8d5-4c8a-bbe0-c5f42242823a",
   "metadata": {},
   "source": [
    "### 매개변수를 지정하여 호출하기"
   ]
  },
  {
   "cell_type": "code",
   "execution_count": 53,
   "id": "759e2629-346c-488f-8e86-c897a851ebad",
   "metadata": {},
   "outputs": [],
   "source": [
    "def sub(a,b):\n",
    "    return a-b"
   ]
  },
  {
   "cell_type": "code",
   "execution_count": 61,
   "id": "adeb4bd8-58a9-4de5-b7ed-bf8342277123",
   "metadata": {},
   "outputs": [
    {
     "name": "stdout",
     "output_type": "stream",
     "text": [
      "4\n"
     ]
    }
   ],
   "source": [
    "result = sub(a=7, b=3)\n",
    "print(result)"
   ]
  },
  {
   "cell_type": "code",
   "execution_count": 63,
   "id": "031e1ece-280e-4046-be53-afa7c4ea7217",
   "metadata": {},
   "outputs": [
    {
     "name": "stdout",
     "output_type": "stream",
     "text": [
      "2\n"
     ]
    }
   ],
   "source": [
    "result = sub(a=5, b=3)\n",
    "print(result)"
   ]
  },
  {
   "cell_type": "markdown",
   "id": "03a1ad60-24f5-4677-b013-6804a2ae37a9",
   "metadata": {},
   "source": [
    "### 입력값이 몇 개가 될지 모를 때는 어떻게 해야 할까?"
   ]
  },
  {
   "cell_type": "code",
   "execution_count": 68,
   "id": "308798d2-44c5-4f91-bfba-0a37bf125bad",
   "metadata": {},
   "outputs": [],
   "source": [
    "# 사용자의 입력이 몇개든, 전부 다 누적해서 더해주는 함수\n",
    "def add_many(*args):\n",
    "    result = 0\n",
    "    for i in args:\n",
    "        result = result+i\n",
    "    return result"
   ]
  },
  {
   "cell_type": "code",
   "execution_count": 70,
   "id": "0711e261-c190-49e0-9d64-9cdd6de68e95",
   "metadata": {},
   "outputs": [
    {
     "data": {
      "text/plain": [
       "52"
      ]
     },
     "execution_count": 70,
     "metadata": {},
     "output_type": "execute_result"
    }
   ],
   "source": [
    "add_many(1,1,5,6,7,8,6,8,10)"
   ]
  },
  {
   "cell_type": "code",
   "execution_count": 80,
   "id": "56fcee4f-5253-44c9-a3b8-f988cee01664",
   "metadata": {},
   "outputs": [],
   "source": [
    "def add_many(*args):\n",
    "    print(input(\"숫자를입력하세요\"))\n",
    "    result = 0\n",
    "    for i in args:\n",
    "        result = result+i\n",
    "    return result"
   ]
  },
  {
   "cell_type": "code",
   "execution_count": 82,
   "id": "0aeebbf6-561a-4bf4-891b-e12b51e1a2f9",
   "metadata": {},
   "outputs": [
    {
     "data": {
      "text/plain": [
       "<function __main__.add_many(*args)>"
      ]
     },
     "execution_count": 82,
     "metadata": {},
     "output_type": "execute_result"
    }
   ],
   "source": [
    "add_many"
   ]
  },
  {
   "cell_type": "code",
   "execution_count": 98,
   "id": "0c915e27-7252-4127-82ef-a74098e2e08d",
   "metadata": {},
   "outputs": [],
   "source": [
    "def add_mul(option, *args):\n",
    "    if option == 'mul':\n",
    "        data = 1\n",
    "        for i in args:\n",
    "            data = data*i\n",
    "        return data\n",
    "    if option == 'sum':\n",
    "        data = 0\n",
    "        for i in args:\n",
    "            data = data+i\n",
    "        return data\n"
   ]
  },
  {
   "cell_type": "code",
   "execution_count": 100,
   "id": "b9702da4-13bd-48a9-bb71-481e799273e4",
   "metadata": {},
   "outputs": [
    {
     "data": {
      "text/plain": [
       "120"
      ]
     },
     "execution_count": 100,
     "metadata": {},
     "output_type": "execute_result"
    }
   ],
   "source": [
    "add_mul('mul',1,2,3,4,5)"
   ]
  },
  {
   "cell_type": "code",
   "execution_count": 102,
   "id": "47b93269-2ad2-487d-9a7a-2ffba802ca0e",
   "metadata": {},
   "outputs": [
    {
     "data": {
      "text/plain": [
       "15"
      ]
     },
     "execution_count": 102,
     "metadata": {},
     "output_type": "execute_result"
    }
   ],
   "source": [
    "add_mul('sum',1,2,3,4,5)"
   ]
  },
  {
   "cell_type": "markdown",
   "id": "8f4bbcdd-2f18-46a4-a820-8ed2c824e7c1",
   "metadata": {},
   "source": [
    "### 키워드 매개변수, kwargs"
   ]
  },
  {
   "cell_type": "code",
   "execution_count": 105,
   "id": "add76891-65fb-4407-a0c9-0e5e67e61bbc",
   "metadata": {},
   "outputs": [],
   "source": [
    "def print_kwargs(**kwargs):\n",
    "     print(kwargs)"
   ]
  },
  {
   "cell_type": "code",
   "execution_count": 108,
   "id": "89f5ad22-0bfd-4b9b-891f-813dc40ce924",
   "metadata": {},
   "outputs": [
    {
     "name": "stdout",
     "output_type": "stream",
     "text": [
      "{'a': 1}\n"
     ]
    }
   ],
   "source": [
    "print_kwargs(a=1)"
   ]
  },
  {
   "cell_type": "code",
   "execution_count": 110,
   "id": "13cf812b-f8a6-4f61-bc45-3f5ae9692636",
   "metadata": {},
   "outputs": [
    {
     "name": "stdout",
     "output_type": "stream",
     "text": [
      "{'name': 'maeng', 'age': 20}\n"
     ]
    }
   ],
   "source": [
    "print_kwargs(name = 'maeng', age=20)"
   ]
  },
  {
   "cell_type": "markdown",
   "id": "1e413b99-6557-4193-b131-617acba325f8",
   "metadata": {},
   "source": [
    "### 함수의 리턴값은 언제나 하나이다."
   ]
  },
  {
   "cell_type": "code",
   "execution_count": 113,
   "id": "5604d9b8-0738-45de-b633-fbbc42a538a2",
   "metadata": {},
   "outputs": [],
   "source": [
    "def add_and_mul(a,b): \n",
    "     return a+b, a*b"
   ]
  },
  {
   "cell_type": "code",
   "execution_count": 115,
   "id": "c9a542d7-dbee-416e-954d-dc4c90aab1aa",
   "metadata": {},
   "outputs": [
    {
     "data": {
      "text/plain": [
       "(7, 12)"
      ]
     },
     "execution_count": 115,
     "metadata": {},
     "output_type": "execute_result"
    }
   ],
   "source": [
    "add_and_mul(3,4)"
   ]
  },
  {
   "cell_type": "code",
   "execution_count": 123,
   "id": "b15debd4-a2ae-4cee-b9ac-bbbea3505310",
   "metadata": {},
   "outputs": [
    {
     "data": {
      "text/plain": [
       "7"
      ]
     },
     "execution_count": 123,
     "metadata": {},
     "output_type": "execute_result"
    }
   ],
   "source": [
    "result1,  result2 = add_and_mul(3,4)\n",
    "result1"
   ]
  },
  {
   "cell_type": "code",
   "execution_count": 125,
   "id": "5551c2a9-338f-42b4-b1d5-31b36d3d4180",
   "metadata": {},
   "outputs": [
    {
     "data": {
      "text/plain": [
       "12"
      ]
     },
     "execution_count": 125,
     "metadata": {},
     "output_type": "execute_result"
    }
   ],
   "source": [
    "result2"
   ]
  },
  {
   "cell_type": "code",
   "execution_count": 127,
   "id": "c1ea39fc-7a27-46c5-b28e-59bff271a44d",
   "metadata": {},
   "outputs": [],
   "source": [
    "def add_and_mul(a,b): \n",
    "     return a+b\n",
    "     return a*b\n",
    "    "
   ]
  },
  {
   "cell_type": "code",
   "execution_count": 129,
   "id": "890df924-b963-4f64-bf7a-fd7aa4cae745",
   "metadata": {},
   "outputs": [
    {
     "data": {
      "text/plain": [
       "5"
      ]
     },
     "execution_count": 129,
     "metadata": {},
     "output_type": "execute_result"
    }
   ],
   "source": [
    "result = add_and_mul(2,3)\n",
    "result"
   ]
  },
  {
   "cell_type": "markdown",
   "id": "4029d4a0-e4a1-44e4-a083-d772ad7c23fa",
   "metadata": {},
   "source": [
    "### return 으로 함수 이탈하기"
   ]
  },
  {
   "cell_type": "code",
   "execution_count": 148,
   "id": "c36912c0-3403-4e5c-a55a-c4ce4bf9fd40",
   "metadata": {},
   "outputs": [],
   "source": [
    "def say_yeoeun(yeo):\n",
    "    if yeo == '바보':\n",
    "        return '나는 바보입니다.'\n",
    "    elif yeo == '멍충이':\n",
    "        return '나는 멍충이입니다.'\n",
    "    print(f'나의 별명은 {yeo}입니다.')"
   ]
  },
  {
   "cell_type": "code",
   "execution_count": 146,
   "id": "4eafd77e-b013-45f6-80df-d08861e5bb21",
   "metadata": {},
   "outputs": [
    {
     "data": {
      "text/plain": [
       "'나는 바보입니다.'"
      ]
     },
     "execution_count": 146,
     "metadata": {},
     "output_type": "execute_result"
    }
   ],
   "source": [
    "say_yeoeun('바보')"
   ]
  },
  {
   "cell_type": "code",
   "execution_count": 150,
   "id": "1237f0ef-5618-4149-9ca1-7195e8d7a7ba",
   "metadata": {},
   "outputs": [
    {
     "data": {
      "text/plain": [
       "'나는 멍충이입니다.'"
      ]
     },
     "execution_count": 150,
     "metadata": {},
     "output_type": "execute_result"
    }
   ],
   "source": [
    "say_yeoeun('멍충이')"
   ]
  },
  {
   "cell_type": "code",
   "execution_count": 152,
   "id": "caba201b-2824-433a-af2e-dfd42ca8e920",
   "metadata": {},
   "outputs": [],
   "source": [
    "def say_nick(nick):\n",
    "    if nick == '바보': \n",
    "        return '옥상으로 따라와'\n",
    "    print(f'나의 별명은 {nick} 입니다.')"
   ]
  },
  {
   "cell_type": "code",
   "execution_count": 154,
   "id": "6a700352-c75b-43f9-b92a-0d8c9c5f7081",
   "metadata": {},
   "outputs": [
    {
     "data": {
      "text/plain": [
       "'옥상으로 따라와'"
      ]
     },
     "execution_count": 154,
     "metadata": {},
     "output_type": "execute_result"
    }
   ],
   "source": [
    "say_nick('바보')"
   ]
  },
  {
   "cell_type": "code",
   "execution_count": 156,
   "id": "32d21d85-97d4-4362-b517-c7313470a097",
   "metadata": {},
   "outputs": [],
   "source": [
    "def say_myself(name, age, man=True):\n",
    "    print(f'나의 이름은{name}입니다.')\n",
    "    print(f'나의 나이는 {age}입니다.')\n",
    "    if man:\n",
    "        print('삐빅, 남자입니다.')\n",
    "    else:\n",
    "        print('삐빅, 여자입니다.')"
   ]
  },
  {
   "cell_type": "code",
   "execution_count": 160,
   "id": "3c9cc504-e009-478c-a09b-174ecfc6130f",
   "metadata": {},
   "outputs": [
    {
     "name": "stdout",
     "output_type": "stream",
     "text": [
      "나의 이름은맹광국입니다.\n",
      "나의 나이는 20입니다.\n",
      "삐빅, 여자입니다.\n"
     ]
    }
   ],
   "source": [
    "say_myself('맹광국',20,False)"
   ]
  },
  {
   "cell_type": "markdown",
   "id": "45e051de-0a04-475f-9124-e96f20a281a7",
   "metadata": {},
   "source": [
    "## 함수 안에서 선언한 변수의 효력 범위"
   ]
  },
  {
   "cell_type": "code",
   "execution_count": 165,
   "id": "0297e71b-ab2b-423d-8e24-754597ab3c77",
   "metadata": {},
   "outputs": [
    {
     "data": {
      "text/plain": [
       "1"
      ]
     },
     "execution_count": 165,
     "metadata": {},
     "output_type": "execute_result"
    }
   ],
   "source": [
    "a = 1\n",
    "def vartest(a):\n",
    "    a = a+1\n",
    "a"
   ]
  },
  {
   "cell_type": "code",
   "execution_count": 167,
   "id": "69a9b7c2-81fe-4558-8de9-827d5aec6525",
   "metadata": {},
   "outputs": [],
   "source": [
    "vartest(a)"
   ]
  },
  {
   "cell_type": "code",
   "execution_count": 169,
   "id": "3ad51c71-e1be-4c55-96bd-6861f7b56b10",
   "metadata": {},
   "outputs": [
    {
     "name": "stdout",
     "output_type": "stream",
     "text": [
      "1\n"
     ]
    }
   ],
   "source": [
    "print(a)"
   ]
  },
  {
   "cell_type": "markdown",
   "id": "60d18aa1-a1db-4a30-ae84-2812fc888cca",
   "metadata": {},
   "source": [
    "### 함수 안에서 함수 밖의 변수를 변경하는 방법"
   ]
  },
  {
   "cell_type": "code",
   "execution_count": 174,
   "id": "1080b0b1-dd99-4e39-ae7a-15e1738c3f5a",
   "metadata": {},
   "outputs": [
    {
     "name": "stdout",
     "output_type": "stream",
     "text": [
      "2\n"
     ]
    }
   ],
   "source": [
    "#1. return 사용하기\n",
    "\n",
    "a = 1\n",
    "def vartest(a):\n",
    "    a = a+1\n",
    "    return a\n",
    "a = vartest(a)\n",
    "print(a)"
   ]
  },
  {
   "cell_type": "code",
   "execution_count": 176,
   "id": "f2fdca10-446e-4c01-8480-fe97ccaee5d4",
   "metadata": {},
   "outputs": [
    {
     "name": "stdout",
     "output_type": "stream",
     "text": [
      "2\n"
     ]
    }
   ],
   "source": [
    "#2. global 명령어 사용하기\n",
    "\n",
    "a = 1\n",
    "def vartest():\n",
    "    global a\n",
    "    a = a+1\n",
    "\n",
    "vartest()\n",
    "print(a)"
   ]
  },
  {
   "cell_type": "code",
   "execution_count": 178,
   "id": "f9b49c37-eb9a-412e-ac63-5bed5ef33c6c",
   "metadata": {},
   "outputs": [
    {
     "name": "stdout",
     "output_type": "stream",
     "text": [
      "7\n"
     ]
    }
   ],
   "source": [
    "### lambda 예약어\n",
    "\n",
    "def add(a, b):\n",
    "    return a+b\n",
    "result = add(3,4)\n",
    "print(result)"
   ]
  },
  {
   "cell_type": "code",
   "execution_count": 180,
   "id": "2fe109a4-3f54-48ca-adba-0f738b6f18fb",
   "metadata": {},
   "outputs": [
    {
     "data": {
      "text/plain": [
       "7"
      ]
     },
     "execution_count": 180,
     "metadata": {},
     "output_type": "execute_result"
    }
   ],
   "source": [
    "add = lambda a, b : a+b\n",
    "add(3,4)"
   ]
  },
  {
   "cell_type": "markdown",
   "id": "e20ece82-46f0-4065-986f-2efe25d8a649",
   "metadata": {},
   "source": [
    "# 파일 읽고 쓰기"
   ]
  },
  {
   "cell_type": "code",
   "execution_count": 183,
   "id": "8b49c1f1-b74a-4ba4-8949-31ff6cfda39b",
   "metadata": {},
   "outputs": [
    {
     "ename": "FileNotFoundError",
     "evalue": "[Errno 2] No such file or directory: 'output/test.text'",
     "output_type": "error",
     "traceback": [
      "\u001b[1;31m---------------------------------------------------------------------------\u001b[0m",
      "\u001b[1;31mFileNotFoundError\u001b[0m                         Traceback (most recent call last)",
      "Cell \u001b[1;32mIn[183], line 1\u001b[0m\n\u001b[1;32m----> 1\u001b[0m f \u001b[38;5;241m=\u001b[39m \u001b[38;5;28mopen\u001b[39m(\u001b[38;5;124m'\u001b[39m\u001b[38;5;124moutput/test.text\u001b[39m\u001b[38;5;124m'\u001b[39m,\u001b[38;5;124m'\u001b[39m\u001b[38;5;124mw\u001b[39m\u001b[38;5;124m'\u001b[39m)\n\u001b[0;32m      2\u001b[0m f\u001b[38;5;241m.\u001b[39mclose()\n",
      "File \u001b[1;32m~\\anaconda3\\Lib\\site-packages\\IPython\\core\\interactiveshell.py:324\u001b[0m, in \u001b[0;36m_modified_open\u001b[1;34m(file, *args, **kwargs)\u001b[0m\n\u001b[0;32m    317\u001b[0m \u001b[38;5;28;01mif\u001b[39;00m file \u001b[38;5;129;01min\u001b[39;00m {\u001b[38;5;241m0\u001b[39m, \u001b[38;5;241m1\u001b[39m, \u001b[38;5;241m2\u001b[39m}:\n\u001b[0;32m    318\u001b[0m     \u001b[38;5;28;01mraise\u001b[39;00m \u001b[38;5;167;01mValueError\u001b[39;00m(\n\u001b[0;32m    319\u001b[0m         \u001b[38;5;124mf\u001b[39m\u001b[38;5;124m\"\u001b[39m\u001b[38;5;124mIPython won\u001b[39m\u001b[38;5;124m'\u001b[39m\u001b[38;5;124mt let you open fd=\u001b[39m\u001b[38;5;132;01m{\u001b[39;00mfile\u001b[38;5;132;01m}\u001b[39;00m\u001b[38;5;124m by default \u001b[39m\u001b[38;5;124m\"\u001b[39m\n\u001b[0;32m    320\u001b[0m         \u001b[38;5;124m\"\u001b[39m\u001b[38;5;124mas it is likely to crash IPython. If you know what you are doing, \u001b[39m\u001b[38;5;124m\"\u001b[39m\n\u001b[0;32m    321\u001b[0m         \u001b[38;5;124m\"\u001b[39m\u001b[38;5;124myou can use builtins\u001b[39m\u001b[38;5;124m'\u001b[39m\u001b[38;5;124m open.\u001b[39m\u001b[38;5;124m\"\u001b[39m\n\u001b[0;32m    322\u001b[0m     )\n\u001b[1;32m--> 324\u001b[0m \u001b[38;5;28;01mreturn\u001b[39;00m io_open(file, \u001b[38;5;241m*\u001b[39margs, \u001b[38;5;241m*\u001b[39m\u001b[38;5;241m*\u001b[39mkwargs)\n",
      "\u001b[1;31mFileNotFoundError\u001b[0m: [Errno 2] No such file or directory: 'output/test.text'"
     ]
    }
   ],
   "source": [
    "f = open('output/test.text','w')\n",
    "f.close()"
   ]
  },
  {
   "cell_type": "code",
   "execution_count": 218,
   "id": "482c2bbb-ad5a-4f51-aaf5-770ef6eff12e",
   "metadata": {},
   "outputs": [],
   "source": [
    "f = open('si.text','w')\n",
    "for i in range(1,11):\n",
    "    f.write(f'{i}번째 줄입니다.\\n')\n",
    "f.close()"
   ]
  },
  {
   "cell_type": "code",
   "execution_count": 189,
   "id": "103917d5-20a4-4d25-902a-4bb739323a50",
   "metadata": {},
   "outputs": [],
   "source": [
    "f = open(\"새파일.txt\", 'w')\n",
    "for i in range(1,11): \n",
    "    f.write(f'{i}번째 줄입니다.\\n')\n",
    "f.close()"
   ]
  },
  {
   "cell_type": "code",
   "execution_count": 199,
   "id": "55576a41-4620-4bc9-a402-b2befb8f6db5",
   "metadata": {},
   "outputs": [
    {
     "name": "stdout",
     "output_type": "stream",
     "text": [
      "1번째 줄입니다.\n",
      "\n"
     ]
    }
   ],
   "source": [
    "f = open('si.text','r')\n",
    "line = f.readline()\n",
    "print(line)\n",
    "f.close()"
   ]
  },
  {
   "cell_type": "code",
   "execution_count": 201,
   "id": "3165a6aa-ec9b-46ba-bae3-b20e5e0c029b",
   "metadata": {},
   "outputs": [
    {
     "name": "stdout",
     "output_type": "stream",
     "text": [
      "1번째 줄입니다.\n",
      "\n",
      "2번째 줄입니다.\n",
      "\n",
      "3번째 줄입니다.\n",
      "\n",
      "4번째 줄입니다.\n",
      "\n",
      "5번째 줄입니다.\n",
      "\n"
     ]
    }
   ],
   "source": [
    "f = open('si.text','r')\n",
    "for i in range(5):\n",
    "    line = f.readline()\n",
    "    print(line)\n",
    "f.close()"
   ]
  },
  {
   "cell_type": "code",
   "execution_count": 203,
   "id": "200edc23-9e0f-4c0e-bc81-408e2aede3cb",
   "metadata": {},
   "outputs": [
    {
     "name": "stdout",
     "output_type": "stream",
     "text": [
      "['1번째 줄입니다.\\n', '2번째 줄입니다.\\n', '3번째 줄입니다.\\n', '4번째 줄입니다.\\n', '5번째 줄입니다.\\n', '6번째 줄입니다.\\n', '7번째 줄입니다.\\n', '8번째 줄입니다.\\n', '9번째 줄입니다.\\n', '10번째 줄입니다.\\n']\n"
     ]
    }
   ],
   "source": [
    "# readlines 함수\n",
    "f = open('si.text','r')\n",
    "lines = f.readlines()\n",
    "print(lines)"
   ]
  },
  {
   "cell_type": "code",
   "execution_count": 205,
   "id": "7c2fe4b2-bdeb-4d92-8be8-8f325ea52d36",
   "metadata": {},
   "outputs": [
    {
     "name": "stdout",
     "output_type": "stream",
     "text": [
      "1번째 줄입니다.\n",
      "\n",
      "2번째 줄입니다.\n",
      "\n",
      "3번째 줄입니다.\n",
      "\n",
      "4번째 줄입니다.\n",
      "\n",
      "5번째 줄입니다.\n",
      "\n",
      "6번째 줄입니다.\n",
      "\n",
      "7번째 줄입니다.\n",
      "\n",
      "8번째 줄입니다.\n",
      "\n",
      "9번째 줄입니다.\n",
      "\n",
      "10번째 줄입니다.\n",
      "\n"
     ]
    }
   ],
   "source": [
    "f = open('si.text','r')\n",
    "lines = f.readlines()\n",
    "for line in lines:\n",
    "    print(line)\n",
    "f.close()"
   ]
  },
  {
   "cell_type": "markdown",
   "id": "a775970e-f462-4dae-ab62-729d4222a217",
   "metadata": {},
   "source": [
    "## quiz\n",
    "메모장을 읽어올때 줄바꿈 1개를 없애보세요."
   ]
  },
  {
   "cell_type": "code",
   "execution_count": 212,
   "id": "1837b4c1-d931-4f8c-b5e9-d89121439e43",
   "metadata": {},
   "outputs": [
    {
     "ename": "UnsupportedOperation",
     "evalue": "not readable",
     "output_type": "error",
     "traceback": [
      "\u001b[1;31m---------------------------------------------------------------------------\u001b[0m",
      "\u001b[1;31mUnsupportedOperation\u001b[0m                      Traceback (most recent call last)",
      "Cell \u001b[1;32mIn[212], line 4\u001b[0m\n\u001b[0;32m      2\u001b[0m \u001b[38;5;28;01mfor\u001b[39;00m i \u001b[38;5;129;01min\u001b[39;00m \u001b[38;5;28mrange\u001b[39m(\u001b[38;5;241m1\u001b[39m,\u001b[38;5;241m11\u001b[39m):\n\u001b[0;32m      3\u001b[0m     f\u001b[38;5;241m.\u001b[39mwrite(\u001b[38;5;124mf\u001b[39m\u001b[38;5;124m'\u001b[39m\u001b[38;5;132;01m{\u001b[39;00mi\u001b[38;5;132;01m}\u001b[39;00m\u001b[38;5;124m번째 줄입니다.\u001b[39m\u001b[38;5;124m'\u001b[39m)\n\u001b[1;32m----> 4\u001b[0m lines \u001b[38;5;241m=\u001b[39m f\u001b[38;5;241m.\u001b[39mreadlines()\n\u001b[0;32m      5\u001b[0m \u001b[38;5;28;01mfor\u001b[39;00m line \u001b[38;5;129;01min\u001b[39;00m lines:\n\u001b[0;32m      6\u001b[0m     \u001b[38;5;28mprint\u001b[39m(line)\n",
      "\u001b[1;31mUnsupportedOperation\u001b[0m: not readable"
     ]
    }
   ],
   "source": []
  },
  {
   "cell_type": "code",
   "execution_count": 214,
   "id": "fd2851cf-6a29-4af4-b559-ab6492b685a4",
   "metadata": {},
   "outputs": [
    {
     "name": "stdout",
     "output_type": "stream",
     "text": [
      "1번째 줄입니다.2번째 줄입니다.3번째 줄입니다.4번째 줄입니다.5번째 줄입니다.6번째 줄입니다.7번째 줄입니다.8번째 줄입니다.9번째 줄입니다.10번째 줄입니다.\n"
     ]
    }
   ],
   "source": [
    "f = open('si.text','r')\n",
    "lines = f.readlines()\n",
    "for line in lines:\n",
    "    print(line)\n",
    "f.close()"
   ]
  },
  {
   "cell_type": "code",
   "execution_count": 220,
   "id": "3157c1d1-3706-4d79-b924-2a4bd0801dae",
   "metadata": {},
   "outputs": [
    {
     "name": "stdout",
     "output_type": "stream",
     "text": [
      "1번째 줄입니다.\n",
      "2번째 줄입니다.\n",
      "3번째 줄입니다.\n",
      "4번째 줄입니다.\n",
      "5번째 줄입니다.\n",
      "6번째 줄입니다.\n",
      "7번째 줄입니다.\n",
      "8번째 줄입니다.\n",
      "9번째 줄입니다.\n",
      "10번째 줄입니다.\n",
      "\n"
     ]
    }
   ],
   "source": [
    "# read함수 사용하기\n",
    "\n",
    "f = open('si.text','r')\n",
    "data = f.read()\n",
    "print(data)\n",
    "f.close()"
   ]
  },
  {
   "cell_type": "markdown",
   "id": "b500db9f-b32a-4c0e-b09b-752fedcb6dc1",
   "metadata": {},
   "source": [
    "### 파일에 새로운 내용 추가하기"
   ]
  },
  {
   "cell_type": "code",
   "execution_count": 241,
   "id": "de747826-4d07-4506-8846-1a63756be4f3",
   "metadata": {},
   "outputs": [],
   "source": [
    "f = open('si.text','a')\n",
    "for i in range(11,21): \n",
    "    data = (f'{i}번째 줄입니다.\\n')\n",
    "    f.write(data)    \n",
    "f.close()"
   ]
  },
  {
   "cell_type": "code",
   "execution_count": 243,
   "id": "2cd621f6-c3cf-426d-be43-ca91e785d087",
   "metadata": {},
   "outputs": [],
   "source": [
    "f = open(\"foo.txt\", 'w')\n",
    "f.write(\"Life is too short, you need python\")\n",
    "f.close()"
   ]
  },
  {
   "cell_type": "code",
   "execution_count": 245,
   "id": "d48405fc-3869-4f8a-b9ca-2b7423ce09c1",
   "metadata": {},
   "outputs": [],
   "source": [
    "with open(\"foo.txt\", 'w') as f:\n",
    "    f.write(\"Your leg is too short\")"
   ]
  },
  {
   "cell_type": "code",
   "execution_count": null,
   "id": "1e59450c-c94a-4d6e-ab12-85c1f7d56370",
   "metadata": {},
   "outputs": [],
   "source": []
  }
 ],
 "metadata": {
  "kernelspec": {
   "display_name": "Python 3 (ipykernel)",
   "language": "python",
   "name": "python3"
  },
  "language_info": {
   "codemirror_mode": {
    "name": "ipython",
    "version": 3
   },
   "file_extension": ".py",
   "mimetype": "text/x-python",
   "name": "python",
   "nbconvert_exporter": "python",
   "pygments_lexer": "ipython3",
   "version": "3.12.4"
  }
 },
 "nbformat": 4,
 "nbformat_minor": 5
}
