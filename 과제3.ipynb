{
 "cells": [
  {
   "cell_type": "code",
   "execution_count": 1,
   "id": "2f7f121d-faf0-473c-b3da-4c9e232b3915",
   "metadata": {},
   "outputs": [
    {
     "data": {
      "text/plain": [
       "bool"
      ]
     },
     "execution_count": 1,
     "metadata": {},
     "output_type": "execute_result"
    }
   ],
   "source": [
    "#101\n",
    "bool"
   ]
  },
  {
   "cell_type": "code",
   "execution_count": 9,
   "id": "87d9caaf-5552-403a-b83b-9e85526993a0",
   "metadata": {},
   "outputs": [],
   "source": [
    "#102\n",
    "#3? 5? > false"
   ]
  },
  {
   "cell_type": "code",
   "execution_count": 7,
   "id": "e7eaca6a-39e0-48dc-8ab1-41a95f0ca80d",
   "metadata": {},
   "outputs": [],
   "source": [
    "#103\n",
    "#true"
   ]
  },
  {
   "cell_type": "code",
   "execution_count": 11,
   "id": "a1de872c-e88d-4309-a85b-54e3d96db034",
   "metadata": {},
   "outputs": [
    {
     "name": "stdout",
     "output_type": "stream",
     "text": [
      "True\n"
     ]
    }
   ],
   "source": [
    "#104\n",
    "x = 4\n",
    "print(1 < x < 5)\n",
    "# true"
   ]
  },
  {
   "cell_type": "code",
   "execution_count": 15,
   "id": "39d70cd6-f3a4-4dcb-9851-0db60d3bf869",
   "metadata": {},
   "outputs": [
    {
     "name": "stdout",
     "output_type": "stream",
     "text": [
      "True\n"
     ]
    }
   ],
   "source": [
    "#105\n",
    "print ((3 == 3) and (4 != 3))\n",
    "\n",
    "#true?"
   ]
  },
  {
   "cell_type": "code",
   "execution_count": 17,
   "id": "1950ee75-f6cc-44ec-bb6d-01e58a934c56",
   "metadata": {},
   "outputs": [
    {
     "ename": "SyntaxError",
     "evalue": "expression cannot contain assignment, perhaps you meant \"==\"? (1628471456.py, line 2)",
     "output_type": "error",
     "traceback": [
      "\u001b[1;36m  Cell \u001b[1;32mIn[17], line 2\u001b[1;36m\u001b[0m\n\u001b[1;33m    print(3 => 4)\u001b[0m\n\u001b[1;37m          ^\u001b[0m\n\u001b[1;31mSyntaxError\u001b[0m\u001b[1;31m:\u001b[0m expression cannot contain assignment, perhaps you meant \"==\"?\n"
     ]
    }
   ],
   "source": [
    "#106\n",
    "print(3 => 4)\n",
    "#알 수 없는 기호"
   ]
  },
  {
   "cell_type": "code",
   "execution_count": 19,
   "id": "38c145bc-13d8-44c5-b7cc-ffbd9d8352b9",
   "metadata": {},
   "outputs": [],
   "source": [
    "#107\n",
    "\n",
    "if 4 < 3:\n",
    "    print(\"Hello World\")\n",
    "\n",
    "#false 또는 아무것도 없다."
   ]
  },
  {
   "cell_type": "code",
   "execution_count": 21,
   "id": "fd4e0b19-766a-4e6e-8bc9-f8190d3e8c3c",
   "metadata": {},
   "outputs": [
    {
     "name": "stdout",
     "output_type": "stream",
     "text": [
      "Hi, there.\n"
     ]
    }
   ],
   "source": [
    "#108\n",
    "\n",
    "if 4 < 3:\n",
    "    print(\"Hello World.\")\n",
    "else:\n",
    "    print(\"Hi, there.\")\n",
    "\n",
    "#hi, there"
   ]
  },
  {
   "cell_type": "code",
   "execution_count": 23,
   "id": "18f3c57b-0eec-4a78-980e-8d15cebfdc63",
   "metadata": {},
   "outputs": [
    {
     "name": "stdout",
     "output_type": "stream",
     "text": [
      "1\n",
      "2\n",
      "4\n"
     ]
    }
   ],
   "source": [
    "#109\n",
    "\n",
    "if True :\n",
    "    print (\"1\")\n",
    "    print (\"2\")\n",
    "else :\n",
    "    print(\"3\")\n",
    "print(\"4\")\n",
    "\n",
    "# 기본값은 true였던가?"
   ]
  },
  {
   "cell_type": "code",
   "execution_count": 27,
   "id": "bb9d9605-b261-4741-9ed8-21a4eea9b93c",
   "metadata": {},
   "outputs": [
    {
     "name": "stdout",
     "output_type": "stream",
     "text": [
      "3\n",
      "5\n"
     ]
    }
   ],
   "source": [
    "#110\n",
    "if True :\n",
    "    if False:\n",
    "        print(\"1\")\n",
    "        print(\"2\")\n",
    "    else:\n",
    "        print(\"3\")\n",
    "else :\n",
    "    print(\"4\")\n",
    "print(\"5\")\n",
    "\n",
    "#1,2,5?"
   ]
  },
  {
   "cell_type": "code",
   "execution_count": 35,
   "id": "8ffa6046-d46a-42ba-aaad-5971b3096788",
   "metadata": {},
   "outputs": [
    {
     "name": "stdin",
     "output_type": "stream",
     "text": [
      "입력: 안녕하세요\n"
     ]
    },
    {
     "name": "stdout",
     "output_type": "stream",
     "text": [
      "안녕하세요\n"
     ]
    }
   ],
   "source": [
    "#111\n",
    "#문제의 정의가 뭐지?\n",
    "x = input(\"입력:\")\n",
    "print(\"안녕하세요\")"
   ]
  },
  {
   "cell_type": "code",
   "execution_count": 47,
   "id": "87ef4552-75fb-4745-bfb9-4da18cb230a1",
   "metadata": {},
   "outputs": [
    {
     "name": "stdin",
     "output_type": "stream",
     "text": [
      "숫자를 입력하세요: 30\n"
     ]
    },
    {
     "name": "stdout",
     "output_type": "stream",
     "text": [
      "40\n"
     ]
    }
   ],
   "source": [
    "#112\n",
    "x = input(\"숫자를 입력하세요:\")\n",
    "print(int(x)+10)"
   ]
  },
  {
   "cell_type": "code",
   "execution_count": 53,
   "id": "92130119-9f20-4a51-90ca-4bef916c3001",
   "metadata": {},
   "outputs": [
    {
     "name": "stdin",
     "output_type": "stream",
     "text": [
      "숫자를 입력하세요: 30\n"
     ]
    },
    {
     "name": "stdout",
     "output_type": "stream",
     "text": [
      "짝수\n"
     ]
    }
   ],
   "source": [
    "#113\n",
    "\n",
    "x = input(\"숫자를 입력하세요:\")\n",
    "if int(x)%2 == 0:\n",
    "    print(\"짝수\")\n",
    "else:\n",
    "    print(\"홀수\")"
   ]
  },
  {
   "cell_type": "code",
   "execution_count": 63,
   "id": "a8faca5d-5f68-4a61-8fad-bb9654b10adf",
   "metadata": {},
   "outputs": [
    {
     "name": "stdin",
     "output_type": "stream",
     "text": [
      "숫자를 입력하세요: 255\n"
     ]
    },
    {
     "name": "stdout",
     "output_type": "stream",
     "text": [
      "255\n"
     ]
    }
   ],
   "source": [
    "#114\n",
    "\n",
    "x = input(\"숫자를 입력하세요:\")\n",
    "y = int(x)+20\n",
    "if y <= 255:\n",
    "    print(y)\n",
    "else:\n",
    "    print(255)"
   ]
  },
  {
   "cell_type": "code",
   "execution_count": 71,
   "id": "8d06b9bf-364e-4836-abff-e8b375cdfbb2",
   "metadata": {},
   "outputs": [
    {
     "name": "stdin",
     "output_type": "stream",
     "text": [
      "숫자를 입력하세요: 10\n"
     ]
    },
    {
     "name": "stdout",
     "output_type": "stream",
     "text": [
      "0\n"
     ]
    }
   ],
   "source": [
    "#115\n",
    "x = input(\"숫자를 입력하세요:\")\n",
    "y = int(x)-20\n",
    "if y < 0:\n",
    "    print(0)\n",
    "elif y > 255:\n",
    "    print(255)\n",
    "else:\n",
    "    print(y)"
   ]
  },
  {
   "cell_type": "code",
   "execution_count": null,
   "id": "c58b3824-7052-4f0f-823b-2dd9f6ffc26c",
   "metadata": {},
   "outputs": [],
   "source": [
    "#116\n",
    "\n",
    "모르겠어서 해답\n",
    "\n",
    "time = input(\"현재시간: \")\n",
    "if time[-2:] == \"00\":\n",
    "    print(\"정각 입니다.\")\n",
    "else:\n",
    "    print(\"정각이 아닙니다.\")"
   ]
  },
  {
   "cell_type": "code",
   "execution_count": 85,
   "id": "db23a3c8-c23a-413f-9401-773b79a1cf4f",
   "metadata": {},
   "outputs": [
    {
     "name": "stdin",
     "output_type": "stream",
     "text": [
      "좋아하는 과일은?: 멜론\n"
     ]
    },
    {
     "name": "stdout",
     "output_type": "stream",
     "text": [
      "오답입니다.\n"
     ]
    }
   ],
   "source": [
    "#117\n",
    "\n",
    "fruit = [\"사과\", \"포도\", \"홍시\"]\n",
    "x = input(\"좋아하는 과일은?:\")\n",
    "if x in fruit:\n",
    "    print(\"정답입니다\")\n",
    "else :\n",
    "    print(\"오답입니다.\")"
   ]
  },
  {
   "cell_type": "code",
   "execution_count": 91,
   "id": "d4ee0656-e41a-4b9b-a8a9-4f2305151e0d",
   "metadata": {},
   "outputs": [
    {
     "name": "stdin",
     "output_type": "stream",
     "text": [
      "투자 종목은?: GOOGLE\n"
     ]
    },
    {
     "name": "stdout",
     "output_type": "stream",
     "text": [
      "투자 경고 종목이 아닙니다.\n"
     ]
    }
   ],
   "source": [
    "#118\n",
    "\n",
    "warn_investment_list = [\"Microsoft\", \"Google\", \"Naver\", \"Kakao\", \"SAMSUNG\", \"LG\"]\n",
    "x = input(\"투자 종목은?:\")\n",
    "if x in warn_investment_list:\n",
    "    print(\"투자 경고 종목입니다\")\n",
    "else :\n",
    "    print(\"투자 경고 종목이 아닙니다.\")\n",
    "\n",
    "# 유저 입력의 대소문자 판별을 하지 못한다. GOOGLE 로 적으면 FALSE 문을 내놓음"
   ]
  },
  {
   "cell_type": "code",
   "execution_count": 93,
   "id": "4d865dae-9a0e-4adb-b845-05d8fb4664f1",
   "metadata": {},
   "outputs": [
    {
     "name": "stdin",
     "output_type": "stream",
     "text": [
      "좋아하는 과일은?: 봄\n"
     ]
    },
    {
     "name": "stdout",
     "output_type": "stream",
     "text": [
      "정답입니다\n"
     ]
    }
   ],
   "source": [
    "#119\n",
    "\n",
    "fruit = {\"봄\" : \"딸기\", \"여름\" : \"토마토\", \"가을\" : \"사과\"}\n",
    "x = input(\"좋아하는 과일은?:\")\n",
    "if x in fruit:\n",
    "    print(\"정답입니다\")\n",
    "else :\n",
    "    print(\"오답입니다.\")"
   ]
  },
  {
   "cell_type": "code",
   "execution_count": 95,
   "id": "5b235be9-954e-47e4-9bc9-2b2d0acae0e0",
   "metadata": {},
   "outputs": [
    {
     "name": "stdin",
     "output_type": "stream",
     "text": [
      "좋아하는 과일은? 한라봉\n"
     ]
    },
    {
     "name": "stdout",
     "output_type": "stream",
     "text": [
      "오답입니다.\n"
     ]
    }
   ],
   "source": [
    "#120\n",
    "#답지봄..\n",
    "fruit = {\"봄\" : \"딸기\", \"여름\" : \"토마토\", \"가을\" : \"사과\"}\n",
    "user = input(\"좋아하는 과일은?\")\n",
    "if user in fruit.values():\n",
    "    print(\"정답입니다.\")\n",
    "else:\n",
    "    print(\"오답입니다.\")"
   ]
  },
  {
   "cell_type": "code",
   "execution_count": 101,
   "id": "efa0fbf9-85cc-48df-9aea-90df9cd63ba0",
   "metadata": {},
   "outputs": [
    {
     "name": "stdin",
     "output_type": "stream",
     "text": [
      " X\n"
     ]
    },
    {
     "name": "stdout",
     "output_type": "stream",
     "text": [
      "x\n"
     ]
    }
   ],
   "source": [
    "#121\n",
    "x = input(\"\")\n",
    "if x.islower():\n",
    "    print(x.upper())\n",
    "else:\n",
    "    print(x.lower())"
   ]
  },
  {
   "cell_type": "code",
   "execution_count": 113,
   "id": "8af32ca3-c119-4e44-9485-8f22b7a2dac5",
   "metadata": {},
   "outputs": [
    {
     "name": "stdin",
     "output_type": "stream",
     "text": [
      "학점을 입력하세요: 11\n"
     ]
    },
    {
     "name": "stdout",
     "output_type": "stream",
     "text": [
      "E\n"
     ]
    }
   ],
   "source": [
    "#122\n",
    "\n",
    "x = input(\"학점을 입력하세요:\")\n",
    "x = int(x)\n",
    "if x >= 81:\n",
    "    print(\"A\")\n",
    "elif 61 <= x < 81:\n",
    "    print(\"B\")\n",
    "elif 41 <= x < 61:\n",
    "    print(\"C\")\n",
    "elif 21 <= x < 41:\n",
    "    print(\"D\")\n",
    "else:\n",
    "    print(\"E\")"
   ]
  },
  {
   "cell_type": "code",
   "execution_count": 117,
   "id": "f96c9115-2a00-4325-b064-e3fae45c673b",
   "metadata": {},
   "outputs": [
    {
     "name": "stdin",
     "output_type": "stream",
     "text": [
      "입력:  달러\n"
     ]
    },
    {
     "ename": "ValueError",
     "evalue": "not enough values to unpack (expected 2, got 1)",
     "output_type": "error",
     "traceback": [
      "\u001b[1;31m---------------------------------------------------------------------------\u001b[0m",
      "\u001b[1;31mValueError\u001b[0m                                Traceback (most recent call last)",
      "Cell \u001b[1;32mIn[117], line 8\u001b[0m\n\u001b[0;32m      3\u001b[0m 환율 \u001b[38;5;241m=\u001b[39m {\u001b[38;5;124m\"\u001b[39m\u001b[38;5;124m달러\u001b[39m\u001b[38;5;124m\"\u001b[39m: \u001b[38;5;241m1167\u001b[39m, \n\u001b[0;32m      4\u001b[0m         \u001b[38;5;124m\"\u001b[39m\u001b[38;5;124m엔\u001b[39m\u001b[38;5;124m\"\u001b[39m: \u001b[38;5;241m1.096\u001b[39m, \n\u001b[0;32m      5\u001b[0m         \u001b[38;5;124m\"\u001b[39m\u001b[38;5;124m유로\u001b[39m\u001b[38;5;124m\"\u001b[39m: \u001b[38;5;241m1268\u001b[39m, \n\u001b[0;32m      6\u001b[0m         \u001b[38;5;124m\"\u001b[39m\u001b[38;5;124m위안\u001b[39m\u001b[38;5;124m\"\u001b[39m: \u001b[38;5;241m171\u001b[39m}\n\u001b[0;32m      7\u001b[0m user \u001b[38;5;241m=\u001b[39m \u001b[38;5;28minput\u001b[39m(\u001b[38;5;124m\"\u001b[39m\u001b[38;5;124m입력: \u001b[39m\u001b[38;5;124m\"\u001b[39m)\n\u001b[1;32m----> 8\u001b[0m num, currency \u001b[38;5;241m=\u001b[39m user\u001b[38;5;241m.\u001b[39msplit()\n\u001b[0;32m      9\u001b[0m \u001b[38;5;28mprint\u001b[39m(\u001b[38;5;28mfloat\u001b[39m(num) \u001b[38;5;241m*\u001b[39m 환율[currency], \u001b[38;5;124m\"\u001b[39m\u001b[38;5;124m원\u001b[39m\u001b[38;5;124m\"\u001b[39m)\n",
      "\u001b[1;31mValueError\u001b[0m: not enough values to unpack (expected 2, got 1)"
     ]
    }
   ],
   "source": [
    "#123\n",
    "#이건 도저히 모르겠다.\n",
    "환율 = {\"달러\": 1167, \n",
    "        \"엔\": 1.096, \n",
    "        \"유로\": 1268, \n",
    "        \"위안\": 171}\n",
    "user = input(\"입력: \")\n",
    "num, currency = user.split()\n",
    "print(float(num) * 환율[currency], \"원\")"
   ]
  },
  {
   "cell_type": "code",
   "execution_count": 121,
   "id": "c7227f68-1b11-4d86-84ca-b4b4b29bdfc7",
   "metadata": {},
   "outputs": [
    {
     "name": "stdin",
     "output_type": "stream",
     "text": [
      "첫번째 숫자를 입력하세요.: 5\n",
      "두번째 숫자를 입력하세요.: 1\n",
      "세번째 숫자를 입력하세요.: 3\n"
     ]
    },
    {
     "name": "stdout",
     "output_type": "stream",
     "text": [
      "5\n"
     ]
    }
   ],
   "source": [
    "#124\n",
    "\n",
    "num1 = input(\"첫번째 숫자를 입력하세요.:\")\n",
    "num2 = input(\"두번째 숫자를 입력하세요.:\")\n",
    "num3 = input(\"세번째 숫자를 입력하세요.:\")\n",
    "\n",
    "num1 = int(num1)\n",
    "num2 = int(num2)\n",
    "num3 = int(num3)\n",
    "\n",
    "if num1 > num2 and num1 > num3:\n",
    "    print(num1)\n",
    "elif num2 > num1 and num2 > num3:\n",
    "    print(num2)\n",
    "else:\n",
    "    print(num3)"
   ]
  },
  {
   "cell_type": "code",
   "execution_count": null,
   "id": "3a076cc5-789f-4abc-bfbe-974b2a07d6f9",
   "metadata": {},
   "outputs": [],
   "source": [
    "#125\n",
    "\n",
    "num = {011 : \"skt\", 016:\"kt\", 019:\"lgu\", 010:\"알수없음\"}\n",
    "num = input(\"앞자리를 입력해주세요:\")\n",
    "if \n",
    "\n",
    "# 하다가 포기\n",
    "\n",
    "number = input(\"휴대전화 번호 입력: \")\n",
    "num = number.split(\"-\")[0]\n",
    "if num == \"011\":\n",
    "    com = \"SKT\"\n",
    "elif num == \"016\":\n",
    "    com = \"KT\"\n",
    "elif num == \"019\":\n",
    "    com = \"LGU\"\n",
    "else:\n",
    "    com = \"알수없음\"\n",
    "print(f\"당신은 {com} 사용자입니다.\")"
   ]
  },
  {
   "cell_type": "code",
   "execution_count": 123,
   "id": "7f340975-a844-46dd-b2ce-5c17f1508270",
   "metadata": {},
   "outputs": [
    {
     "name": "stdin",
     "output_type": "stream",
     "text": [
      "우편번호:  01011\n"
     ]
    },
    {
     "name": "stdout",
     "output_type": "stream",
     "text": [
      "강북구\n"
     ]
    }
   ],
   "source": [
    "#126\n",
    "\n",
    "우편번호 = input(\"우편번호: \")\n",
    "우편번호 = 우편번호[:3]\n",
    "if 우편번호 in [\"010\", \"011\", \"012\"]:\n",
    "    print(\"강북구\")\n",
    "elif 우편번호 in [\"014\", \"015\", \"016\"]:\n",
    "    print(\"도봉구\")\n",
    "else:\n",
    "    print(\"노원구\")"
   ]
  },
  {
   "cell_type": "code",
   "execution_count": 133,
   "id": "d0ac3ced-d68c-4d59-b036-dfadd179a9ba",
   "metadata": {},
   "outputs": [
    {
     "name": "stdin",
     "output_type": "stream",
     "text": [
      "주민번호: 88-44\n"
     ]
    },
    {
     "ename": "IndexError",
     "evalue": "string index out of range",
     "output_type": "error",
     "traceback": [
      "\u001b[1;31m---------------------------------------------------------------------------\u001b[0m",
      "\u001b[1;31mIndexError\u001b[0m                                Traceback (most recent call last)",
      "Cell \u001b[1;32mIn[133], line 3\u001b[0m\n\u001b[0;32m      1\u001b[0m \u001b[38;5;66;03m#127\u001b[39;00m\n\u001b[0;32m      2\u001b[0m 주민번호 \u001b[38;5;241m=\u001b[39m \u001b[38;5;28minput\u001b[39m(\u001b[38;5;124m\"\u001b[39m\u001b[38;5;124m주민번호:\u001b[39m\u001b[38;5;124m\"\u001b[39m)\n\u001b[1;32m----> 3\u001b[0m 주민번호 \u001b[38;5;241m=\u001b[39m 주민번호[\u001b[38;5;241m7\u001b[39m]\n\u001b[0;32m      4\u001b[0m \u001b[38;5;28;01mif\u001b[39;00m 주민번호 \u001b[38;5;129;01min\u001b[39;00m [\u001b[38;5;124m\"\u001b[39m\u001b[38;5;124m1\u001b[39m\u001b[38;5;124m\"\u001b[39m,\u001b[38;5;124m\"\u001b[39m\u001b[38;5;124m3\u001b[39m\u001b[38;5;124m\"\u001b[39m]:\n\u001b[0;32m      5\u001b[0m     \u001b[38;5;28mprint\u001b[39m (\u001b[38;5;124m\"\u001b[39m\u001b[38;5;124m남자\u001b[39m\u001b[38;5;124m\"\u001b[39m)\n",
      "\u001b[1;31mIndexError\u001b[0m: string index out of range"
     ]
    }
   ],
   "source": [
    "#127\n",
    "주민번호 = input(\"주민번호:\")\n",
    "주민번호 = 주민번호[7]\n",
    "if 주민번호 in [\"1\",\"3\"]:\n",
    "    print (\"남자\")\n",
    "else:\n",
    "    print (\"여자\")"
   ]
  },
  {
   "cell_type": "code",
   "execution_count": null,
   "id": "9e34a753-6537-45c3-830a-9ef28c33270a",
   "metadata": {},
   "outputs": [],
   "source": [
    "#128\n",
    "\n",
    "주민번호 = input(\"주민번호:\")\n",
    "주민번호 = 주민번호[8:9]\n",
    "if 주민번호 in [\"00\",\"01\"]:\n",
    "    print (\"남자\")\n",
    "else:\n",
    "    print (\"여자\")\n",
    "\n",
    "#포기\n",
    "주민번호 = input(\"주민등록번호: \")\n",
    "뒷자리 = 주민번호.split(\"-\")[1]\n",
    "if 0 <= int(뒷자리[1:3]) <= 8:\n",
    "    print(\"서울입니다.\")\n",
    "else:\n",
    "    print(\"서울이 아닙니다.\")"
   ]
  },
  {
   "cell_type": "code",
   "execution_count": 135,
   "id": "58dffea2-67f4-429d-b3e8-1d912ab927ee",
   "metadata": {},
   "outputs": [
    {
     "name": "stdin",
     "output_type": "stream",
     "text": [
      "주민등록번호:  96496484-4684\n"
     ]
    },
    {
     "ename": "ValueError",
     "evalue": "invalid literal for int() with base 10: '-'",
     "output_type": "error",
     "traceback": [
      "\u001b[1;31m---------------------------------------------------------------------------\u001b[0m",
      "\u001b[1;31mValueError\u001b[0m                                Traceback (most recent call last)",
      "Cell \u001b[1;32mIn[135], line 7\u001b[0m\n\u001b[0;32m      1\u001b[0m \u001b[38;5;66;03m#129\u001b[39;00m\n\u001b[0;32m      2\u001b[0m \n\u001b[0;32m      3\u001b[0m \u001b[38;5;66;03m#몰라요..\u001b[39;00m\n\u001b[0;32m      5\u001b[0m num \u001b[38;5;241m=\u001b[39m \u001b[38;5;28minput\u001b[39m(\u001b[38;5;124m\"\u001b[39m\u001b[38;5;124m주민등록번호: \u001b[39m\u001b[38;5;124m\"\u001b[39m)\n\u001b[0;32m      6\u001b[0m 계산1 \u001b[38;5;241m=\u001b[39m \u001b[38;5;28mint\u001b[39m(num[\u001b[38;5;241m0\u001b[39m]) \u001b[38;5;241m*\u001b[39m \u001b[38;5;241m2\u001b[39m \u001b[38;5;241m+\u001b[39m \u001b[38;5;28mint\u001b[39m(num[\u001b[38;5;241m1\u001b[39m]) \u001b[38;5;241m*\u001b[39m \u001b[38;5;241m3\u001b[39m \u001b[38;5;241m+\u001b[39m \u001b[38;5;28mint\u001b[39m(num[\u001b[38;5;241m2\u001b[39m]) \u001b[38;5;241m*\u001b[39m \u001b[38;5;241m4\u001b[39m \u001b[38;5;241m+\u001b[39m \u001b[38;5;28mint\u001b[39m(num[\u001b[38;5;241m3\u001b[39m]) \u001b[38;5;241m*\u001b[39m \u001b[38;5;241m5\u001b[39m \u001b[38;5;241m+\u001b[39m \u001b[38;5;28mint\u001b[39m(num[\u001b[38;5;241m4\u001b[39m]) \u001b[38;5;241m*\u001b[39m \u001b[38;5;241m6\u001b[39m \u001b[38;5;241m+\u001b[39m \\\n\u001b[1;32m----> 7\u001b[0m         \u001b[38;5;28mint\u001b[39m(num[\u001b[38;5;241m5\u001b[39m]) \u001b[38;5;241m*\u001b[39m \u001b[38;5;241m7\u001b[39m \u001b[38;5;241m+\u001b[39m \u001b[38;5;28mint\u001b[39m(num[\u001b[38;5;241m7\u001b[39m]) \u001b[38;5;241m*\u001b[39m \u001b[38;5;241m8\u001b[39m \u001b[38;5;241m+\u001b[39m \u001b[38;5;28mint\u001b[39m(num[\u001b[38;5;241m8\u001b[39m]) \u001b[38;5;241m*\u001b[39m \u001b[38;5;241m9\u001b[39m \u001b[38;5;241m+\u001b[39m \u001b[38;5;28mint\u001b[39m(num[\u001b[38;5;241m9\u001b[39m]) \u001b[38;5;241m*\u001b[39m \u001b[38;5;241m2\u001b[39m \u001b[38;5;241m+\u001b[39m \u001b[38;5;28mint\u001b[39m(num[\u001b[38;5;241m10\u001b[39m])\u001b[38;5;241m*\u001b[39m \u001b[38;5;241m3\u001b[39m \u001b[38;5;241m+\u001b[39m \\\n\u001b[0;32m      8\u001b[0m         \u001b[38;5;28mint\u001b[39m(num[\u001b[38;5;241m11\u001b[39m])\u001b[38;5;241m*\u001b[39m \u001b[38;5;241m4\u001b[39m \u001b[38;5;241m+\u001b[39m \u001b[38;5;28mint\u001b[39m(num[\u001b[38;5;241m12\u001b[39m]) \u001b[38;5;241m*\u001b[39m \u001b[38;5;241m5\u001b[39m\n\u001b[0;32m      9\u001b[0m 계산2 \u001b[38;5;241m=\u001b[39m \u001b[38;5;241m11\u001b[39m \u001b[38;5;241m-\u001b[39m (계산1 \u001b[38;5;241m%\u001b[39m \u001b[38;5;241m11\u001b[39m)\n\u001b[0;32m     10\u001b[0m 계산3 \u001b[38;5;241m=\u001b[39m \u001b[38;5;28mstr\u001b[39m(계산2)\n",
      "\u001b[1;31mValueError\u001b[0m: invalid literal for int() with base 10: '-'"
     ]
    }
   ],
   "source": [
    "#129\n",
    "\n",
    "#몰라요..\n",
    "\n",
    "num = input(\"주민등록번호: \")\n",
    "계산1 = int(num[0]) * 2 + int(num[1]) * 3 + int(num[2]) * 4 + int(num[3]) * 5 + int(num[4]) * 6 + \\\n",
    "        int(num[5]) * 7 + int(num[7]) * 8 + int(num[8]) * 9 + int(num[9]) * 2 + int(num[10])* 3 + \\\n",
    "        int(num[11])* 4 + int(num[12]) * 5\n",
    "계산2 = 11 - (계산1 % 11)\n",
    "계산3 = str(계산2)\n",
    "\n",
    "if num[-1] == 계산3[-1]:\n",
    "    print(\"유효한 주민등록번호입니다.\")\n",
    "else:\n",
    "    print(\"유효하지 않은 주민등록번호입니다.\")"
   ]
  },
  {
   "cell_type": "code",
   "execution_count": 137,
   "id": "0c18c611-08a2-4dce-90bb-1aaa80a67d4f",
   "metadata": {},
   "outputs": [
    {
     "name": "stdout",
     "output_type": "stream",
     "text": [
      "상승장\n"
     ]
    }
   ],
   "source": [
    "#130\n",
    "\n",
    "#이건뭐에요..\n",
    "\n",
    "import requests\n",
    "btc = requests.get(\"https://api.bithumb.com/public/ticker/\").json()['data']\n",
    "\n",
    "변동폭 = float(btc['max_price']) - float(btc['min_price'])\n",
    "시가 = float(btc['opening_price'])\n",
    "최고가 = float(btc['max_price'])\n",
    "\n",
    "if (시가+변동폭) > 최고가:\n",
    "    print(\"상승장\")\n",
    "else:\n",
    "    print(\"하락장\")"
   ]
  },
  {
   "cell_type": "code",
   "execution_count": 141,
   "id": "5b4e06dc-d369-4f65-91a2-fa7bbfa8a7b4",
   "metadata": {},
   "outputs": [],
   "source": [
    "#131\n",
    "\n",
    "#사과\n",
    "#귤\n",
    "#수박"
   ]
  },
  {
   "cell_type": "code",
   "execution_count": 143,
   "id": "79457bdf-9121-4d1b-9e95-cd5de46b77bf",
   "metadata": {},
   "outputs": [],
   "source": [
    "# 132\n",
    "#모르겠따."
   ]
  },
  {
   "cell_type": "code",
   "execution_count": 145,
   "id": "edf81454-2eb4-40cd-b7c6-f84cc913c0f0",
   "metadata": {},
   "outputs": [
    {
     "name": "stdout",
     "output_type": "stream",
     "text": [
      "A\n",
      "B\n",
      "C\n"
     ]
    }
   ],
   "source": [
    "#133\n",
    "변수 = \"A\"\n",
    "print(변수)\n",
    "변수 = \"B\"\n",
    "print(변수)\n",
    "변수 = \"C\"\n",
    "print(변수)\n"
   ]
  },
  {
   "cell_type": "code",
   "execution_count": 147,
   "id": "5d7829a7-2b24-4cfb-b13c-e542e8cb639c",
   "metadata": {},
   "outputs": [
    {
     "name": "stdout",
     "output_type": "stream",
     "text": [
      "출력: A\n",
      "출력: B\n",
      "출력: C\n"
     ]
    }
   ],
   "source": [
    "#134\n",
    "\n",
    "변수 = \"A\"\n",
    "print(\"출력:\", 변수)\n",
    "변수 = \"B\"\n",
    "print(\"출력:\", 변수)\n",
    "변수 = \"C\"\n",
    "print(\"출력:\", 변수)"
   ]
  },
  {
   "cell_type": "code",
   "execution_count": 149,
   "id": "331be04c-b187-46ac-8a84-1f0432e19add",
   "metadata": {},
   "outputs": [
    {
     "name": "stdout",
     "output_type": "stream",
     "text": [
      "변환: a\n",
      "변환: b\n",
      "변환: c\n"
     ]
    }
   ],
   "source": [
    "#135\n",
    "변수 = \"A\"\n",
    "b = 변수.lower()\n",
    "print(\"변환:\", b)\n",
    "변수 = \"B\"\n",
    "b = 변수.lower()\n",
    "print(\"변환:\", b)\n",
    "변수 = \"C\"\n",
    "b = 변수.lower()\n",
    "print(\"변환:\", b)"
   ]
  },
  {
   "cell_type": "code",
   "execution_count": 151,
   "id": "2bbf9bcb-846d-42b1-8fa5-9b2318ec05a2",
   "metadata": {},
   "outputs": [
    {
     "name": "stdout",
     "output_type": "stream",
     "text": [
      "10\n",
      "20\n",
      "30\n"
     ]
    }
   ],
   "source": [
    "#136\n",
    "\n",
    "for 변수 in [\"10\", \"20\", \"30\"]:\n",
    "    print(변수)"
   ]
  },
  {
   "cell_type": "code",
   "execution_count": 153,
   "id": "f7c3e944-2d9e-4594-990b-c37051b2849d",
   "metadata": {},
   "outputs": [
    {
     "name": "stdout",
     "output_type": "stream",
     "text": [
      "10\n",
      "20\n",
      "30\n"
     ]
    }
   ],
   "source": [
    "#137\n",
    "\n",
    "for 변수 in [10, 20, 30]:\n",
    "  print(변수)"
   ]
  },
  {
   "cell_type": "code",
   "execution_count": 155,
   "id": "01448b8d-322f-4288-bcb7-05c60971324f",
   "metadata": {},
   "outputs": [
    {
     "name": "stdout",
     "output_type": "stream",
     "text": [
      "10\n",
      "-------\n",
      "20\n",
      "-------\n",
      "30\n",
      "-------\n"
     ]
    }
   ],
   "source": [
    "#138\n",
    "for 변수 in [10, 20, 30]:\n",
    "  print(변수)\n",
    "  print(\"-------\")"
   ]
  },
  {
   "cell_type": "code",
   "execution_count": 164,
   "id": "d7f34a31-04c8-4468-8fcc-5e85ab10db9b",
   "metadata": {},
   "outputs": [
    {
     "name": "stdout",
     "output_type": "stream",
     "text": [
      "++++\n",
      "10\n",
      "++++\n",
      "20\n",
      "++++\n",
      "30\n",
      "++++\n",
      "10\n",
      "20\n",
      "30\n"
     ]
    }
   ],
   "source": [
    "#138\n",
    "for 변수 in [10, 20, 30]:\n",
    "    print(\"++++\")\n",
    "    print(변수)\n",
    "\n",
    "# 함정걸림\n",
    "\n",
    "print(\"++++\")\n",
    "for 변수 in [10, 20, 30]:\n",
    "  print(변수)"
   ]
  },
  {
   "cell_type": "code",
   "execution_count": 166,
   "id": "ce3e4a65-a7fd-4fe6-b045-21265e80cdf0",
   "metadata": {},
   "outputs": [
    {
     "name": "stdout",
     "output_type": "stream",
     "text": [
      "-------\n",
      "-------\n",
      "-------\n",
      "-------\n"
     ]
    }
   ],
   "source": [
    "#139\n",
    "for 변수 in [10, 20, 30, 40]:\n",
    "    print(\"-------\")"
   ]
  },
  {
   "cell_type": "code",
   "execution_count": 168,
   "id": "3ed2bec4-4c30-496b-85f8-b5970ea175d3",
   "metadata": {},
   "outputs": [
    {
     "name": "stdout",
     "output_type": "stream",
     "text": [
      "110\n",
      "210\n",
      "310\n"
     ]
    }
   ],
   "source": [
    "#140\n",
    "\n",
    "for 리스트 in [100, 200, 300]:\n",
    "    print(리스트 + 10)"
   ]
  },
  {
   "cell_type": "code",
   "execution_count": 172,
   "id": "81c2d752-ecb4-449c-89f8-dc1e9fc4bcc5",
   "metadata": {},
   "outputs": [
    {
     "name": "stdout",
     "output_type": "stream",
     "text": [
      "오늘의 메뉴: 김밥\n",
      "오늘의 메뉴: 라면\n",
      "오늘의 메뉴: 튀김\n"
     ]
    }
   ],
   "source": [
    "for 리스트 in [\"김밥\", \"라면\", \"튀김\"]:\n",
    "    print(\"오늘의 메뉴: \"+리스트)"
   ]
  },
  {
   "cell_type": "code",
   "execution_count": 174,
   "id": "d6f8ef62-a0ff-4f0c-be76-0d88aaca7e60",
   "metadata": {},
   "outputs": [
    {
     "name": "stdout",
     "output_type": "stream",
     "text": [
      "6\n",
      "4\n",
      "4\n"
     ]
    }
   ],
   "source": [
    "리스트 = [\"SK하이닉스\", \"삼성전자\", \"LG전자\"]\n",
    "for 종목명 in 리스트:\n",
    "  print(len(종목명))"
   ]
  },
  {
   "cell_type": "code",
   "execution_count": 182,
   "id": "e477e74c-0383-464b-94a0-900c9f65939e",
   "metadata": {},
   "outputs": [
    {
     "name": "stdout",
     "output_type": "stream",
     "text": [
      "dog 3\n",
      "cat 3\n",
      "parrot 6\n"
     ]
    }
   ],
   "source": [
    "리스트 = ['dog', 'cat', 'parrot']\n",
    "for 동물명 in 리스트:\n",
    "  print(동물명, len(동물명))"
   ]
  },
  {
   "cell_type": "code",
   "execution_count": 186,
   "id": "3e25a112-4672-466b-a01e-0df764937e1e",
   "metadata": {},
   "outputs": [
    {
     "name": "stdout",
     "output_type": "stream",
     "text": [
      "d\n",
      "c\n",
      "p\n"
     ]
    }
   ],
   "source": [
    "리스트 = ['dog', 'cat', 'parrot']\n",
    "for 동물명 in 리스트:\n",
    "    print(동물명[0])"
   ]
  },
  {
   "cell_type": "code",
   "execution_count": 194,
   "id": "55914653-ce31-4e67-a48e-3969dd18934b",
   "metadata": {},
   "outputs": [
    {
     "name": "stdout",
     "output_type": "stream",
     "text": [
      "3 x 1\n",
      "3 x 2\n",
      "3 x 3\n"
     ]
    }
   ],
   "source": [
    "리스트 = [1, 2, 3]\n",
    "for 숫자 in 리스트:\n",
    "    print(\"3 x\",숫자)"
   ]
  },
  {
   "cell_type": "code",
   "execution_count": 200,
   "id": "d8ffb129-e779-4e25-96d9-a3cc49192659",
   "metadata": {},
   "outputs": [
    {
     "name": "stdout",
     "output_type": "stream",
     "text": [
      "3 x 1 = 3\n",
      "3 x 2 = 6\n",
      "3 x 3 = 9\n"
     ]
    }
   ],
   "source": [
    "리스트 = [1, 2, 3]\n",
    "for 숫자 in 리스트:\n",
    "    print(\"3 x\",숫자,\"=\", 3 * 숫자)"
   ]
  },
  {
   "cell_type": "code",
   "execution_count": 202,
   "id": "aa4fdaab-49f3-415a-bc5c-77891915aef7",
   "metadata": {},
   "outputs": [
    {
     "name": "stdout",
     "output_type": "stream",
     "text": [
      "나\n",
      "다\n",
      "라\n"
     ]
    }
   ],
   "source": [
    "리스트 = [\"가\", \"나\", \"다\", \"라\"]\n",
    "나다라 = 리스트[1:]\n",
    "for 변수 in 나다라:\n",
    "  print(변수)"
   ]
  },
  {
   "cell_type": "code",
   "execution_count": 204,
   "id": "57e6dc19-a79c-42d0-8814-4405a68094d3",
   "metadata": {},
   "outputs": [
    {
     "name": "stdout",
     "output_type": "stream",
     "text": [
      "가\n",
      "다\n"
     ]
    }
   ],
   "source": [
    "리스트 = [\"가\", \"나\", \"다\", \"라\"]\n",
    "for 변수 in 리스트[: :2]:\n",
    "  print(변수)"
   ]
  },
  {
   "cell_type": "code",
   "execution_count": 206,
   "id": "a62e24d0-58c8-40b3-8d06-d4c7e05de5a4",
   "metadata": {},
   "outputs": [
    {
     "name": "stdout",
     "output_type": "stream",
     "text": [
      "라\n",
      "다\n",
      "나\n",
      "가\n"
     ]
    }
   ],
   "source": [
    "리스트 = [\"가\", \"나\", \"다\", \"라\"]\n",
    "for 변수 in 리스트[::-1]:\n",
    "  print(변수)"
   ]
  },
  {
   "cell_type": "code",
   "execution_count": 214,
   "id": "e2b475b1-d67e-4ffb-835f-96451cdd02a6",
   "metadata": {},
   "outputs": [
    {
     "name": "stdout",
     "output_type": "stream",
     "text": [
      "-20\n",
      "-3\n"
     ]
    }
   ],
   "source": [
    "리스트 = [3, -20, -3, 44]\n",
    "for 변수 in 리스트[1:3 :1]:\n",
    "  print(변수)"
   ]
  },
  {
   "cell_type": "code",
   "execution_count": 218,
   "id": "fb9fa26a-5ebc-4ced-8c38-7cb813f9cfce",
   "metadata": {},
   "outputs": [
    {
     "name": "stdout",
     "output_type": "stream",
     "text": [
      "3\n"
     ]
    }
   ],
   "source": [
    "리스트 = [3, 100, 23, 44]\n",
    "for 변수 in 리스트:\n",
    "  if 변수 % 3 == 0:\n",
    "    print(변수)"
   ]
  },
  {
   "cell_type": "code",
   "execution_count": 222,
   "id": "4f0b9c8e-58d7-428b-a56f-ac5174ff3e4b",
   "metadata": {},
   "outputs": [
    {
     "name": "stdout",
     "output_type": "stream",
     "text": [
      "12\n",
      "18\n"
     ]
    }
   ],
   "source": [
    "리스트 = [13, 21, 12, 14, 30, 18]\n",
    "for 변수 in 리스트:\n",
    "  if 변수 % 3 == 0 and 변수 < 20:\n",
    "    print(변수)"
   ]
  },
  {
   "cell_type": "code",
   "execution_count": 234,
   "id": "9cce126a-df3c-4f5d-b346-24fc4ba00536",
   "metadata": {},
   "outputs": [
    {
     "name": "stdout",
     "output_type": "stream",
     "text": [
      "study\n",
      "python\n",
      "language\n"
     ]
    }
   ],
   "source": [
    "리스트 = [\"I\", \"study\", \"python\", \"language\", \"!\"]\n",
    "for 변수 in 리스트:\n",
    "    if len(변수) >= 3:\n",
    "            print(변수)"
   ]
  },
  {
   "cell_type": "code",
   "execution_count": 242,
   "id": "0a854adf-010f-4d08-a838-0d0a9d2467a5",
   "metadata": {},
   "outputs": [
    {
     "name": "stdout",
     "output_type": "stream",
     "text": [
      "A\n",
      "D\n"
     ]
    }
   ],
   "source": [
    "리스트 = [\"A\", \"b\", \"c\", \"D\"]\n",
    "for 변수 in 리스트:\n",
    "    if 변수.isupper():\n",
    "     print(변수)"
   ]
  },
  {
   "cell_type": "code",
   "execution_count": 244,
   "id": "1104be70-816e-4002-8167-4d59aaa67360",
   "metadata": {},
   "outputs": [
    {
     "name": "stdout",
     "output_type": "stream",
     "text": [
      "b\n",
      "c\n"
     ]
    }
   ],
   "source": [
    "리스트 = [\"A\", \"b\", \"c\", \"D\"]\n",
    "for 변수 in 리스트:\n",
    "    if 변수.islower():\n",
    "     print(변수)"
   ]
  },
  {
   "cell_type": "code",
   "execution_count": 248,
   "id": "664db348-e289-4c07-96b4-ac2c3628e9b1",
   "metadata": {},
   "outputs": [
    {
     "name": "stdout",
     "output_type": "stream",
     "text": [
      "D\n",
      "C\n",
      "P\n"
     ]
    }
   ],
   "source": [
    "리스트 = ['dog', 'cat', 'parrot']\n",
    "for 변수 in 리스트:\n",
    "    print (변수[0].upper())"
   ]
  },
  {
   "cell_type": "code",
   "execution_count": 252,
   "id": "de20c851-9c46-4949-8c55-e4320c560a12",
   "metadata": {},
   "outputs": [
    {
     "name": "stdout",
     "output_type": "stream",
     "text": [
      "hello\n",
      "ex01\n",
      "intro\n"
     ]
    }
   ],
   "source": [
    "리스트 = ['hello.py', 'ex01.py', 'intro.hwp']\n",
    "for 변수 in 리스트:\n",
    "    split = 변수.split(\".\")\n",
    "    print(split[0])"
   ]
  },
  {
   "cell_type": "code",
   "execution_count": null,
   "id": "f03490c8-186b-4d24-bdd7-05d53c8b0c1f",
   "metadata": {},
   "outputs": [],
   "source": [
    "리스트 = ['intra.h', 'intra.c', 'define.h', 'run.py']\n",
    "for 변수 in 리스트:\n",
    "    split = 변수.split(\".\")\n",
    "    if split[1] == h\n",
    "    p"
   ]
  }
 ],
 "metadata": {
  "kernelspec": {
   "display_name": "Python 3 (ipykernel)",
   "language": "python",
   "name": "python3"
  },
  "language_info": {
   "codemirror_mode": {
    "name": "ipython",
    "version": 3
   },
   "file_extension": ".py",
   "mimetype": "text/x-python",
   "name": "python",
   "nbconvert_exporter": "python",
   "pygments_lexer": "ipython3",
   "version": "3.12.4"
  }
 },
 "nbformat": 4,
 "nbformat_minor": 5
}
