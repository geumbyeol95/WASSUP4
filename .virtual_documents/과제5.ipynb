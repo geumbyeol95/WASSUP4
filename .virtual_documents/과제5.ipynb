#201

def print_coin():
    print("비트코인")


#202

print_coin()


#203

for i in range(100):
    print_coin()


#204

def print_coins():
    for i in range(100):
        print("비트코인")


#205
#hello가 없어서?


#206

#틀려서 답지봤는데 모르겠다.


#207
왜 abc가 아니라 acb?


#210 까지 일단패스



#211

안녕
Hi


#212

7 15?


#213

()안에 값이없다.


#214

int와 문자열은 합칠 수 없다.


#215


def print_with_smile (string) :
    print (string + ":D")


#216

print_with_smile("안녕하세요")


def print_upper_price(price) :
    print(price * 1.3)


def print_sum (a, b) :
    print (a + b)


def print_arithmetic_operation(a, b):
    print(a, "+", b, "=", a + b)
    print(a, "-", b, "=", a - b)
    print(a, "*", b, "=", a * b)
    print(a, "/", b, "=", a / b)


#220 이게 머지
def print_max(a, b, c) :
    max_val = 0
    if a > max_val :
        max_val = a
    if b > max_val :
        max_val = b
    if c > max_val :
        max_val = c
    print(max_val)


#221
#입력된 문자열을 역순으로 출력하는 print_reverse 함수를 정의하라.
def print_reverse (string): 
    print(string[::-1])
print_reverse("python")


#222
#성적 리스트를 입력 받아 평균을 출력하는 print_score 함수를 정의하라
def print_score(score_list) :
    print(sum(score_list)/len(score_list)) 



#223
#하나의 리스트를 입력받아 짝수만 화면에 출력하는 print_even 함수를 정의하라.
def print_even (my_list) :
    for i in my_list :
        if i % 2 == 0 :
            print(i)
print_even ([1, 3, 2, 10, 12, 11, 15])   


#224
#하나의 딕셔너리를 입력받아 딕셔너리의 key 값을 화면에 출력하는 print_keys 함수를 정의하라
def print_keys(dic):
    for keys in dic.keys():
        print(keys)
print_keys ({"이름":"김말똥", "나이":30, "성별":0})


#225
#my_dict에는 날짜를 키값으로 OHLC가 리스트로 저장돼 있다.
def print_value_by_key (my_dict, key) :
    print(my_dict[key])
my_dict = {"10/26" : [100, 130, 100, 100],
           "10/27" : [10, 12, 10, 11]}
print_value_by_key  (my_dict, "10/26")


#226
#입력 문자열을 한 줄에 다섯글자씩 출력하는 print_5xn(string) 함수를 작성하라.
def print_5xn(line):
    chunk_num = int(len(line) / 5)
    for x in range(chunk_num + 1) :
        print(line[x * 5: x * 5 + 5])
print_5xn("아이엠어보이유알어걸")


#227
#문자열과 한줄에 출력될 글자 수를 입력을 받아 한 줄에 입력된 글자 수만큼 출력하는 print_mxn(string) 함수를 작성하라.
def print_mxn(line, num):
    chunk_num = int(len(line) / num)
    for x in range(chunk_num + 1) :
        print(line[x * num: x * num + num])
print_mxn("아이엠어보이유알어걸", 3)


#228
#연봉을 입력받아 월급을 계산하는 calc_monthly_salary(annual_salary) 함수를 정의하라. 회사는 연봉을 12개월로 나누어 분할 지급하며, 이 때 1원 미만은 버림한다.
def calc_monthly_salary(annual_pay) :
    monthly_pay = int(annual_pay / 12)
    return monthly_pay
calc_monthly_salary(12000000)


#229
#아래 코드의 실행 결과를 예측하라.
def my_print (a, b) :
    print("왼쪽:", a)
    print("오른쪽:", b)

my_print(a=100, b=200)
# 왼쪽 : 100  오른쪽 : 200 


#230
#아래 코드의 실행 결과를 예측하라.

def my_print (a, b) :
    print("왼쪽:", a)
    print("오른쪽:", b)

my_print(b=100, a=200)

# 왼쪽: 200 오른쪽 : 100 


#231
#아래 코드를 실행한 결과를 예상하라.
def n_plus_1 (n) :
    result = n + 1
    return result

result = n_plus_1 (3)
print(result)



#232
#문자열 하나를 입력받아 인터넷 주소를 반환하는 make_url 함수를 정의하라.
def make_url(string) :
    url = "www." + string + ".com"
    return url
make_url("naver")


#233
#문자열을 입력받아 각 문자들로 구성된 리스트로 반환하는 make_list 함수를 정의하라.
def make_list (string) :
    my_list = []
    for 변수 in string :
        my_list.append(변수)
    return my_list
make_list("abcd")


#234
#숫자로 구성된 하나의 리스트를 입력받아, 짝수들을 추출하여 리스트로 반환하는 pickup_even 함수를 구현하라.
def pickup_even(items):
    result = []
    for item in items:
        if item % 2 == 0:
            result.append(item)
    return result
pickup_even([3, 4, 5, 6, 7, 8])


#235
#콤마가 포함된 문자열 숫자를 입력받아 정수로 변환하는 convert_int 함수를 정의하라.
def convert_int (string) :
    return int(string.replace(',', ''))
convert_int("1,234,567")


#236
#아래 코드의 실행 결과를 예측하라.
def 함수(num) :
    return num + 4

a = 함수(10)
b = 함수(a)
c = 함수(b)
print(c)


#237
#아래 코드의 실행 결과를 예측하라
def 함수(num) :
    return num + 4

c = 함수(함수(함수(10)))
print(c)


#238
#아래 코드의 실행 결과를 예측하라.
def 함수1(num) :
    return num + 4

def 함수2(num) :
    return num * 10

a = 함수1(10)
c = 함수2(a)
print(c)


#239
#아래 코드의 실행 결과를 예측하라.
def 함수1(num) :
    return num + 4

def 함수2(num) :
    num = num + 2
    return 함수1(num)

c = 함수2(10)
print(c)


#240
#아래 코드의 실행 결과를 예측하라.
def 함수0(num) :
    return num * 2

def 함수1(num) :
    return 함수0(num + 2)

def 함수2(num) :
    num = num + 10
    return 함수1(num)

c = 함수2(2)
print(c)


#291 파일 쓰기

f = open("C:/workspace/WASSUP4/매수종목1.txt", mode="wt", encoding="utf-8")
f.write("005930\n")
f.write("005380\n")
f.write("035420")
f.close()


#293 CSV 파일 쓰기
#바탕화면에 '매수종목.csv' 파일을 생성한 후 다음과 같이 종목코드와 종목명을 파일에 써보세요. 인코딩은 'cp949'를 사용해야합니다.
import csv

f = open("C:/workspace/WASSUP4/매수종목.csv", mode="wt", encoding="cp949", newline='')
writer = csv.writer(f)
writer.writerow(["종목명", "종목코드", "PER"])
writer.writerow(["삼성전자", "005930", 15.59])
writer.writerow(["NAVER", "035420", 55.82])
f.close()


#294 파일 읽기
#바탕화면에 생성한 '매수종목1.txt' 파일을 읽은 후 종목코드를 리스트에 저장해보세요.
f = open("C:/workspace/WASSUP4/매수종목1.txt", encoding="utf-8")
lines = f.readlines()   # python list

codes = []
for line in lines:
    code = line.strip()  #'\n'
    codes.append(code)

print(codes)

f.close()


#295 파일 읽기
# 계속 오류발생 뭐지..


#296 예외처리
#문자열 PER (Price to Earning Ratio) 값을 실수로 변환할 때 에러가 발생합니다. 예외처리를 통해 에러가 발생하는 PER은 0으로 출력하세요.
per = ["10.31", "", "8.00"]

for i in per:
    try:
        print(float(i))
    except:
        print(0)


#297 예외처리 및 리스트에 저장
#문자열로 표현된 PER 값을 실수로 변환한 후 이를 새로운 리스트에 저장해보세요.
per = ["10.31", "", "8.00"]
new_per = []

for i in per:
    try:
        v = float(i)
    except:
        v = 0
    new_per.append(v)

print(new_per)


#298 특정 예외만 처리하기
#어떤 값을 0으로 나누면 ZeroDivisionError 에러가 발생합니다. try ~ except로 모든 에러에 대해 예외처리하지 말고 ZeroDivisionError 에러만 예외처리해보세요.
try:
    b = 3 / 0
except ZeroDivisionError:
    print("0으로 나누면 안돼요")


#299 예외의 메시지 출력하기
data = [1, 2, 3]

for i in range(5):
    try:
        print(data[i])
    except IndexError as e:
        print(e)


per = ["10.31", "", "8.00"]

for i in per:
    try:
        print(float(i))
    except:
        print(0)
    else:
        print("clean data")
    finally:
        print("변환 완료")



