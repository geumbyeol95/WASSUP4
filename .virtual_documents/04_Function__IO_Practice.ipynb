


def is_odd(number):
    if number % 2 == 1:
        return True
    else:
        return False


is_odd(511)





def avg_numbers(*args):
    result = 0
    for i in args:
        result += i
    return result / len(args)

print(avg_numbers(1,2))       
print(avg_numbers(1,2,3,4,5))





#모르것다
input1 = input("첫번째 숫자를 입력하세요:")
input2 = input("두번째 숫자를 입력하세요:")

total = input1 + input2
print("두 수의 합은 %s 입니다" % total)

#답지
input1 = int(input("첫번째 숫자를 입력하세요:"))

# try - except - finally 적용해보기
try:
    input2 = int(input("두번째 숫자를 입력하세요:")) # 시도해보고
except ValueError as e:
    print('숫자가 아닙니다')
    print(e) # 에러나오면 예외처리하고
finally:
    print('실행완료') # 에러든 아니든 반드시 실행할 내용

total = input1 + input2
print(f"두 수의 합은 {total} 입니다")





# 3. print("you","need","python")





f1 = open("test.txt", 'w')
f1.write("Life is too short")
f1.close()

f2 = open("test.txt", 'r')
print(f2.read())
f2.close()





user_input = input("저장할 내용을 입력하세요: ")
f = open('test.txt', 'a') # 내용을 추가하기 위해 'a'를 사용
f.write('\n') # 입력한 내용을 줄단위로 구분하기 위해 줄 바꿈 문자 삽입
f.write(user_input)
f.close()





f = open('test.txt', 'r')
body = f.read()
f.close()

body = body.replace('java', 'python')

f = open('test.txt', 'w')
f.write(body)
f.close()



