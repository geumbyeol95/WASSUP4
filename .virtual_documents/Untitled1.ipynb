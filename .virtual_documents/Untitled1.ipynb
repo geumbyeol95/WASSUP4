#201

def print_coin():
    print("비트코인")


#202

print_coin()


#203

for i in range(100):
    print_coin()


#204

def print_coins():
    for i in range(100):
        print("비트코인")


#205
#hello가 없어서?


#206

#틀려서 답지봤는데 모르겠다.


#207
왜 abc가 아니라 acb?


#210 까지 일단패스



#211

안녕
Hi


#212

7 15?


#213

()안에 값이없다.


#214

int와 문자열은 합칠 수 없다.


#215


def print_with_smile (string) :
    print (string + ":D")


#216

print_with_smile("안녕하세요")


def print_upper_price(price) :
    print(price * 1.3)


def print_sum (a, b) :
    print (a + b)


def print_arithmetic_operation(a, b):
    print(a, "+", b, "=", a + b)
    print(a, "-", b, "=", a - b)
    print(a, "*", b, "=", a * b)
    print(a, "/", b, "=", a / b)


#220 이게 머지
def print_max(a, b, c) :
    max_val = 0
    if a > max_val :
        max_val = a
    if b > max_val :
        max_val = b
    if c > max_val :
        max_val = c
    print(max_val)






