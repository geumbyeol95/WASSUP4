#1
print('Hello World')


#2
print("Mary`s cosmetics")


#3
print('신씨가 소리질렀다. "도둑이야"')


#4
print('C:\Windows')


#5
print("안녕하세요.\n만나서\t\t반갑습니다.")


#6
print("오늘은","일요일")


#7
print('print','kakao','sk','samsung', sep=';')


#8
print('print','kakao','sk','samsung', sep='/')


#9
print('first');print('second')


print('first', end='');print('second')


#10
5/3


#11
삼성전자 = 50000
총평가금액 = 삼성전자*10
print(총평가금액)


#12
시가총액 = 298000000000000
현재가 = 50000
per = 15.79

print('시가총액',end=''); print(시가총액)
print('현재가',end=''); print(현재가)
print('per',end=''); print(per)
#표 바인딩은 어떻게 하지


#13
s = 'hello'
t = 'python'

s+'!'+t


#14
2+2*3


#15
a=128
print(type(a))


#16
a="132"
print(type(a))


#17 ~ #19 이건 도저히 모르겠다.


#20
a = 48584
총금액 = a*36
print(총금액)



#21
letters = 'python'
print(letters[0],letters[2])


#22
license_plate = "24가 2210"
print(license_plate[4:])


#23 몰라서 대충 배낌
string = "홀짝홀짝홀짝"
print(string[::2])


#24
string = 'Python'
print(string[::-1])


#25
phone_number = "010-1111-2222"
phone_number1 = phone_number.replace('-',' ')
print(phone_number1)


#26
phone_number = "010-1111-2222"
phone_number1 = phone_number.replace('-','')
print(phone_number1)


#27
url = "http://sharebook.kr"
print(url[-2:])


#28 lang = 'python'
lang[0] = 'P'
print(lang)


#29
string = 'abcdfe2a354a32a'
print(string.replace('a','A'))


#30
string = 'abcd'
string.replace('b', 'B')
print(string)
#aBcd


#31
a = "3"
b = "4"
print(a + b)
#34?


#32
print("Hi" * 3)
#hihihi?


#33
print('-'*80)


#34
t1 = 'python'
t2 = 'java'
print((t1+t2)*3)

t1 = 'python'
t2 = 'java'
print((t1+' '+t2+' ')*3)


#35
name1 = "김민수" 
age1 = 10
name2 = "이철희"
age2 = 13

print("이름 : %s 나이 : %d" % (name1, age1))
print("이름 : %s 나이 : %d" % (name2, age2))


#36
print("이름: {} 나이: {}".format (name1, age1))
print("이름: {} 나이: {}".format (name2, age2))


#37
print(f"이름: {name1} 나이: {age1}")
print(f"이름: {name2} 나이: {age2}")


#38
상장주식수 = "5,969,782,550"
print(상장주식수.replace(',',''))


#39
분기 = "2020/03(E) (IFRS연결)"
print(분기[:7])


#40
data = "   삼성전자    "
print(data.strip())


#41
ticker = "btc_krw"
print(ticker.upper())


#42
ticker = "BTC_KRW"
print(ticker.lower())


#43 일단 따라해봄
a = "hello"
a = a.capitalize()
a


#44
file_name = "보고서.xlsx"
file_name.endswith("xlsx")


#45
file_name = "보고서.xlsx"
file_name.endswith("xls")


#46
file_name = "2020_보고서.xlsx"
file_name.startswith("2020")


#47
a = "hello world"
a.split()


#48


ticker = "btc_krw"
ticker.split("_")


#49
date = "2020-05-01"
date.split("-")


#50
data = "039490     "
data.rstrip()



