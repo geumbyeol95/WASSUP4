#51
movie_rank = ["닥터 스트레인지", "스플릿", "럭키"]
print(movie_rank)


#52 051의 movie_rank 리스트에 "배트맨"을 추가하라.

movie_rank.append('배트맨')
movie_rank


# 53 movie_rank 리스트에는 아래와 같이 네 개의 영화 제목이 바인딩되어 있다. "슈퍼맨"을 "닥터 스트레인지"와 "스플릿" 사이에 추가하라.
movie_rank = ['닥터 스트레인지', '스플릿', '럭키', '배트맨']
movie_rank.insert(1, "슈퍼맨")
print(movie_rank)


#054 movie_rank 리스트에서 '럭키'를 삭제하라.

movie_rank = ['닥터 스트레인지', '슈퍼맨', '스플릿', '럭키', '배트맨']
del movie_rank[3]
print(movie_rank)


#55 movie_rank 리스트에서 '스플릿' 과 '배트맨'을 를 삭제하라.

movie_rank = ['닥터 스트레인지', '슈퍼맨', '스플릿', '배트맨']
del movie_rank[2:]
print (movie_rank)


#056 lang1과 lang2 리스트가 있을 때 lang1과 lang2의 원소를 모두 갖고 있는 langs 리스트를 만들어라.
lang1 = ["C", "C++", "JAVA"]
lang2 = ["Python", "Go", "C#"]

lang3 = lang1 + lang2
print(lang3)


#057 다음 리스트에서 최댓값과 최솟값을 출력하라. (힌트: min(), max() 함수 사용)
nums = [1, 2, 3, 4, 5, 6, 7]
print(min(nums))
print(max(nums))


#58다음 리스트의 합을 출력하라.

nums = [1, 2, 3, 4, 5]

#답지

print(sum(nums))


#59 다음 리스트에 저장된 데이터의 개수를 화면에 구하하라.
cook = ["피자", "김밥", "만두", "양념치킨", "족발", "피자", "김치만두", "쫄면", "소시지", "라면", "팥빙수", "김치전"]
len(cook)


#60 평균
nums = [1, 2, 3, 4, 5]
avg = sum(nums)/len(nums)
print(avg)


# 061 price 변수에는 날짜와 종가 정보가 저장돼 있다. 날짜 정보를 제외하고 가격 정보만을 출력하라. (힌트 : 슬라이싱)
price = ['20180728', 100, 130, 140, 150, 160, 170]
price[1:]


#062 슬라이싱을 사용해서 홀수만 출력하라.


nums = [1, 2, 3, 4, 5, 6, 7, 8, 9, 10]
print(nums[::2])


#063 슬라이싱을 사용해서 짝수만 출력하라.

nums = [1, 2, 3, 4, 5, 6, 7, 8, 9, 10]

print(nums[1::2])


#064 슬라이싱을 사용해서 리스트의 숫자를 역 방향으로 출력하라.


nums = [1, 2, 3, 4, 5]


print(nums[::-1])


#065
interest = ['삼성전자', 'LG전자', 'Naver']
print(interest[0], interest[2])


#66
interest = ['삼성전자', 'LG전자', 'Naver', 'SK하이닉스', '미래에셋대우']
print (" ".join(interest))


#67 interest 리스트에는 아래의 데이터가 바인딩되어 있다.

interest = ['삼성전자', 'LG전자', 'Naver', 'SK하이닉스', '미래에셋대우']
print ("/".join(interest))


#68
interest = ['삼성전자', 'LG전자', 'Naver', 'SK하이닉스', '미래에셋대우']
print("\n".join(interest))


#69
string = "삼성전자/LG전자/Naver"
interest = string.split("/")
print(interest)


#70

data = [2, 4, 3, 1, 5, 10, 9]
set(data)


#71
my_variable = ()


#72
movie_rank = ('닥터스트레인지', '스플릿', '럭키')


#73
tuple = (1) 
#답지
tuple = (1,)


#74
t = (1, 2, 3)
t[0] = 'a'
Traceback (most recent call last):
  File "<pyshell#46>", line 1, in <module>
    t[0] = 'a'
TypeError: 'tuple' object does not support item assignment


t = 1, 2, 3, 4
type(t)


#76 포기


#77
interest = ('삼성전자', 'LG전자', 'SK Hynix')
data = list(interest)


print(data)


#78
interest = ['삼성전자', 'LG전자', 'SK Hynix']
data = tuple(interest)





type(data)


#80 몰라


#81~83 포기


#84
temp = { }



#85
icecream = {"메로나": 1000, "폴라포": 1200, "빵빠레": 1800}
print(icecream)


#86
icecream = {"메로나": 1000, "폴라포": 1200, "빵빠레": 1800}
icecream["죠스바"] = 1200
icecream["월드콘"] = 1500
print(icecream)


#87
ice = {'메로나': 1000,
       '폴로포': 1200,
       '빵빠레': 1800,
       '죠스바': 1200,
       '월드콘': 1500}
print ("메로나 가격", ice['메로나'])


#88
ice = {'메로나': 1000,
       '폴로포': 1200,
       '빵빠레': 1800,
       '죠스바': 1200,
       '월드콘': 1500}
del ice['메로나']


print(ice)


#89
ice = {'메로나': 1000,
       '폴로포': 1200,
       '빵빠레': 1800,
       '죠스바': 1200,
       '월드콘': 1500}
ice['메로나'] = 1300


#90
#누가바가 없어서


#90 번제부터는 주말간 재복습하자...
