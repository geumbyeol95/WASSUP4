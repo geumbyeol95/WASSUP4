


a = 80
b = 75
c = 55
print((a+b+c)/3)





type(13)
???

#답지
print(13%2)





pin = '881120-1068234'
a = pin[0:5]
b = pin[7:]
print(a)
print(b)





pin = "881120-1068234"
print(pin[-7])





a = "a:b:c:d"
b = a.replace(':','#')
print(b)





a = [1, 3, 5, 4, 2]
a.sort()
a.reverse()
print(a)





#답지

a = ['Life', 'is', 'too', 'short']
result = ' '.join(a)
print(result)





a = (1, 2, 3)
b = (4,)
c = (a+b)
print(c)





#포기





a = {'A':90, 'B':80, 'C':70}
result = a['B']
print(a)
print(result)





a = [1, 1, 1, 2, 2, 3, 3, 3, 4, 4, 5]
aSet =
b =
print(b)

포기





# 똑같이나온다, 같다고 설정했으니까..

a = b = [1, 2, 3]
a[1] = 4
print(b)



