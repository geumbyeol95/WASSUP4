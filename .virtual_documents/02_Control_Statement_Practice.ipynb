


#need?





result = 0
i = 1
while i <= 1000:
    if i % 3 == 0 :
        result += i
    i += 1
print(result)
# 들여쓰기 잘못했다가 무한으로 0을 출력하는 무언가가 만들어져서 튕겨버렸다.





#이번엔 * 이 무한출력됬다 문제가 뭐지.

i = 1
while i < 6:
    print('*'*i)
    i += 1





for i in range(1,100):
    print(i)





A = [70, 60, 55, 75, 95, 90, 80, 80, 85, 100]
total = 0
for score in A:
    total += score # A학급의 점수를 모두 더한다.
average = total/len(A) # 평균을 구하기 위해 총 점수를 총 학생수로 나눈다.
print(average)





numbers = [1, 2, 3, 4, 5]
result = [num for num in numbers if num % 2 == 1] 
print(result)



