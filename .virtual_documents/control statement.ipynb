


money = True
if money:
    print("택시를 타고 가라")
else:
    print("걸어 가라")


# 코드블럭 들여쓰기 에러
money = True
if money:
    print("택시를")
print("타고")    
    print("가라")


# 코드블럭 들여쓰기 에러
money = True
if money:
    print("택시를")
    print("타고")    
     print("가라")





x =3
y=2
x>y


x<y


x!=y


#만약 3000원 이상의 돈을 가지고 있으면 택시를 타고 가고, 그렇지 않으면 걸어가라.


money = 2000
if money >= 3000:
    print("택시를 타고 가라")
else:
    print("걸어 가라")


# 돈이 3000원 이상 있거나 카드가 있다면 택시를 타고 가고, 그렇지 않으면 걸어가라.
money = 4000
card = True
if money >= 3000 or 'card':
    print("택시를 타고 가라")
else:
    print("걸어 가라")


#in
1 in [1,2,3]


1 not in [1,2,3]


#만약 주머니에 돈이 있으면 택시를 타고 가고, 없으면 걸어가라.

pocket = ['money','card','phone']
if 'money' in ['money','card','phone']:
    print("택시를 타고 가라")
else:
    print("걸어 가라")





pocket = ['money','card','phone']
if 'money' in pocket:
    pass
else :
    print('걸어가라')








pocket = ['money','phone']
card = True

if 'money' in pocket:
    print('택시')
else:
    if card :
        parint('택시2')
    else:
        print('걸어가라')


pocket = ['money','phone']
card = True
if 'money' in pocket:
    print('택시')
elif 'phone' in pockey:
    print('택시')
else:
    print('걸어')





money = True
if 'money' in pocket:
    pass
else:
    print('카드를 꺼내라')


if 'money' in pocket:pass
else:print('카드를 꺼내라')





score = 90
if score >= 60:
    message = "success"
    print(message)
else:
    message = "failure"
    print(message)


message = "success" if score >= 60 else "failure"
print(message)


treeHit = 0
while treeHit < 10:
     treeHit = treeHit +1
     print("나무를 %d번 찍었습니다." % treeHit)
     if treeHit == 10:
         print("나무 넘어갑니다.")


prompt = '''
1. add
2. del
3. list
4. quit

enter number:'''
print(prompt)


input()


number = 0
while number != 4:
    print(prompt)
    number = int(input())





coffee = 10
money = 300
while money:
     print("돈을 받았으니 커피를 줍니다.")
     coffee = coffee -1
     print("남은 커피의 양은 %d개입니다." % coffee)
     if coffee == 0:
         print("커피가 다 떨어졌습니다. 판매를 중지합니다.")
         break


coffee = 10
money = 300
while money:
     number = int(input())
     print("돈을 받았으니 커피를 줍니다.")
     coffee = coffee -1
     print("남은 커피의 양은 %d개입니다." % coffee)
     if coffee == 0:
         print("커피가 다 떨어졌습니다. 판매를 중지합니다.")
         break





coffee = 10
money = 300
while money:
     number = int(input())
     print("돈을 받았으니 커피를 줍니다.")
     coffee = coffee -1
     print("남은 커피의 양은 %d개입니다." % coffee)
     if coffee == 0:
         print("커피가 다 떨어졌습니다. 판매를 중지합니다.")
         break
        


a= b
a


a = 'b'
print(a)


coffee = 10
money = 300
while money:
     number = int(input())
     print("돈을 받았으니 커피를 줍니다.")
     coffee = coffee -1
     print("남은 커피의 양은 %d개입니다." % coffee)
     if coffee == 0:
         print("커피가 다 떨어졌습니다. 판매를 중지합니다.")
         break


coffee = 10
while True:
    money = int(input('돈을 넣어주세요.'))

    if  money == 300:
        print('커피를 줍니다')
        coffee -= 1
        print(f'남은 커피의 양은{coffee}개 입니다.')
        
    elif money > 300:
        print('거스름돈 %d을 주고 커피를 줍니다.'%(money-300))
        coffee -= 1
        print(f'남은 커피의 양은{coffee}개 입니다.')

    else : 
        print('돈을 다시 돌려주고, 커피를 주지 않습니다.')
        print(f'남은 커피의 양은{coffee}개 입니다.')
        #남은 재고 체크
    if coffee == 0:
        print('커피가 다 떨어졌습니다. 판매를 중지합니다.')
        break    






a = 0
while a < 10:
    a += 1
    if a % 2 == 0:
        continue
    print(a)





# 전형적인 for 문

test_list = ['one', 'two', 'three']
for i in test_list:
    print(i)


a = [(1,2), (3,4), (5,6)]
for first,last in a:
    print(first+last)


#총 5명의 학생이 시험을 보았는데 시험 점수가 60점 이상이면 합격이고 그렇지 않으면 불합격이다. 합격인지, 불합격인지 결과를 보여 주시오.


score = [90,25,67,45,80]

number = 0
for s in score:
    print(s)
    number += 1
    if s >=60:
        print(f'{number}번 학생은 {s}합격입니다.')
    else:
        print(f'{number}번 학생은 {s}불합격입니다.')












