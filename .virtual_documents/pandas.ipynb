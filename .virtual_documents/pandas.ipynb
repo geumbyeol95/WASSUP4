# pandas
# series     1차원
# DataFrame  2차원


import pandas as pd
import numpy as np
#series
s = pd.Series([1,2,3,4,5,6,7,8,9])
print (type(s))
print (s.index)
print(s.dtype)
print(s)


s.index = ['A','B','C','D','E','F','G','H','I']
print(s)


s = pd.Series([1,2,3,4,5,6,7,8,9],['A','B','C','D','E','F','G','H','I'])
print(s)
print(s.index)
print(s.values)
print(s[0])
print(s['A'])
print(s.A)
print(s[0:5])
print(s['A':'D'])


# Dictionary (Map, JSON)-> Series

d = {'A' : 10 , 'D' : 20 , 'F':30, 'H':40}
print(type(d))
for key, value in d.items() :
    print (key, ":", value)
    print(d['A'])

#print(d.A)
#print(d[0:3])
#print(d['A' : 'F'])

s = pd.Series(d)
print(s.index)
print(s.values)
print(s['A'])
print(s.A)
print(s[0:3])
print(s['A' : 'F'])


# DataFrame
# Dictionary -> DataFrame
d = {
    'name' : [ 'kim', 'lee', 'park', 'jung' ],
    'age' : [25, 30, 35, 20],
    'tel' : ['1111-2222', '2222-1111', '3333-1111', '2222-3333']
}
print(type(d))
print (d)

df = pd.DataFrame(d)   # 데이터 프레임
print (df)
print(df.index)
print(df.columns)
print(df.values)
df.index.name = 'Num'
df.columns.name = 'User'
print(df)


#Numpy -> DataFrame
n = np.array(
    [['kim', 20, '1111-2222'],
     ['lee',30,'2222-1111'],
     ['park', 35, '3333-2222'],
     ['jung',25,'3333-1111']])

print(type(n))
print (n)
df = pd.DataFrame(n)

df.columns = ['name', 'age', 'tel']    #행에 이름
df.index = ['A' , 'B', 'C', 'D']       #열에 이름

print(df)
print(df.index)
print(df.columns)

df = pd.DataFrame(n , columns = ['name', 'age', 'tel'], index = ['A','B','C','D'])
print(df)

print(df.describe())

print(df['name'])
print(df[['name', 'tel']])
print(df['name'], [2])
print(df['name'], ['C'])
print(df['name'].C)
print(df['name']['B' : 'D'])


print (df[:][:])
print (df[:2][:1])
print(df[['name','tel']])
# print(df[[0,2]])  에러, 컬럼명이 있는 경우 숫자 X
# print(DF[0][0])


print(df['name'])
df['address'] = ['서울', '수원', '인천','안산']
df['age'] ['A'] = 30
df['adult'] = df['age'].astype(np.int64) > 30

del (df['adult'])
print(df)





#series 정렬

s = pd.Series([10,40,50,20,70,60], index=['a','b','f','d','g','u'])
s = s.sort_index()
s = s.sort_values()
print(s)


#DataFrame 정렬

df = pd.DataFrame([[4,5,1,2], [20,10,40,30], ['B','C','D','A']])


print(df)
df = df.sort_index()
print



