#161
for i in range(100):
    print(i)



#162
print(list(range(0, 10, 2)))
[0, 2, 4, 6, 8]


#163
for num in range(3, 31, 3):
    print (num)


#164

for i in range(100):
    print(99 - i)


#165
for num in range(10) :
    print(num / 10)


#166

for i in range(1, 10) :
    print (3, "x", i, " = ", 3 * i)


#167

num = 3
for i in range(1, 10, 2) :
    print (num, "x", i, " = ", num * i)


x = 0
for i in range(1, 11):
    x += i
print ("합계 :", x)


#169
x = 0
for i in range(1, 11, 2):
    x += i
print ("합계 :", x)


#170 모르겠음


result = 1
for i in range(1, 11) :
    result *= i
print(result)


list = [32100, 32150, 32000, 32500]
for i in range(len(list)):
    print(list[i])


list = [32100, 32150, 32000, 32500]
for i in range(len(list)):
    print(i,list[i])


#173 모르겠음

list = [32100, 32150, 32000, 32500]
for i in range(len(list)):
    print(3-i,list[i])


list = [32100, 32150, 32000, 32500]
for i in range(len(list)):
    print(90 + 10*i,list[i])


my_list = ["가", "나", "다", "라"]

for i in [0, 1, 2]:
    print(my_list[i], my_list[i+1])


#176

#포기

for i in range( len(my_list) - 2 ):
    print(my_list[i], my_list[i+1], my_list[i+2])


#177 포기

for i in range(len(my_list) - 1):
    print(my_list[len(my_list) - 1 - i], my_list[len(my_list) - 2 - i])


my_list = [100, 200, 400, 800]
for i in range(len(my_list) - 1):
    print(abs(my_list[i+1] - my_list[i]))


my_list = [100, 200, 400, 800, 1000, 1300]

for i in range(1, len(my_list) - 1):
    print(abs(my_list[i-1] + my_list[i] + my_list[i+1]) / 3)


# 여기까지 풀다가 포기
# 복습할 시간이 있어야 어느정도 이해하면서라도 따라가겠는데
# 추가수업이 오늘 7~10:30 까지 있어서 도저히무리..



