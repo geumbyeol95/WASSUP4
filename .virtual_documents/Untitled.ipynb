





def add(a,b):
    return a + b


a = 3
b = 4
c = add(a,b)
print(c)


def add(a, b):  # a, b는 매개변수
    return a+b

print(add(3, 4))  # 3, 4는 인수





def add(a, b): 
    result = a + b 
    return result


add(3,4)


#입력값이 없는 함수

def say():
    return 'Hi'


say()


def add2(a, b): 
    print("%d, %d의 합은 %d입니다." % (a, b, a+b))


add2(3, 4)


c = add2(3,4)


print(c)


# 입력값도, 리턴값도 없는 함수
def say2():
    print('Hi')


say2()


d = say2()


print(d)





def sub(a,b):
    return a-b


result = sub(a=7, b=3)
print(result)


result = sub(a=5, b=3)
print(result)





# 사용자의 입력이 몇개든, 전부 다 누적해서 더해주는 함수
def add_many(*args):
    result = 0
    for i in args:
        result = result+i
    return result


add_many(1,1,5,6,7,8,6,8,10)


def add_many(*args):
    print(input("숫자를입력하세요"))
    result = 0
    for i in args:
        result = result+i
    return result


add_many


def add_mul(option, *args):
    if option == 'mul':
        data = 1
        for i in args:
            data = data*i
        return data
    if option == 'sum':
        data = 0
        for i in args:
            data = data+i
        return data



add_mul('mul',1,2,3,4,5)


add_mul('sum',1,2,3,4,5)





def print_kwargs(**kwargs):
     print(kwargs)


print_kwargs(a=1)


print_kwargs(name = 'maeng', age=20)





def add_and_mul(a,b): 
     return a+b, a*b


add_and_mul(3,4)


result1,  result2 = add_and_mul(3,4)
result1


result2


def add_and_mul(a,b): 
     return a+b
     return a*b
    


result = add_and_mul(2,3)
result





def say_yeoeun(yeo):
    if yeo == '바보':
        return '나는 바보입니다.'
    elif yeo == '멍충이':
        return '나는 멍충이입니다.'
    print(f'나의 별명은 {yeo}입니다.')


say_yeoeun('바보')


say_yeoeun('멍충이')


def say_nick(nick):
    if nick == '바보': 
        return '옥상으로 따라와'
    print(f'나의 별명은 {nick} 입니다.')


say_nick('바보')


def say_myself(name, age, man=True):
    print(f'나의 이름은{name}입니다.')
    print(f'나의 나이는 {age}입니다.')
    if man:
        print('삐빅, 남자입니다.')
    else:
        print('삐빅, 여자입니다.')


say_myself('맹광국',20,False)





a = 1
def vartest(a):
    a = a+1
a


vartest(a)


print(a)





#1. return 사용하기

a = 1
def vartest(a):
    a = a+1
    return a
a = vartest(a)
print(a)


#2. global 명령어 사용하기

a = 1
def vartest():
    global a
    a = a+1

vartest()
print(a)


### lambda 예약어

def add(a, b):
    return a+b
result = add(3,4)
print(result)


add = lambda a, b : a+b
add(3,4)





f = open('output/test.text','w')
f.close()


f = open('si.text','w')
for i in range(1,11):
    f.write(f'{i}번째 줄입니다.\n')
f.close()


f = open("새파일.txt", 'w')
for i in range(1,11): 
    f.write(f'{i}번째 줄입니다.\n')
f.close()


f = open('si.text','r')
line = f.readline()
print(line)
f.close()


f = open('si.text','r')
for i in range(5):
    line = f.readline()
    print(line)
f.close()


# readlines 함수
f = open('si.text','r')
lines = f.readlines()
print(lines)


f = open('si.text','r')
lines = f.readlines()
for line in lines:
    print(line)
f.close()








f = open('si.text','r')
lines = f.readlines()
for line in lines:
    print(line)
f.close()


# read함수 사용하기

f = open('si.text','r')
data = f.read()
print(data)
f.close()





f = open('si.text','a')
for i in range(11,21): 
    data = (f'{i}번째 줄입니다.\n')
    f.write(data)    
f.close()


f = open("foo.txt", 'w')
f.write("Life is too short, you need python")
f.close()


with open("foo.txt", 'w') as f:
    f.write("Your leg is too short")



