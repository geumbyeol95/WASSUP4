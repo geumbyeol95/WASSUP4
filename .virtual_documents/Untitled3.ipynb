#101
bool


#102
#3? 5? > false


#103
#true


#104
x = 4
print(1 < x < 5)
# true


#105
print ((3 == 3) and (4 != 3))

#true?


#106
print(3 => 4)
#알 수 없는 기호


#107

if 4 < 3:
    print("Hello World")

#false 또는 아무것도 없다.


#108

if 4 < 3:
    print("Hello World.")
else:
    print("Hi, there.")

#hi, there


#109

if True :
    print ("1")
    print ("2")
else :
    print("3")
print("4")

# 기본값은 true였던가?


#110
if True :
    if False:
        print("1")
        print("2")
    else:
        print("3")
else :
    print("4")
print("5")

#1,2,5?


#111
#문제의 정의가 뭐지?
x = input("입력:")
print("안녕하세요")


#112
x = input("숫자를 입력하세요:")
print(int(x)+10)


#113

x = input("숫자를 입력하세요:")
if int(x)%2 == 0:
    print("짝수")
else:
    print("홀수")


#114

x = input("숫자를 입력하세요:")
y = int(x)+20
if y <= 255:
    print(y)
else:
    print(255)


#115
x = input("숫자를 입력하세요:")
y = int(x)-20
if y < 0:
    print(0)
elif y > 255:
    print(255)
else:
    print(y)


#116

모르겠어서 해답

time = input("현재시간: ")
if time[-2:] == "00":
    print("정각 입니다.")
else:
    print("정각이 아닙니다.")


#117

fruit = ["사과", "포도", "홍시"]
x = input("좋아하는 과일은?:")
if x in fruit:
    print("정답입니다")
else :
    print("오답입니다.")


#118

warn_investment_list = ["Microsoft", "Google", "Naver", "Kakao", "SAMSUNG", "LG"]
x = input("투자 종목은?:")
if x in warn_investment_list:
    print("투자 경고 종목입니다")
else :
    print("투자 경고 종목이 아닙니다.")

# 유저 입력의 대소문자 판별을 하지 못한다. GOOGLE 로 적으면 FALSE 문을 내놓음


#119

fruit = {"봄" : "딸기", "여름" : "토마토", "가을" : "사과"}
x = input("좋아하는 과일은?:")
if x in fruit:
    print("정답입니다")
else :
    print("오답입니다.")


#120
#답지봄..
fruit = {"봄" : "딸기", "여름" : "토마토", "가을" : "사과"}
user = input("좋아하는 과일은?")
if user in fruit.values():
    print("정답입니다.")
else:
    print("오답입니다.")


#121
x = input("")
if x.islower():
    print(x.upper())
else:
    print(x.lower())


#122

x = input("학점을 입력하세요:")
x = int(x)
if x >= 81:
    print("A")
elif 61 <= x < 81:
    print("B")
elif 41 <= x < 61:
    print("C")
elif 21 <= x < 41:
    print("D")
else:
    print("E")


#123
#이건 도저히 모르겠다.
환율 = {"달러": 1167, 
        "엔": 1.096, 
        "유로": 1268, 
        "위안": 171}
user = input("입력: ")
num, currency = user.split()
print(float(num) * 환율[currency], "원")


#124

num1 = input("첫번째 숫자를 입력하세요.:")
num2 = input("두번째 숫자를 입력하세요.:")
num3 = input("세번째 숫자를 입력하세요.:")

num1 = int(num1)
num2 = int(num2)
num3 = int(num3)

if num1 > num2 and num1 > num3:
    print(num1)
elif num2 > num1 and num2 > num3:
    print(num2)
else:
    print(num3)


#125

num = {011 : "skt", 016:"kt", 019:"lgu", 010:"알수없음"}
num = input("앞자리를 입력해주세요:")
if 

# 하다가 포기

number = input("휴대전화 번호 입력: ")
num = number.split("-")[0]
if num == "011":
    com = "SKT"
elif num == "016":
    com = "KT"
elif num == "019":
    com = "LGU"
else:
    com = "알수없음"
print(f"당신은 {com} 사용자입니다.")


#126

우편번호 = input("우편번호: ")
우편번호 = 우편번호[:3]
if 우편번호 in ["010", "011", "012"]:
    print("강북구")
elif 우편번호 in ["014", "015", "016"]:
    print("도봉구")
else:
    print("노원구")


#127
주민번호 = input("주민번호:")
주민번호 = 주민번호[7]
if 주민번호 in ["1","3"]:
    print ("남자")
else:
    print ("여자")


#128

주민번호 = input("주민번호:")
주민번호 = 주민번호[8:9]
if 주민번호 in ["00","01"]:
    print ("남자")
else:
    print ("여자")

#포기
주민번호 = input("주민등록번호: ")
뒷자리 = 주민번호.split("-")[1]
if 0 <= int(뒷자리[1:3]) <= 8:
    print("서울입니다.")
else:
    print("서울이 아닙니다.")


#129

#몰라요..

num = input("주민등록번호: ")
계산1 = int(num[0]) * 2 + int(num[1]) * 3 + int(num[2]) * 4 + int(num[3]) * 5 + int(num[4]) * 6 + \
        int(num[5]) * 7 + int(num[7]) * 8 + int(num[8]) * 9 + int(num[9]) * 2 + int(num[10])* 3 + \
        int(num[11])* 4 + int(num[12]) * 5
계산2 = 11 - (계산1 % 11)
계산3 = str(계산2)

if num[-1] == 계산3[-1]:
    print("유효한 주민등록번호입니다.")
else:
    print("유효하지 않은 주민등록번호입니다.")


#130

#이건뭐에요..

import requests
btc = requests.get("https://api.bithumb.com/public/ticker/").json()['data']

변동폭 = float(btc['max_price']) - float(btc['min_price'])
시가 = float(btc['opening_price'])
최고가 = float(btc['max_price'])

if (시가+변동폭) > 최고가:
    print("상승장")
else:
    print("하락장")


#131

#사과
#귤
#수박


# 132
#모르겠따.


#133
변수 = "A"
print(변수)
변수 = "B"
print(변수)
변수 = "C"
print(변수)



#134

변수 = "A"
print("출력:", 변수)
변수 = "B"
print("출력:", 변수)
변수 = "C"
print("출력:", 변수)


#135
변수 = "A"
b = 변수.lower()
print("변환:", b)
변수 = "B"
b = 변수.lower()
print("변환:", b)
변수 = "C"
b = 변수.lower()
print("변환:", b)


#136

for 변수 in ["10", "20", "30"]:
    print(변수)


#137

for 변수 in [10, 20, 30]:
  print(변수)


#138
for 변수 in [10, 20, 30]:
  print(변수)
  print("-------")


#138
for 변수 in [10, 20, 30]:
    print("++++")
    print(변수)

# 함정걸림

print("++++")
for 변수 in [10, 20, 30]:
  print(변수)


#139
for 변수 in [10, 20, 30, 40]:
    print("-------")


#140

for 리스트 in [100, 200, 300]:
    print(리스트 + 10)


for 리스트 in ["김밥", "라면", "튀김"]:
    print("오늘의 메뉴: "+리스트)


리스트 = ["SK하이닉스", "삼성전자", "LG전자"]
for 종목명 in 리스트:
  print(len(종목명))


리스트 = ['dog', 'cat', 'parrot']
for 동물명 in 리스트:
  print(동물명, len(동물명))


리스트 = ['dog', 'cat', 'parrot']
for 동물명 in 리스트:
    print(동물명[0])


리스트 = [1, 2, 3]
for 숫자 in 리스트:
    print("3 x",숫자)


리스트 = [1, 2, 3]
for 숫자 in 리스트:
    print("3 x",숫자,"=", 3 * 숫자)


리스트 = ["가", "나", "다", "라"]
나다라 = 리스트[1:]
for 변수 in 나다라:
  print(변수)


리스트 = ["가", "나", "다", "라"]
for 변수 in 리스트[: :2]:
  print(변수)


리스트 = ["가", "나", "다", "라"]
for 변수 in 리스트[::-1]:
  print(변수)


리스트 = [3, -20, -3, 44]
for 변수 in 리스트[1:3 :1]:
  print(변수)


리스트 = [3, 100, 23, 44]
for 변수 in 리스트:
  if 변수 % 3 == 0:
    print(변수)


리스트 = [13, 21, 12, 14, 30, 18]
for 변수 in 리스트:
  if 변수 % 3 == 0 and 변수 < 20:
    print(변수)


리스트 = ["I", "study", "python", "language", "!"]
for 변수 in 리스트:
    if len(변수) >= 3:
            print(변수)


리스트 = ["A", "b", "c", "D"]
for 변수 in 리스트:
    if 변수.isupper():
     print(변수)


리스트 = ["A", "b", "c", "D"]
for 변수 in 리스트:
    if 변수.islower():
     print(변수)


리스트 = ['dog', 'cat', 'parrot']
for 변수 in 리스트:
    print (변수[0].upper())


리스트 = ['hello.py', 'ex01.py', 'intro.hwp']
for 변수 in 리스트:
    split = 변수.split(".")
    print(split[0])


리스트 = ['intra.h', 'intra.c', 'define.h', 'run.py']
for 변수 in 리스트:
    split = 변수.split(".")
    if split[1] == "h" or split[1] == "c":
        print(변수)



