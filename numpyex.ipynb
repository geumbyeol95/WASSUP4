{
 "cells": [
  {
   "cell_type": "code",
   "execution_count": 1,
   "id": "a6384b8d-bbf7-42a6-ac0a-c7d33a4410d4",
   "metadata": {},
   "outputs": [],
   "source": [
    "#Numpy\n",
    "#Numerical Python\n",
    "# 고성능 수치 계산을 위한 라이브러리\n",
    "# 벡터나 행렬 연산에 편리한 기능 제공\n",
    "# 모든 원소는 같은 자료형만 가능"
   ]
  },
  {
   "cell_type": "code",
   "execution_count": null,
   "id": "5e3b4998-2ec9-4a06-abc8-086575ac4c02",
   "metadata": {},
   "outputs": [],
   "source": []
  },
  {
   "cell_type": "code",
   "execution_count": 5,
   "id": "34e34e1d-6ceb-42b5-a449-712bf8bd59bd",
   "metadata": {},
   "outputs": [
    {
     "name": "stdout",
     "output_type": "stream",
     "text": [
      "[ 0  1  2  3  4  5  6  7  8  9 10 11 12 13 14]\n",
      "[[ 0  1  2  3  4]\n",
      " [ 5  6  7  8  9]\n",
      " [10 11 12 13 14]]\n",
      "<class 'numpy.ndarray'>\n",
      "(3, 5)\n",
      "int32\n",
      "2\n",
      "15\n"
     ]
    }
   ],
   "source": [
    "import numpy as np\n",
    "a = np.arange(15) #0~14 까지의 범위 숫자 나열\n",
    "print (a)\n",
    "a = a.reshape(3,5)  #행열을 만들어줌\n",
    "print (a)\n",
    "print(type(a))\n",
    "print(a.shape)\n",
    "print(a.dtype)\n",
    "print(a.ndim) #차원에 대해서 설명\n",
    "print(a.size)"
   ]
  },
  {
   "cell_type": "code",
   "execution_count": 31,
   "id": "7fb400f1-db0f-4e58-8a24-fbe812d1aa8b",
   "metadata": {},
   "outputs": [
    {
     "name": "stdout",
     "output_type": "stream",
     "text": [
      "[[ 0  1  2  3  4]\n",
      " [ 5  6  7  8  9]\n",
      " [10 11 12 13 14]]\n"
     ]
    }
   ],
   "source": [
    "print(a)"
   ]
  },
  {
   "cell_type": "code",
   "execution_count": 7,
   "id": "b704da4c-98e4-49e7-acb5-f5a78f69241d",
   "metadata": {},
   "outputs": [
    {
     "name": "stdout",
     "output_type": "stream",
     "text": [
      "<class 'list'>\n",
      "<class 'numpy.ndarray'>\n",
      "<class 'tuple'>\n",
      "<class 'numpy.ndarray'>\n",
      "<class 'set'>\n",
      "<class 'numpy.ndarray'>\n"
     ]
    }
   ],
   "source": [
    "b = ([-1, 2, 5, -3, 0, 7, -9, 7, -4, -7])  #List\n",
    "print(type(b))\n",
    "b = np.array([-1, 2, 5, -3, 0, 7, -9, 7, -4, -7])\n",
    "print(type(b))\n",
    "\n",
    "t = (10, 20, 30, 40, 50) #Tuple\n",
    "print (type(t))\n",
    "t = np.array(t)\n",
    "print (type(t))\n",
    "\n",
    "s= {10, 20, 30, 40, 50}\n",
    "print(type(s))\n",
    "s = np.array(s)\n",
    "print(type(s))"
   ]
  },
  {
   "cell_type": "code",
   "execution_count": 9,
   "id": "cede8c64-7c90-42bb-b16f-c9fc83096f1f",
   "metadata": {},
   "outputs": [
    {
     "name": "stdout",
     "output_type": "stream",
     "text": [
      "(10,)\n",
      "1\n",
      "int32\n",
      "[-1  2  5 -3  0  7 -9  7 -4 -7]\n",
      "[1 2 5 3 0 7 9 7 4 7]\n",
      "[       nan 1.41421356 2.23606798        nan 0.         2.64575131\n",
      "        nan 2.64575131        nan        nan]\n",
      "[1.         1.41421356 2.23606798 1.73205081 0.         2.64575131\n",
      " 3.         2.64575131 2.         2.64575131]\n",
      "[ 1  4 25  9  0 49 81 49 16 49]\n",
      "[False False False False False False False False False False]\n",
      "-3\n",
      "-0.3\n",
      "7\n",
      "-9\n",
      "5\n",
      "6\n",
      "[-9 -7 -4 -3 -1  0  2  5  7  7]\n",
      "[ 7  7  5  2  0 -1 -3 -4 -7 -9]\n",
      "-0.5\n"
     ]
    },
    {
     "name": "stderr",
     "output_type": "stream",
     "text": [
      "C:\\Users\\rmaqu\\AppData\\Local\\Temp\\ipykernel_24116\\1065396714.py:8: RuntimeWarning: invalid value encountered in sqrt\n",
      "  print(np.sqrt(b))         #제곱근\n"
     ]
    }
   ],
   "source": [
    "print (b.shape)\n",
    "print (b.ndim)\n",
    "print (b.dtype)\n",
    "print(b)\n",
    "\n",
    "#print(help (np.arange))\n",
    "print(np.abs(b))          #절대값\n",
    "print(np.sqrt(b))         #제곱근\n",
    "print(np.sqrt(np.abs(b))) #절대값으로 바꾼 후 제곱근\n",
    "print(np.square(b))       #제곱\n",
    "print(np.isnan(b))        # NaN 여부 확인\n",
    "print(np.sum(b))          #합계\n",
    "print(np.mean(b))         #평균\n",
    "print(np.max(b))          #최대값\n",
    "print(np.min(b))          #최소값\n",
    "print(np.argmax(b))       #인덱스, 제일 큰값의 위치값을 알려줌\n",
    "print(np.argmin(b))       # 최소값 인덱스\n",
    "print(np.sort(b))         #정렬 오름차순\n",
    "print(np.sort(b)[::-1])   #정렬 내림차순     [start : end : step(간격)]\n",
    "print(np.median(b))       #중간값\n"
   ]
  },
  {
   "cell_type": "code",
   "execution_count": 55,
   "id": "f6c434a3-2040-46a5-8438-4433ae566624",
   "metadata": {},
   "outputs": [
    {
     "name": "stdout",
     "output_type": "stream",
     "text": [
      "<class 'list'>\n",
      "[[1, 2, 3], [4, 5, 6]]\n",
      "<class 'numpy.ndarray'>\n",
      "[[1 2 3]\n",
      " [4 5 6]]\n",
      "21\n",
      "[5 7 9]\n",
      "[ 6 15]\n",
      "3.5\n",
      "[2.5 3.5 4.5]\n",
      "[2. 5.]\n",
      "3.5\n",
      "[2.5 3.5 4.5]\n",
      "[2. 5.]\n",
      "6\n",
      "[4 5 6]\n",
      "[3 6]\n",
      "1\n",
      "1.707825127659933\n",
      "2.9166666666666665\n"
     ]
    }
   ],
   "source": [
    "c = [[1,2,3], [4,5,6]]\n",
    "print(type(c))\n",
    "print (c)\n",
    "c = np.array(c)\n",
    "print (type(c))\n",
    "print (c)\n",
    "\n",
    "print (np.sum(c))\n",
    "print (np.sum(c,axis=0)) #행끼리 계산\n",
    "print (np.sum(c,axis=1)) #열끼리 계산\n",
    "print (np.mean (c))\n",
    "print (np.mean (c, axis=0))\n",
    "print (np.mean (c, axis=1))\n",
    "print (np.median(c))\n",
    "print (np.median(c, axis=0))\n",
    "print (np.median(c, axis=1))\n",
    "print (np.max(c))\n",
    "print (np.max(c, axis=0))\n",
    "print (np.max(c, axis=1))\n",
    "print (np.min(c))\n",
    "\n",
    "\n",
    "print(np.std(c))       # 표준편차\n",
    "print(np.var(c))       # 분산\n"
   ]
  },
  {
   "cell_type": "code",
   "execution_count": 69,
   "id": "fd06cebe-13de-4777-8049-ed3fff0e13b4",
   "metadata": {},
   "outputs": [
    {
     "name": "stdout",
     "output_type": "stream",
     "text": [
      "[12 22 32 42 52]\n",
      "[11 22 33 44 55]\n",
      "[ 100  400  900 1600 2500]\n",
      "[ -5.44021111  18.25890501 -29.64094872  29.80452642 -13.11874269]\n",
      "[False False False  True  True]\n",
      "[11 22 33 44 55]\n",
      "[ 9 18 27 36 45]\n",
      "[ 10  40  90 160 250]\n",
      "[10. 10. 10. 10. 10.]\n"
     ]
    }
   ],
   "source": [
    "# element wise\n",
    "\n",
    "d = [10,20,30,40,50]\n",
    "#print(d+2) #error \n",
    "d = np. array(d) \n",
    "print (d+2)\n",
    "\n",
    "e = np.array([1,2,3,4,5])\n",
    "print (d+e)\n",
    "print (d**2)\n",
    "print (d* np.sin(d))\n",
    "print (d > 35)\n",
    "\n",
    "\n",
    "print(np.add(d,e))\n",
    "print(np.subtract(d,e))\n",
    "print(np.multiply(d,e))\n",
    "print(np.divide(d,e))"
   ]
  },
  {
   "cell_type": "code",
   "execution_count": 79,
   "id": "021b77be-8ec9-4292-9017-feef5851d25f",
   "metadata": {},
   "outputs": [
    {
     "name": "stdout",
     "output_type": "stream",
     "text": [
      "[[0 0]\n",
      " [3 4]]\n",
      "[[3 4]\n",
      " [5 4]]\n",
      "[[3 4]\n",
      " [5 4]]\n",
      "[[3 4]\n",
      " [5 4]]\n"
     ]
    }
   ],
   "source": [
    "f = np.array([[0,1],[1,1]])\n",
    "g = np.array([[2,0],[3,4]])\n",
    "print (f*g)\n",
    "print (f @ g)      #행렬곱\n",
    "print (np.dot(f,g))#행렬곱 함수ver\n",
    "print (f.dot(g))"
   ]
  },
  {
   "cell_type": "code",
   "execution_count": 111,
   "id": "e218473e-f4a8-4c51-92c8-051d6b718795",
   "metadata": {},
   "outputs": [
    {
     "name": "stdout",
     "output_type": "stream",
     "text": [
      "[0. 0. 0. 0. 0. 0. 0. 0. 0. 0.]\n",
      "[[0. 0. 0. 0. 0.]\n",
      " [0. 0. 0. 0. 0.]\n",
      " [0. 0. 0. 0. 0.]\n",
      " [0. 0. 0. 0. 0.]\n",
      " [0. 0. 0. 0. 0.]]\n",
      "[1. 1. 1. 1. 1. 1. 1. 1. 1. 1.]\n",
      "<class 'numpy.ndarray'>\n",
      "[77 38 19 97 38  2 45 19 87 95]\n",
      "16\n",
      "[[0.81967975 0.0823525 ]\n",
      " [0.63691962 0.56031517]\n",
      " [0.14197279 0.97684134]\n",
      " [0.60902923 0.30351706]\n",
      " [0.99998263 0.48542977]]\n"
     ]
    }
   ],
   "source": [
    "h = np.zeros(10)\n",
    "print (h)\n",
    "i = np.zeros((5,5))\n",
    "print(i)\n",
    "j = np.ones(10)\n",
    "print(j)\n",
    "\n",
    "#np.random.random   0~1 사이의 난수 발생\n",
    "#np.random.randint  균일 분포의 정수 난수 발생\n",
    "#np.random.rand     0~1 사이의 균일 분포 난수 matrix array 생성\n",
    "#np.random.randn   가우시안 표준 정규 분포 난수 matrix array 생성\n",
    "#np.random.nomral  평균, 표준편차, sample 개수\n",
    "\n",
    "k = np.random.random(10) * 100\n",
    "k = np.array([int(i) for i in k])\n",
    "print(type (k))\n",
    "print(k)\n",
    "\n",
    "print(np.random.randint(10,20))\n",
    "print(np.random.rand(5,2))"
   ]
  },
  {
   "cell_type": "code",
   "execution_count": 131,
   "id": "9a763629-3c32-45cb-96c5-b4277d191738",
   "metadata": {},
   "outputs": [
    {
     "name": "stdout",
     "output_type": "stream",
     "text": [
      "[10, 11, 12, 13, 14]\n",
      "[10, 12, 14]\n",
      "[10, 11, 12, 13, 14, 15, 16, 17, 18, 19]\n",
      "[15, 16, 17, 18, 19]\n",
      "[10, 11, 12, 13, 14, 15, 16, 17, 18]\n",
      "[19, 18, 17, 16, 15, 14, 13, 12, 11, 10]\n",
      "[10 11 12 13 14]\n",
      "[10, 12, 14]\n",
      "[10, 11, 12, 13, 14, 15, 16, 17]\n"
     ]
    }
   ],
   "source": [
    "#슬라이싱\n",
    "\n",
    "m = [i for i in range (10,20)]\n",
    "print(m[0:5])     # [시작 : 끝 : 간격]\n",
    "print(m[0:5:2])\n",
    "print(m[:])\n",
    "print(m[5:])\n",
    "print(m[:-1])\n",
    "print(m[::-1])\n",
    "\n",
    "\n",
    "# ndarray\n",
    "w = np.arange(10,20)\n",
    "print(w[0:5])\n",
    "print(m[0:5:2])\n",
    "print(m[:-2])"
   ]
  },
  {
   "cell_type": "code",
   "execution_count": 141,
   "id": "8e35250e-42dc-4fef-a0f6-88e5fee78423",
   "metadata": {},
   "outputs": [
    {
     "name": "stdout",
     "output_type": "stream",
     "text": [
      "13\n",
      "[[1, 2, 3, 4, 5], [6, 7, 8, 9, 10], [11, 12, 13, 14, 15]]\n",
      "[11, 12, 13, 14, 15]\n"
     ]
    }
   ],
   "source": [
    "r = [[1,2,3,4,5],[6,7,8,9,10],[11,12,13,14,15]]\n",
    "print(r[2][2])\n",
    "print(r[:][:])\n",
    "print(r[2][:])"
   ]
  },
  {
   "cell_type": "code",
   "execution_count": 155,
   "id": "3049b4bd-0759-4d52-ad26-1ef4c027dc3a",
   "metadata": {},
   "outputs": [
    {
     "name": "stdout",
     "output_type": "stream",
     "text": [
      "[[ 1  2  3  4  5]\n",
      " [ 6  7  8  9 10]\n",
      " [11 12 13 14 15]]\n",
      "13\n",
      "[[ 1  2  3  4  5]\n",
      " [ 6  7  8  9 10]\n",
      " [11 12 13 14 15]]\n",
      "[11 12 13 14 15]\n",
      "[11]\n",
      "[[1 2]\n",
      " [6 7]]\n",
      "[[ 1  2  3  4  5]\n",
      " [ 6  7  8  9 10]\n",
      " [11 12 13 14 15]]\n",
      "[[1 2 3 4]\n",
      " [6 7 8 9]]\n",
      "13\n",
      "[[15 14 13 12 11]\n",
      " [10  9  8  7  6]\n",
      " [ 5  4  3  2  1]]\n",
      "[[ 1  2  3  4  5]\n",
      " [11 12 13 14 15]]\n",
      "[[ 2  4  5]\n",
      " [ 7  9 10]\n",
      " [12 14 15]]\n",
      "[ 4 15]\n"
     ]
    }
   ],
   "source": [
    "s = np.arange (1,16).reshape(3,5)\n",
    "print ( s ) \n",
    "print( s[2][2] ) \n",
    "print (s [:][:]) \n",
    "print( s[2][:] )\n",
    "print( s[2][:1] )\n",
    "\n",
    "print( s[:2,:2] ) \n",
    "print( s[:,:])\n",
    "print ( s [:-1, :-1])\n",
    "print ( s [2,2])\n",
    "print(s [::-1, ::-1])\n",
    "\n",
    "print(s[[0,2]])\n",
    "print(s[:,[1,3,4]])\n",
    "print(s[[0,2],[3,4]])"
   ]
  },
  {
   "cell_type": "code",
   "execution_count": 157,
   "id": "0e5e9a87-d94e-41fb-b21a-a4b676de1562",
   "metadata": {},
   "outputs": [
    {
     "name": "stdout",
     "output_type": "stream",
     "text": [
      "[[ 1  2  3  4  5]\n",
      " [ 6  7  8  9 10]\n",
      " [11 12 13 14 15]]\n",
      "[[ 1  6 11]\n",
      " [ 2  7 12]\n",
      " [ 3  8 13]\n",
      " [ 4  9 14]\n",
      " [ 5 10 15]]\n"
     ]
    }
   ],
   "source": [
    "# 전치행렬\n",
    "\n",
    "print (s)\n",
    "print (s.T)"
   ]
  },
  {
   "cell_type": "code",
   "execution_count": 195,
   "id": "0896aa50-95ae-4771-9c24-b8d0dd7342e6",
   "metadata": {},
   "outputs": [
    {
     "name": "stdout",
     "output_type": "stream",
     "text": [
      "(1, 4)\n",
      "[1, 2, 3, 4, 5, 6]\n",
      "[1, 2, 3, 1, 2, 3]\n",
      "(2, 5)\n",
      "[1, 2, 3, 4, 5, 6]\n",
      "[1, 2, 3, 1, 2, 3]\n",
      "(3, 6)\n",
      "[1, 2, 3, 4, 5, 6]\n",
      "[1, 2, 3, 1, 2, 3]\n"
     ]
    }
   ],
   "source": [
    "# 결합 / 분리\n",
    "\n",
    "a = [1,2,3]\n",
    "b = [4,5,6]\n",
    "for ab in zip(a,b):\n",
    "    print(ab)\n",
    "    print(a+b)\n",
    "    print(a*2)\n",
    "    #print(a+2) 에러"
   ]
  },
  {
   "cell_type": "code",
   "execution_count": 187,
   "id": "ad209410-962a-4e06-b831-41c032ddc3cc",
   "metadata": {},
   "outputs": [
    {
     "name": "stdout",
     "output_type": "stream",
     "text": [
      "[[94. 25.]\n",
      " [ 4. 66.]]\n",
      "[[47. 18.]\n",
      " [51. 73.]]\n",
      "[[94. 25. 47. 18.]\n",
      " [ 4. 66. 51. 73.]]\n",
      "[[94. 25.]\n",
      " [ 4. 66.]\n",
      " [47. 18.]\n",
      " [51. 73.]]\n"
     ]
    }
   ],
   "source": [
    "c = np.floor(np.random.rand(2,2)*100)\n",
    "print(c)\n",
    "d = np.floor(np.random.rand(2,2)*100)\n",
    "print (d)\n",
    "print(np.hstack((c,d)))\n",
    "print(np.vstack((c,d)))"
   ]
  },
  {
   "cell_type": "code",
   "execution_count": 207,
   "id": "68371234-4eda-45c2-adf3-bf266f49bc2c",
   "metadata": {},
   "outputs": [
    {
     "name": "stdout",
     "output_type": "stream",
     "text": [
      "[[51. 98. 24. 37. 72. 79.  2. 16. 47. 30.  2.  6. 55. 71. 86.]\n",
      " [55. 50. 58. 73. 33. 19. 18.  5. 50. 27. 69. 17.  8. 95. 91.]]\n",
      "[array([[51., 98., 24., 37., 72.],\n",
      "       [55., 50., 58., 73., 33.]]), array([[79.,  2., 16., 47., 30.],\n",
      "       [19., 18.,  5., 50., 27.]]), array([[ 2.,  6., 55., 71., 86.],\n",
      "       [69., 17.,  8., 95., 91.]])]\n",
      "[[51. 98. 24. 37. 72.]\n",
      " [55. 50. 58. 73. 33.]]\n",
      "[[79.  2. 16. 47. 30.]\n",
      " [19. 18.  5. 50. 27.]]\n",
      "[[ 2.  6. 55. 71. 86.]\n",
      " [69. 17.  8. 95. 91.]]\n",
      "[[51. 98. 24.]\n",
      " [55. 50. 58.]]\n",
      "[[37. 72. 79.  2.]\n",
      " [73. 33. 19. 18.]]\n",
      "[[16. 47. 30.  2.  6.]\n",
      " [ 5. 50. 27. 69. 17.]]\n",
      "[[55. 71. 86.]\n",
      " [ 8. 95. 91.]]\n"
     ]
    }
   ],
   "source": [
    "e = np.floor(np.random.rand(2,15) *100)\n",
    "print(e)\n",
    "print(np.hsplit(e,3))\n",
    "for arr in np.hsplit(e,3):\n",
    "    print(arr)\n",
    "for arr in np.hsplit(e,(3,7,12)):\n",
    "    print(arr)"
   ]
  },
  {
   "cell_type": "code",
   "execution_count": 213,
   "id": "865587b1-e63a-4e18-bf66-99f3d950afb0",
   "metadata": {},
   "outputs": [
    {
     "name": "stdout",
     "output_type": "stream",
     "text": [
      "[1, 2, 'C', 'D', 5]\n",
      "['1' '2' 'C' 'D' '5']\n"
     ]
    }
   ],
   "source": [
    "f = np.array([1,2,3,4,5])\n",
    "g = np.array(['A','B', 'C','D','E'])\n",
    "h = np.array([True,True,False,False,True])\n",
    "\n",
    "# 삼항 연산    조건? 참:거짓\n",
    "#             참 if 조건 else 거짓\n",
    "\n",
    "print ([x if z else y for x,y,z in zip(f,g,h)])\n",
    "print(np.where(h,f,g))\n",
    "print(np.where(h,f,g))"
   ]
  },
  {
   "cell_type": "code",
   "execution_count": 215,
   "id": "6e456384-76dc-49d5-b6f7-891e4619561a",
   "metadata": {},
   "outputs": [
    {
     "name": "stdout",
     "output_type": "stream",
     "text": [
      "[0 1 2 3 4 5 6 7 8 9]\n"
     ]
    }
   ],
   "source": [
    "i = np.arange(10)\n",
    "np.save('i.npy',i)\n",
    "ii = np.load('i.npy')\n",
    "print(ii)"
   ]
  },
  {
   "cell_type": "code",
   "execution_count": null,
   "id": "65e26065-6e40-4904-8142-32bbf23d0a8b",
   "metadata": {},
   "outputs": [],
   "source": []
  }
 ],
 "metadata": {
  "kernelspec": {
   "display_name": "Python 3 (ipykernel)",
   "language": "python",
   "name": "python3"
  },
  "language_info": {
   "codemirror_mode": {
    "name": "ipython",
    "version": 3
   },
   "file_extension": ".py",
   "mimetype": "text/x-python",
   "name": "python",
   "nbconvert_exporter": "python",
   "pygments_lexer": "ipython3",
   "version": "3.12.4"
  }
 },
 "nbformat": 4,
 "nbformat_minor": 5
}
