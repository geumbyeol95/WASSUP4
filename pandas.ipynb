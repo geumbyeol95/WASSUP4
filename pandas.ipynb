{
 "cells": [
  {
   "cell_type": "code",
   "execution_count": 1,
   "id": "d64e0803-e651-49b5-8ad1-b191397c6bef",
   "metadata": {},
   "outputs": [],
   "source": [
    "# pandas\n",
    "# series     1차원\n",
    "# DataFrame  2차원"
   ]
  },
  {
   "cell_type": "code",
   "execution_count": 15,
   "id": "a36f55bd-3330-4499-a121-667b36c92f1c",
   "metadata": {},
   "outputs": [
    {
     "name": "stdout",
     "output_type": "stream",
     "text": [
      "<class 'pandas.core.series.Series'>\n",
      "RangeIndex(start=0, stop=9, step=1)\n",
      "int64\n",
      "0    1\n",
      "1    2\n",
      "2    3\n",
      "3    4\n",
      "4    5\n",
      "5    6\n",
      "6    7\n",
      "7    8\n",
      "8    9\n",
      "dtype: int64\n"
     ]
    }
   ],
   "source": [
    "import pandas as pd\n",
    "import numpy as np\n",
    "#series\n",
    "s = pd.Series([1,2,3,4,5,6,7,8,9])\n",
    "print (type(s))\n",
    "print (s.index)\n",
    "print(s.dtype)\n",
    "print(s)"
   ]
  },
  {
   "cell_type": "code",
   "execution_count": 17,
   "id": "ee067bea-9e19-43c2-835f-9cb84b4a9496",
   "metadata": {},
   "outputs": [
    {
     "name": "stdout",
     "output_type": "stream",
     "text": [
      "A    1\n",
      "B    2\n",
      "C    3\n",
      "D    4\n",
      "E    5\n",
      "F    6\n",
      "G    7\n",
      "H    8\n",
      "I    9\n",
      "dtype: int64\n"
     ]
    }
   ],
   "source": [
    "s.index = ['A','B','C','D','E','F','G','H','I']\n",
    "print(s)"
   ]
  },
  {
   "cell_type": "code",
   "execution_count": 33,
   "id": "725b1fff-04dc-4a53-b7da-63e378f1e2af",
   "metadata": {},
   "outputs": [
    {
     "name": "stdout",
     "output_type": "stream",
     "text": [
      "A    1\n",
      "B    2\n",
      "C    3\n",
      "D    4\n",
      "E    5\n",
      "F    6\n",
      "G    7\n",
      "H    8\n",
      "I    9\n",
      "dtype: int64\n",
      "Index(['A', 'B', 'C', 'D', 'E', 'F', 'G', 'H', 'I'], dtype='object')\n",
      "[1 2 3 4 5 6 7 8 9]\n",
      "1\n",
      "1\n",
      "1\n",
      "A    1\n",
      "B    2\n",
      "C    3\n",
      "D    4\n",
      "E    5\n",
      "dtype: int64\n",
      "A    1\n",
      "B    2\n",
      "C    3\n",
      "D    4\n",
      "dtype: int64\n"
     ]
    },
    {
     "name": "stderr",
     "output_type": "stream",
     "text": [
      "C:\\Users\\rmaqu\\AppData\\Local\\Temp\\ipykernel_21784\\3219112302.py:5: FutureWarning: Series.__getitem__ treating keys as positions is deprecated. In a future version, integer keys will always be treated as labels (consistent with DataFrame behavior). To access a value by position, use `ser.iloc[pos]`\n",
      "  print(s[0])\n"
     ]
    }
   ],
   "source": [
    "s = pd.Series([1,2,3,4,5,6,7,8,9],['A','B','C','D','E','F','G','H','I'])\n",
    "print(s)\n",
    "print(s.index)\n",
    "print(s.values)\n",
    "print(s[0])\n",
    "print(s['A'])\n",
    "print(s.A)\n",
    "print(s[0:5])\n",
    "print(s['A':'D'])"
   ]
  },
  {
   "cell_type": "code",
   "execution_count": 39,
   "id": "7b22f6f8-edc2-4937-9c30-ddd74d593f47",
   "metadata": {},
   "outputs": [
    {
     "name": "stdout",
     "output_type": "stream",
     "text": [
      "<class 'dict'>\n",
      "A : 10\n",
      "10\n",
      "D : 20\n",
      "10\n",
      "F : 30\n",
      "10\n",
      "H : 40\n",
      "10\n",
      "Index(['A', 'D', 'F', 'H'], dtype='object')\n",
      "[10 20 30 40]\n",
      "10\n",
      "10\n",
      "A    10\n",
      "D    20\n",
      "F    30\n",
      "dtype: int64\n",
      "A    10\n",
      "D    20\n",
      "F    30\n",
      "dtype: int64\n"
     ]
    }
   ],
   "source": [
    "# Dictionary (Map, JSON)-> Series\n",
    "\n",
    "d = {'A' : 10 , 'D' : 20 , 'F':30, 'H':40}\n",
    "print(type(d))\n",
    "for key, value in d.items() :\n",
    "    print (key, \":\", value)\n",
    "    print(d['A'])\n",
    "\n",
    "#print(d.A)\n",
    "#print(d[0:3])\n",
    "#print(d['A' : 'F'])\n",
    "\n",
    "s = pd.Series(d)\n",
    "print(s.index)\n",
    "print(s.values)\n",
    "print(s['A'])\n",
    "print(s.A)\n",
    "print(s[0:3])\n",
    "print(s['A' : 'F'])"
   ]
  },
  {
   "cell_type": "code",
   "execution_count": 65,
   "id": "996fff0f-739e-4606-93f2-adff2590bff7",
   "metadata": {},
   "outputs": [
    {
     "name": "stdout",
     "output_type": "stream",
     "text": [
      "<class 'dict'>\n",
      "{'name': ['kim', 'lee', 'park', 'jung'], 'age': [25, 30, 35, 20], 'tel': ['1111-2222', '2222-1111', '3333-1111', '2222-3333']}\n",
      "   name  age        tel\n",
      "0   kim   25  1111-2222\n",
      "1   lee   30  2222-1111\n",
      "2  park   35  3333-1111\n",
      "3  jung   20  2222-3333\n",
      "RangeIndex(start=0, stop=4, step=1)\n",
      "Index(['name', 'age', 'tel'], dtype='object')\n",
      "[['kim' 25 '1111-2222']\n",
      " ['lee' 30 '2222-1111']\n",
      " ['park' 35 '3333-1111']\n",
      " ['jung' 20 '2222-3333']]\n",
      "User  name  age        tel\n",
      "Num                       \n",
      "0      kim   25  1111-2222\n",
      "1      lee   30  2222-1111\n",
      "2     park   35  3333-1111\n",
      "3     jung   20  2222-3333\n"
     ]
    }
   ],
   "source": [
    "# DataFrame\n",
    "# Dictionary -> DataFrame\n",
    "d = {\n",
    "    'name' : [ 'kim', 'lee', 'park', 'jung' ],\n",
    "    'age' : [25, 30, 35, 20],\n",
    "    'tel' : ['1111-2222', '2222-1111', '3333-1111', '2222-3333']\n",
    "}\n",
    "print(type(d))\n",
    "print (d)\n",
    "\n",
    "df = pd.DataFrame(d)   # 데이터 프레임\n",
    "print (df)\n",
    "print(df.index)\n",
    "print(df.columns)\n",
    "print(df.values)\n",
    "df.index.name = 'Num'\n",
    "df.columns.name = 'User'\n",
    "print(df)"
   ]
  },
  {
   "cell_type": "code",
   "execution_count": 131,
   "id": "69e08ef2-8fe7-494d-8f8e-d7195c4496fd",
   "metadata": {},
   "outputs": [
    {
     "name": "stdout",
     "output_type": "stream",
     "text": [
      "<class 'numpy.ndarray'>\n",
      "[['kim' '20' '1111-2222']\n",
      " ['lee' '30' '2222-1111']\n",
      " ['park' '35' '3333-2222']\n",
      " ['jung' '25' '3333-1111']]\n",
      "   name age        tel\n",
      "A   kim  20  1111-2222\n",
      "B   lee  30  2222-1111\n",
      "C  park  35  3333-2222\n",
      "D  jung  25  3333-1111\n",
      "Index(['A', 'B', 'C', 'D'], dtype='object')\n",
      "Index(['name', 'age', 'tel'], dtype='object')\n",
      "   name age        tel\n",
      "A   kim  20  1111-2222\n",
      "B   lee  30  2222-1111\n",
      "C  park  35  3333-2222\n",
      "D  jung  25  3333-1111\n",
      "       name age        tel\n",
      "count     4   4          4\n",
      "unique    4   4          4\n",
      "top     kim  20  1111-2222\n",
      "freq      1   1          1\n",
      "A     kim\n",
      "B     lee\n",
      "C    park\n",
      "D    jung\n",
      "Name: name, dtype: object\n",
      "   name        tel\n",
      "A   kim  1111-2222\n",
      "B   lee  2222-1111\n",
      "C  park  3333-2222\n",
      "D  jung  3333-1111\n",
      "A     kim\n",
      "B     lee\n",
      "C    park\n",
      "D    jung\n",
      "Name: name, dtype: object [2]\n",
      "A     kim\n",
      "B     lee\n",
      "C    park\n",
      "D    jung\n",
      "Name: name, dtype: object ['C']\n",
      "park\n",
      "B     lee\n",
      "C    park\n",
      "D    jung\n",
      "Name: name, dtype: object\n"
     ]
    }
   ],
   "source": [
    "#Numpy -> DataFrame\n",
    "n = np.array(\n",
    "    [['kim', 20, '1111-2222'],\n",
    "     ['lee',30,'2222-1111'],\n",
    "     ['park', 35, '3333-2222'],\n",
    "     ['jung',25,'3333-1111']])\n",
    "\n",
    "print(type(n))\n",
    "print (n)\n",
    "df = pd.DataFrame(n)\n",
    "\n",
    "df.columns = ['name', 'age', 'tel']    #행에 이름\n",
    "df.index = ['A' , 'B', 'C', 'D']       #열에 이름\n",
    "\n",
    "print(df)\n",
    "print(df.index)\n",
    "print(df.columns)\n",
    "\n",
    "df = pd.DataFrame(n , columns = ['name', 'age', 'tel'], index = ['A','B','C','D'])\n",
    "print(df)\n",
    "\n",
    "print(df.describe())\n",
    "\n",
    "print(df['name'])\n",
    "print(df[['name', 'tel']])\n",
    "print(df['name'], [2])\n",
    "print(df['name'], ['C'])\n",
    "print(df['name'].C)\n",
    "print(df['name']['B' : 'D'])"
   ]
  },
  {
   "cell_type": "code",
   "execution_count": 149,
   "id": "fdac0217-c137-4155-8790-6a4ccf90dc6e",
   "metadata": {},
   "outputs": [
    {
     "name": "stdout",
     "output_type": "stream",
     "text": [
      "   name age        tel\n",
      "A   kim  20  1111-2222\n",
      "B   lee  30  2222-1111\n",
      "C  park  35  3333-2222\n",
      "D  jung  25  3333-1111\n",
      "  name age        tel\n",
      "A  kim  20  1111-2222\n",
      "   name        tel\n",
      "A   kim  1111-2222\n",
      "B   lee  2222-1111\n",
      "C  park  3333-2222\n",
      "D  jung  3333-1111\n"
     ]
    }
   ],
   "source": [
    "print (df[:][:])\n",
    "print (df[:2][:1])\n",
    "print(df[['name','tel']])\n",
    "# print(df[[0,2]])  에러, 컬럼명이 있는 경우 숫자 X\n",
    "# print(DF[0][0])"
   ]
  },
  {
   "cell_type": "code",
   "execution_count": 169,
   "id": "e7269d18-260e-4cc8-8b35-45e5402dc0ae",
   "metadata": {},
   "outputs": [
    {
     "name": "stdout",
     "output_type": "stream",
     "text": [
      "A     kim\n",
      "B     lee\n",
      "C    park\n",
      "D    jung\n",
      "Name: name, dtype: object\n",
      "   name age        tel address\n",
      "A   kim  30  1111-2222      서울\n",
      "B   lee  30  2222-1111      수원\n",
      "C  park  35  3333-2222      인천\n",
      "D  jung  25  3333-1111      안산\n"
     ]
    },
    {
     "name": "stderr",
     "output_type": "stream",
     "text": [
      "C:\\Users\\rmaqu\\AppData\\Local\\Temp\\ipykernel_21784\\1630803353.py:3: FutureWarning: ChainedAssignmentError: behaviour will change in pandas 3.0!\n",
      "You are setting values through chained assignment. Currently this works in certain cases, but when using Copy-on-Write (which will become the default behaviour in pandas 3.0) this will never work to update the original DataFrame or Series, because the intermediate object on which we are setting values will behave as a copy.\n",
      "A typical example is when you are setting values in a column of a DataFrame, like:\n",
      "\n",
      "df[\"col\"][row_indexer] = value\n",
      "\n",
      "Use `df.loc[row_indexer, \"col\"] = values` instead, to perform the assignment in a single step and ensure this keeps updating the original `df`.\n",
      "\n",
      "See the caveats in the documentation: https://pandas.pydata.org/pandas-docs/stable/user_guide/indexing.html#returning-a-view-versus-a-copy\n",
      "\n",
      "  df['age'] ['A'] = 30\n",
      "C:\\Users\\rmaqu\\AppData\\Local\\Temp\\ipykernel_21784\\1630803353.py:3: SettingWithCopyWarning: \n",
      "A value is trying to be set on a copy of a slice from a DataFrame\n",
      "\n",
      "See the caveats in the documentation: https://pandas.pydata.org/pandas-docs/stable/user_guide/indexing.html#returning-a-view-versus-a-copy\n",
      "  df['age'] ['A'] = 30\n"
     ]
    }
   ],
   "source": [
    "print(df['name'])\n",
    "df['address'] = ['서울', '수원', '인천','안산']\n",
    "df['age'] ['A'] = 30\n",
    "df['adult'] = df['age'].astype(np.int64) > 30\n",
    "\n",
    "del (df['adult'])\n",
    "print(df)"
   ]
  },
  {
   "cell_type": "code",
   "execution_count": null,
   "id": "8418ccbe-8c6f-4397-b827-ccfbbcf4a53e",
   "metadata": {},
   "outputs": [],
   "source": []
  },
  {
   "cell_type": "code",
   "execution_count": 178,
   "id": "abcca8b5-2d12-446a-b041-2c868b93ec51",
   "metadata": {},
   "outputs": [
    {
     "name": "stdout",
     "output_type": "stream",
     "text": [
      "a    10\n",
      "d    20\n",
      "b    40\n",
      "f    50\n",
      "u    60\n",
      "g    70\n",
      "dtype: int64\n"
     ]
    }
   ],
   "source": [
    "#series 정렬\n",
    "\n",
    "s = pd.Series([10,40,50,20,70,60], index=['a','b','f','d','g','u'])\n",
    "s = s.sort_index()\n",
    "s = s.sort_values()\n",
    "print(s)"
   ]
  },
  {
   "cell_type": "code",
   "execution_count": 180,
   "id": "eca837e4-bac9-4535-9930-b7070aafb824",
   "metadata": {},
   "outputs": [],
   "source": [
    "#DataFrame 정렬\n",
    "\n",
    "df = pd.DataFrame([[4,5,1,2], [20,10,40,30], ['B','C','D','A']])"
   ]
  },
  {
   "cell_type": "code",
   "execution_count": 182,
   "id": "f5412d2e-c5da-4b6d-8876-958dae1f2368",
   "metadata": {},
   "outputs": [
    {
     "name": "stdout",
     "output_type": "stream",
     "text": [
      "    0   1   2   3\n",
      "0   4   5   1   2\n",
      "1  20  10  40  30\n",
      "2   B   C   D   A\n"
     ]
    }
   ],
   "source": [
    "print(df)\n",
    "df = df.sort_index()\n",
    "print"
   ]
  },
  {
   "cell_type": "code",
   "execution_count": null,
   "id": "26436921-afd8-44c5-be7e-f49321d361e0",
   "metadata": {},
   "outputs": [],
   "source": []
  }
 ],
 "metadata": {
  "kernelspec": {
   "display_name": "Python 3 (ipykernel)",
   "language": "python",
   "name": "python3"
  },
  "language_info": {
   "codemirror_mode": {
    "name": "ipython",
    "version": 3
   },
   "file_extension": ".py",
   "mimetype": "text/x-python",
   "name": "python",
   "nbconvert_exporter": "python",
   "pygments_lexer": "ipython3",
   "version": "3.12.4"
  }
 },
 "nbformat": 4,
 "nbformat_minor": 5
}
