{
 "cells": [
  {
   "cell_type": "code",
   "execution_count": 3,
   "id": "79fb42de-091e-4e76-b55d-3412cc4f686c",
   "metadata": {},
   "outputs": [
    {
     "name": "stdout",
     "output_type": "stream",
     "text": [
      "['닥터 스트레인지', '스플릿', '럭키']\n"
     ]
    }
   ],
   "source": [
    "#51\n",
    "movie_rank = [\"닥터 스트레인지\", \"스플릿\", \"럭키\"]\n",
    "print(movie_rank)"
   ]
  },
  {
   "cell_type": "code",
   "execution_count": 8,
   "id": "39f81bb5-a896-4670-8248-d5cea95c8d5e",
   "metadata": {},
   "outputs": [
    {
     "data": {
      "text/plain": [
       "['닥터 스트레인지', '스플릿', '럭키', '배트맨']"
      ]
     },
     "execution_count": 8,
     "metadata": {},
     "output_type": "execute_result"
    }
   ],
   "source": [
    "#52 051의 movie_rank 리스트에 \"배트맨\"을 추가하라.\n",
    "\n",
    "movie_rank.append('배트맨')\n",
    "movie_rank"
   ]
  },
  {
   "cell_type": "code",
   "execution_count": 12,
   "id": "1ad7a976-47c1-4c43-b52d-cd9b076d2213",
   "metadata": {},
   "outputs": [
    {
     "name": "stdout",
     "output_type": "stream",
     "text": [
      "['닥터 스트레인지', '슈퍼맨', '스플릿', '럭키', '배트맨']\n"
     ]
    }
   ],
   "source": [
    "# 53 movie_rank 리스트에는 아래와 같이 네 개의 영화 제목이 바인딩되어 있다. \"슈퍼맨\"을 \"닥터 스트레인지\"와 \"스플릿\" 사이에 추가하라.\n",
    "movie_rank = ['닥터 스트레인지', '스플릿', '럭키', '배트맨']\n",
    "movie_rank.insert(1, \"슈퍼맨\")\n",
    "print(movie_rank)"
   ]
  },
  {
   "cell_type": "code",
   "execution_count": 26,
   "id": "a55dc0a2-724e-4319-aafa-1850e41cd1e9",
   "metadata": {},
   "outputs": [
    {
     "name": "stdout",
     "output_type": "stream",
     "text": [
      "['닥터 스트레인지', '슈퍼맨', '스플릿', '배트맨']\n"
     ]
    }
   ],
   "source": [
    "#054 movie_rank 리스트에서 '럭키'를 삭제하라.\n",
    "\n",
    "movie_rank = ['닥터 스트레인지', '슈퍼맨', '스플릿', '럭키', '배트맨']\n",
    "del movie_rank[3]\n",
    "print(movie_rank)"
   ]
  },
  {
   "cell_type": "code",
   "execution_count": 34,
   "id": "93e6cb18-003c-4a9d-9729-d1fe47241cf2",
   "metadata": {},
   "outputs": [
    {
     "name": "stdout",
     "output_type": "stream",
     "text": [
      "['닥터 스트레인지', '슈퍼맨']\n"
     ]
    }
   ],
   "source": [
    "#55 movie_rank 리스트에서 '스플릿' 과 '배트맨'을 를 삭제하라.\n",
    "\n",
    "movie_rank = ['닥터 스트레인지', '슈퍼맨', '스플릿', '배트맨']\n",
    "del movie_rank[2:]\n",
    "print (movie_rank)"
   ]
  },
  {
   "cell_type": "code",
   "execution_count": 40,
   "id": "cf08f707-f6df-4bbd-a045-3b9ac5048fdc",
   "metadata": {},
   "outputs": [
    {
     "name": "stdout",
     "output_type": "stream",
     "text": [
      "['C', 'C++', 'JAVA', 'Python', 'Go', 'C#']\n"
     ]
    }
   ],
   "source": [
    "#056 lang1과 lang2 리스트가 있을 때 lang1과 lang2의 원소를 모두 갖고 있는 langs 리스트를 만들어라.\n",
    "lang1 = [\"C\", \"C++\", \"JAVA\"]\n",
    "lang2 = [\"Python\", \"Go\", \"C#\"]\n",
    "\n",
    "lang3 = lang1 + lang2\n",
    "print(lang3)"
   ]
  },
  {
   "cell_type": "code",
   "execution_count": 46,
   "id": "f967c3a1-93c1-496d-9168-d6c190c63e28",
   "metadata": {},
   "outputs": [
    {
     "name": "stdout",
     "output_type": "stream",
     "text": [
      "1\n",
      "7\n"
     ]
    }
   ],
   "source": [
    "#057 다음 리스트에서 최댓값과 최솟값을 출력하라. (힌트: min(), max() 함수 사용)\n",
    "nums = [1, 2, 3, 4, 5, 6, 7]\n",
    "print(min(nums))\n",
    "print(max(nums))"
   ]
  },
  {
   "cell_type": "code",
   "execution_count": 52,
   "id": "d5c9a053-6e23-46ca-b990-f86e5d3b0c35",
   "metadata": {},
   "outputs": [
    {
     "name": "stdout",
     "output_type": "stream",
     "text": [
      "15\n"
     ]
    }
   ],
   "source": [
    "#58다음 리스트의 합을 출력하라.\n",
    "\n",
    "nums = [1, 2, 3, 4, 5]\n",
    "\n",
    "#답지\n",
    "\n",
    "print(sum(nums))"
   ]
  },
  {
   "cell_type": "code",
   "execution_count": 56,
   "id": "dd607721-6f91-4ad1-8b94-baea8f557dc3",
   "metadata": {},
   "outputs": [
    {
     "data": {
      "text/plain": [
       "12"
      ]
     },
     "execution_count": 56,
     "metadata": {},
     "output_type": "execute_result"
    }
   ],
   "source": [
    "#59 다음 리스트에 저장된 데이터의 개수를 화면에 구하하라.\n",
    "cook = [\"피자\", \"김밥\", \"만두\", \"양념치킨\", \"족발\", \"피자\", \"김치만두\", \"쫄면\", \"소시지\", \"라면\", \"팥빙수\", \"김치전\"]\n",
    "len(cook)"
   ]
  },
  {
   "cell_type": "code",
   "execution_count": 62,
   "id": "8a0b6e30-2483-4720-9321-f41be799d474",
   "metadata": {},
   "outputs": [
    {
     "name": "stdout",
     "output_type": "stream",
     "text": [
      "3.0\n"
     ]
    }
   ],
   "source": [
    "#60 평균\n",
    "nums = [1, 2, 3, 4, 5]\n",
    "avg = sum(nums)/len(nums)\n",
    "print(avg)"
   ]
  },
  {
   "cell_type": "code",
   "execution_count": 64,
   "id": "184f4913-2ee1-4714-a474-415986d80894",
   "metadata": {},
   "outputs": [
    {
     "data": {
      "text/plain": [
       "[100, 130, 140, 150, 160, 170]"
      ]
     },
     "execution_count": 64,
     "metadata": {},
     "output_type": "execute_result"
    }
   ],
   "source": [
    "# 061 price 변수에는 날짜와 종가 정보가 저장돼 있다. 날짜 정보를 제외하고 가격 정보만을 출력하라. (힌트 : 슬라이싱)\n",
    "price = ['20180728', 100, 130, 140, 150, 160, 170]\n",
    "price[1:]"
   ]
  },
  {
   "cell_type": "code",
   "execution_count": 66,
   "id": "0ef0f2ad-c19d-4468-80d3-d51ab0f8d37a",
   "metadata": {},
   "outputs": [
    {
     "name": "stdout",
     "output_type": "stream",
     "text": [
      "[1, 3, 5, 7, 9]\n"
     ]
    }
   ],
   "source": [
    "#062 슬라이싱을 사용해서 홀수만 출력하라.\n",
    "\n",
    "\n",
    "nums = [1, 2, 3, 4, 5, 6, 7, 8, 9, 10]\n",
    "print(nums[::2])"
   ]
  },
  {
   "cell_type": "code",
   "execution_count": 78,
   "id": "b836404d-b056-4e00-80ca-8b3bb65824dc",
   "metadata": {},
   "outputs": [
    {
     "name": "stdout",
     "output_type": "stream",
     "text": [
      "[2, 4, 6, 8, 10]\n"
     ]
    }
   ],
   "source": [
    "#063 슬라이싱을 사용해서 짝수만 출력하라.\n",
    "\n",
    "nums = [1, 2, 3, 4, 5, 6, 7, 8, 9, 10]\n",
    "\n",
    "print(nums[1::2])"
   ]
  },
  {
   "cell_type": "code",
   "execution_count": 82,
   "id": "8eeda381-7d4d-4cf3-8467-35c635687b09",
   "metadata": {},
   "outputs": [
    {
     "name": "stdout",
     "output_type": "stream",
     "text": [
      "[5, 4, 3, 2, 1]\n"
     ]
    }
   ],
   "source": [
    "#064 슬라이싱을 사용해서 리스트의 숫자를 역 방향으로 출력하라.\n",
    "\n",
    "\n",
    "nums = [1, 2, 3, 4, 5]\n",
    "\n",
    "\n",
    "print(nums[::-1])"
   ]
  },
  {
   "cell_type": "code",
   "execution_count": 88,
   "id": "81420e7c-57af-48ec-92fb-cc39d96aa563",
   "metadata": {},
   "outputs": [
    {
     "name": "stdout",
     "output_type": "stream",
     "text": [
      "삼성전자 Naver\n"
     ]
    }
   ],
   "source": [
    "#065\n",
    "interest = ['삼성전자', 'LG전자', 'Naver']\n",
    "print(interest[0], interest[2])"
   ]
  },
  {
   "cell_type": "code",
   "execution_count": 90,
   "id": "f966ba9a-fc98-4b73-b34e-5847793d1542",
   "metadata": {},
   "outputs": [
    {
     "name": "stdout",
     "output_type": "stream",
     "text": [
      "삼성전자 LG전자 Naver SK하이닉스 미래에셋대우\n"
     ]
    }
   ],
   "source": [
    "#66\n",
    "interest = ['삼성전자', 'LG전자', 'Naver', 'SK하이닉스', '미래에셋대우']\n",
    "print (\" \".join(interest))"
   ]
  },
  {
   "cell_type": "code",
   "execution_count": 92,
   "id": "89b3325c-fd1c-4d0b-b2c0-b19236bdab28",
   "metadata": {},
   "outputs": [
    {
     "name": "stdout",
     "output_type": "stream",
     "text": [
      "삼성전자/LG전자/Naver/SK하이닉스/미래에셋대우\n"
     ]
    }
   ],
   "source": [
    "#67 interest 리스트에는 아래의 데이터가 바인딩되어 있다.\n",
    "\n",
    "interest = ['삼성전자', 'LG전자', 'Naver', 'SK하이닉스', '미래에셋대우']\n",
    "print (\"/\".join(interest))"
   ]
  },
  {
   "cell_type": "code",
   "execution_count": 94,
   "id": "2d748aa3-c12d-46d0-a106-d919ce5cf19a",
   "metadata": {},
   "outputs": [
    {
     "name": "stdout",
     "output_type": "stream",
     "text": [
      "삼성전자\n",
      "LG전자\n",
      "Naver\n",
      "SK하이닉스\n",
      "미래에셋대우\n"
     ]
    }
   ],
   "source": [
    "#68\n",
    "interest = ['삼성전자', 'LG전자', 'Naver', 'SK하이닉스', '미래에셋대우']\n",
    "print(\"\\n\".join(interest))"
   ]
  },
  {
   "cell_type": "code",
   "execution_count": 96,
   "id": "81a5db19-af68-4532-9171-577a794f9b7a",
   "metadata": {},
   "outputs": [
    {
     "name": "stdout",
     "output_type": "stream",
     "text": [
      "['삼성전자', 'LG전자', 'Naver']\n"
     ]
    }
   ],
   "source": [
    "#69\n",
    "string = \"삼성전자/LG전자/Naver\"\n",
    "interest = string.split(\"/\")\n",
    "print(interest)"
   ]
  },
  {
   "cell_type": "code",
   "execution_count": 98,
   "id": "9461e5cb-51a1-4ed8-9692-d0f951e23df8",
   "metadata": {},
   "outputs": [
    {
     "data": {
      "text/plain": [
       "{1, 2, 3, 4, 5, 9, 10}"
      ]
     },
     "execution_count": 98,
     "metadata": {},
     "output_type": "execute_result"
    }
   ],
   "source": [
    "#70\n",
    "\n",
    "data = [2, 4, 3, 1, 5, 10, 9]\n",
    "set(data)"
   ]
  },
  {
   "cell_type": "code",
   "execution_count": 100,
   "id": "a8f7bcaa-e9bf-4d48-9283-14a2044aeaaf",
   "metadata": {},
   "outputs": [],
   "source": [
    "#71\n",
    "my_variable = ()"
   ]
  },
  {
   "cell_type": "code",
   "execution_count": 110,
   "id": "0405675f-604e-4f6b-b118-764e9e2e4979",
   "metadata": {},
   "outputs": [],
   "source": [
    "#72\n",
    "movie_rank = ('닥터스트레인지', '스플릿', '럭키')"
   ]
  },
  {
   "cell_type": "code",
   "execution_count": 108,
   "id": "ce494e11-ae5b-471b-b286-ce6f727b0605",
   "metadata": {},
   "outputs": [],
   "source": [
    "#73\n",
    "tuple = (1) \n",
    "#답지\n",
    "tuple = (1,)"
   ]
  },
  {
   "cell_type": "code",
   "execution_count": 112,
   "id": "b0ca503e-2bb0-4b6c-8429-849c583c5b45",
   "metadata": {},
   "outputs": [
    {
     "ename": "SyntaxError",
     "evalue": "invalid syntax. Perhaps you forgot a comma? (3454820695.py, line 4)",
     "output_type": "error",
     "traceback": [
      "\u001b[1;36m  Cell \u001b[1;32mIn[112], line 4\u001b[1;36m\u001b[0m\n\u001b[1;33m    Traceback (most recent call last):\u001b[0m\n\u001b[1;37m               ^\u001b[0m\n\u001b[1;31mSyntaxError\u001b[0m\u001b[1;31m:\u001b[0m invalid syntax. Perhaps you forgot a comma?\n"
     ]
    }
   ],
   "source": [
    "#74\n",
    "t = (1, 2, 3)\n",
    "t[0] = 'a'\n",
    "Traceback (most recent call last):\n",
    "  File \"<pyshell#46>\", line 1, in <module>\n",
    "    t[0] = 'a'\n",
    "TypeError: 'tuple' object does not support item assignment"
   ]
  },
  {
   "cell_type": "code",
   "execution_count": 114,
   "id": "c6f82beb-09e5-483f-8b41-9ac7557bded2",
   "metadata": {},
   "outputs": [
    {
     "data": {
      "text/plain": [
       "tuple"
      ]
     },
     "execution_count": 114,
     "metadata": {},
     "output_type": "execute_result"
    }
   ],
   "source": [
    "t = 1, 2, 3, 4\n",
    "type(t)"
   ]
  },
  {
   "cell_type": "code",
   "execution_count": 116,
   "id": "59ef1a4a-d4a1-455f-aeca-51301d9be843",
   "metadata": {},
   "outputs": [],
   "source": [
    "#76 포기"
   ]
  },
  {
   "cell_type": "code",
   "execution_count": 118,
   "id": "22ea426a-9668-4d26-9817-db568e583c54",
   "metadata": {},
   "outputs": [],
   "source": [
    "#77\n",
    "interest = ('삼성전자', 'LG전자', 'SK Hynix')\n",
    "data = list(interest)"
   ]
  },
  {
   "cell_type": "code",
   "execution_count": 120,
   "id": "a50bee33-b9d1-4988-8e6c-4e335559ed6c",
   "metadata": {},
   "outputs": [
    {
     "name": "stdout",
     "output_type": "stream",
     "text": [
      "['삼성전자', 'LG전자', 'SK Hynix']\n"
     ]
    }
   ],
   "source": [
    "print(data)"
   ]
  },
  {
   "cell_type": "code",
   "execution_count": 130,
   "id": "567a2026-bccc-4f57-a173-a57375dfd85d",
   "metadata": {},
   "outputs": [
    {
     "ename": "TypeError",
     "evalue": "'tuple' object is not callable",
     "output_type": "error",
     "traceback": [
      "\u001b[1;31m---------------------------------------------------------------------------\u001b[0m",
      "\u001b[1;31mTypeError\u001b[0m                                 Traceback (most recent call last)",
      "Cell \u001b[1;32mIn[130], line 3\u001b[0m\n\u001b[0;32m      1\u001b[0m \u001b[38;5;66;03m#78\u001b[39;00m\n\u001b[0;32m      2\u001b[0m interest \u001b[38;5;241m=\u001b[39m [\u001b[38;5;124m'\u001b[39m\u001b[38;5;124m삼성전자\u001b[39m\u001b[38;5;124m'\u001b[39m, \u001b[38;5;124m'\u001b[39m\u001b[38;5;124mLG전자\u001b[39m\u001b[38;5;124m'\u001b[39m, \u001b[38;5;124m'\u001b[39m\u001b[38;5;124mSK Hynix\u001b[39m\u001b[38;5;124m'\u001b[39m]\n\u001b[1;32m----> 3\u001b[0m data \u001b[38;5;241m=\u001b[39m \u001b[38;5;28mtuple\u001b[39m(interest)\n",
      "\u001b[1;31mTypeError\u001b[0m: 'tuple' object is not callable"
     ]
    }
   ],
   "source": [
    "#78\n",
    "interest = ['삼성전자', 'LG전자', 'SK Hynix']\n",
    "data = tuple(interest)"
   ]
  },
  {
   "cell_type": "code",
   "execution_count": 124,
   "id": "4a696802-9525-4c6b-ac2c-66cdc7d5b680",
   "metadata": {},
   "outputs": [
    {
     "name": "stdout",
     "output_type": "stream",
     "text": [
      "['삼성전자', 'LG전자', 'SK Hynix']\n"
     ]
    }
   ],
   "source": []
  },
  {
   "cell_type": "code",
   "execution_count": 126,
   "id": "eb44d9aa-c121-4744-8666-ca997a3560e0",
   "metadata": {},
   "outputs": [
    {
     "data": {
      "text/plain": [
       "list"
      ]
     },
     "execution_count": 126,
     "metadata": {},
     "output_type": "execute_result"
    }
   ],
   "source": [
    "type(data)"
   ]
  },
  {
   "cell_type": "code",
   "execution_count": 132,
   "id": "53ba748b-c215-406b-8f4a-de5eee862a5a",
   "metadata": {},
   "outputs": [],
   "source": [
    "#80 몰라"
   ]
  },
  {
   "cell_type": "code",
   "execution_count": 134,
   "id": "dd37aed3-4542-4305-9607-dd5b310abaa4",
   "metadata": {},
   "outputs": [],
   "source": [
    "#81~83 포기"
   ]
  },
  {
   "cell_type": "code",
   "execution_count": 136,
   "id": "a4d2b096-90e0-470a-af73-0d6390b144a5",
   "metadata": {},
   "outputs": [],
   "source": [
    "#84\n",
    "temp = { }\n"
   ]
  },
  {
   "cell_type": "code",
   "execution_count": 138,
   "id": "4f4ba3ec-b453-4b0e-a3fc-0e4b29bd3858",
   "metadata": {},
   "outputs": [
    {
     "name": "stdout",
     "output_type": "stream",
     "text": [
      "{'메로나': 1000, '폴라포': 1200, '빵빠레': 1800}\n"
     ]
    }
   ],
   "source": [
    "#85\n",
    "icecream = {\"메로나\": 1000, \"폴라포\": 1200, \"빵빠레\": 1800}\n",
    "print(icecream)"
   ]
  },
  {
   "cell_type": "code",
   "execution_count": 142,
   "id": "7f2e365c-fb80-47d2-ad3c-adebd780db55",
   "metadata": {},
   "outputs": [
    {
     "name": "stdout",
     "output_type": "stream",
     "text": [
      "{'메로나': 1000, '폴라포': 1200, '빵빠레': 1800, '죠스바': 1200, '월드콘': 1500}\n"
     ]
    }
   ],
   "source": [
    "#86\n",
    "icecream = {\"메로나\": 1000, \"폴라포\": 1200, \"빵빠레\": 1800}\n",
    "icecream[\"죠스바\"] = 1200\n",
    "icecream[\"월드콘\"] = 1500\n",
    "print(icecream)"
   ]
  },
  {
   "cell_type": "code",
   "execution_count": 146,
   "id": "9bdeabba-5501-4b0a-b1ea-dfb132793ee4",
   "metadata": {},
   "outputs": [
    {
     "name": "stdout",
     "output_type": "stream",
     "text": [
      "메로나 가격 1000\n"
     ]
    }
   ],
   "source": [
    "#87\n",
    "ice = {'메로나': 1000,\n",
    "       '폴로포': 1200,\n",
    "       '빵빠레': 1800,\n",
    "       '죠스바': 1200,\n",
    "       '월드콘': 1500}\n",
    "print (\"메로나 가격\", ice['메로나'])"
   ]
  },
  {
   "cell_type": "code",
   "execution_count": 148,
   "id": "20c89bd0-b2ab-4acc-8ab1-b1e7bcea5600",
   "metadata": {},
   "outputs": [],
   "source": [
    "#88\n",
    "ice = {'메로나': 1000,\n",
    "       '폴로포': 1200,\n",
    "       '빵빠레': 1800,\n",
    "       '죠스바': 1200,\n",
    "       '월드콘': 1500}\n",
    "del ice['메로나']"
   ]
  },
  {
   "cell_type": "code",
   "execution_count": 150,
   "id": "42f978db-a7d9-4dad-819e-47da79f8b061",
   "metadata": {},
   "outputs": [
    {
     "name": "stdout",
     "output_type": "stream",
     "text": [
      "{'폴로포': 1200, '빵빠레': 1800, '죠스바': 1200, '월드콘': 1500}\n"
     ]
    }
   ],
   "source": [
    "print(ice)"
   ]
  },
  {
   "cell_type": "code",
   "execution_count": 154,
   "id": "314767df-43a1-4b72-b4b1-82da2594da53",
   "metadata": {},
   "outputs": [],
   "source": [
    "#89\n",
    "ice = {'메로나': 1000,\n",
    "       '폴로포': 1200,\n",
    "       '빵빠레': 1800,\n",
    "       '죠스바': 1200,\n",
    "       '월드콘': 1500}\n",
    "ice['메로나'] = 1300"
   ]
  },
  {
   "cell_type": "code",
   "execution_count": 156,
   "id": "962af48c-d513-485a-8a52-e43646f6f59b",
   "metadata": {},
   "outputs": [],
   "source": [
    "#90\n",
    "#누가바가 없어서"
   ]
  },
  {
   "cell_type": "code",
   "execution_count": null,
   "id": "aacc445f-bf80-462f-afde-85b593a1c61c",
   "metadata": {},
   "outputs": [],
   "source": [
    "#90 번제부터는 주말간 재복습하자..."
   ]
  }
 ],
 "metadata": {
  "kernelspec": {
   "display_name": "Python 3 (ipykernel)",
   "language": "python",
   "name": "python3"
  },
  "language_info": {
   "codemirror_mode": {
    "name": "ipython",
    "version": 3
   },
   "file_extension": ".py",
   "mimetype": "text/x-python",
   "name": "python",
   "nbconvert_exporter": "python",
   "pygments_lexer": "ipython3",
   "version": "3.12.4"
  }
 },
 "nbformat": 4,
 "nbformat_minor": 5
}
