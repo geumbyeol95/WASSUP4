{
 "cells": [
  {
   "cell_type": "code",
   "execution_count": 1,
   "id": "48858d05-469b-4ffe-97a0-e200e8531712",
   "metadata": {},
   "outputs": [
    {
     "name": "stdout",
     "output_type": "stream",
     "text": [
      "Hello World\n"
     ]
    }
   ],
   "source": [
    "#1\n",
    "print('Hello World')"
   ]
  },
  {
   "cell_type": "code",
   "execution_count": 3,
   "id": "92caddfb-b69a-4998-bd33-bc24c7f484f6",
   "metadata": {},
   "outputs": [
    {
     "name": "stdout",
     "output_type": "stream",
     "text": [
      "Mary`s cosmetics\n"
     ]
    }
   ],
   "source": [
    "#2\n",
    "print(\"Mary`s cosmetics\")"
   ]
  },
  {
   "cell_type": "code",
   "execution_count": 9,
   "id": "c8f580d0-5f1a-440b-a5a2-27a22e66c201",
   "metadata": {},
   "outputs": [
    {
     "name": "stdout",
     "output_type": "stream",
     "text": [
      "신씨가 소리질렀다. \"도둑이야\"\n"
     ]
    }
   ],
   "source": [
    "#3\n",
    "print('신씨가 소리질렀다. \"도둑이야\"')"
   ]
  },
  {
   "cell_type": "code",
   "execution_count": 29,
   "id": "2884bc2a-51de-4b24-8767-7fa645e515fa",
   "metadata": {},
   "outputs": [
    {
     "name": "stdout",
     "output_type": "stream",
     "text": [
      "C:\\Windows\n"
     ]
    },
    {
     "name": "stderr",
     "output_type": "stream",
     "text": [
      "<>:2: SyntaxWarning: invalid escape sequence '\\W'\n",
      "<>:2: SyntaxWarning: invalid escape sequence '\\W'\n",
      "C:\\Users\\rmaqu\\AppData\\Local\\Temp\\ipykernel_20752\\3828862672.py:2: SyntaxWarning: invalid escape sequence '\\W'\n",
      "  print('C:\\Windows')\n"
     ]
    }
   ],
   "source": [
    "#4\n",
    "print('C:\\Windows')"
   ]
  },
  {
   "cell_type": "code",
   "execution_count": 31,
   "id": "6dd73fec-e26a-4a03-aab7-b9f8dbee206b",
   "metadata": {},
   "outputs": [
    {
     "name": "stdout",
     "output_type": "stream",
     "text": [
      "안녕하세요.\n",
      "만나서\t\t반갑습니다.\n"
     ]
    }
   ],
   "source": [
    "#5\n",
    "print(\"안녕하세요.\\n만나서\\t\\t반갑습니다.\")"
   ]
  },
  {
   "cell_type": "code",
   "execution_count": 33,
   "id": "13c4bfee-ff34-4a26-b739-902a5e1df928",
   "metadata": {},
   "outputs": [
    {
     "name": "stdout",
     "output_type": "stream",
     "text": [
      "오늘은 일요일\n"
     ]
    }
   ],
   "source": [
    "#6\n",
    "print(\"오늘은\",\"일요일\")"
   ]
  },
  {
   "cell_type": "code",
   "execution_count": 81,
   "id": "85f97e84-4baf-45b5-84bf-6a9897226a1c",
   "metadata": {},
   "outputs": [
    {
     "name": "stdout",
     "output_type": "stream",
     "text": [
      "print;kakao;sk;samsung\n"
     ]
    }
   ],
   "source": [
    "#7\n",
    "print('print','kakao','sk','samsung', sep=';')"
   ]
  },
  {
   "cell_type": "code",
   "execution_count": 83,
   "id": "31f7db5b-a109-4e47-8dba-560c40e020f8",
   "metadata": {},
   "outputs": [
    {
     "name": "stdout",
     "output_type": "stream",
     "text": [
      "print/kakao/sk/samsung\n"
     ]
    }
   ],
   "source": [
    "#8\n",
    "print('print','kakao','sk','samsung', sep='/')"
   ]
  },
  {
   "cell_type": "code",
   "execution_count": 87,
   "id": "bc3f7a1a-31c7-43ab-b398-0d37d66bf0ec",
   "metadata": {},
   "outputs": [
    {
     "name": "stdout",
     "output_type": "stream",
     "text": [
      "first\n",
      "second\n"
     ]
    }
   ],
   "source": [
    "#9\n",
    "print('first');print('second')"
   ]
  },
  {
   "cell_type": "code",
   "execution_count": 59,
   "id": "cf810fcd-e0f4-43cd-878d-373545131a12",
   "metadata": {},
   "outputs": [
    {
     "name": "stdout",
     "output_type": "stream",
     "text": [
      "firstsecond\n"
     ]
    }
   ],
   "source": [
    "print('first', end='');print('second')"
   ]
  },
  {
   "cell_type": "code",
   "execution_count": 91,
   "id": "69534fbb-6daa-46c1-826d-6fd3986ed9da",
   "metadata": {},
   "outputs": [
    {
     "data": {
      "text/plain": [
       "1.6666666666666667"
      ]
     },
     "execution_count": 91,
     "metadata": {},
     "output_type": "execute_result"
    }
   ],
   "source": [
    "#10\n",
    "5/3"
   ]
  },
  {
   "cell_type": "code",
   "execution_count": 93,
   "id": "03599dba-2ad9-4c73-be55-fb21843cf33f",
   "metadata": {},
   "outputs": [
    {
     "name": "stdout",
     "output_type": "stream",
     "text": [
      "500000\n"
     ]
    }
   ],
   "source": [
    "#11\n",
    "삼성전자 = 50000\n",
    "총평가금액 = 삼성전자*10\n",
    "print(총평가금액)"
   ]
  },
  {
   "cell_type": "code",
   "execution_count": 95,
   "id": "11a61b3b-8b86-47e6-aef7-e22f31255499",
   "metadata": {},
   "outputs": [
    {
     "name": "stdout",
     "output_type": "stream",
     "text": [
      "시가총액298000000000000\n",
      "현재가50000\n",
      "per15.79\n"
     ]
    }
   ],
   "source": [
    "#12\n",
    "시가총액 = 298000000000000\n",
    "현재가 = 50000\n",
    "per = 15.79\n",
    "\n",
    "print('시가총액',end=''); print(시가총액)\n",
    "print('현재가',end=''); print(현재가)\n",
    "print('per',end=''); print(per)\n",
    "#표 바인딩은 어떻게 하지"
   ]
  },
  {
   "cell_type": "code",
   "execution_count": 97,
   "id": "2c0b8474-bfdd-490e-a135-0bd247511f80",
   "metadata": {},
   "outputs": [
    {
     "data": {
      "text/plain": [
       "'hello!python'"
      ]
     },
     "execution_count": 97,
     "metadata": {},
     "output_type": "execute_result"
    }
   ],
   "source": [
    "#13\n",
    "s = 'hello'\n",
    "t = 'python'\n",
    "\n",
    "s+'!'+t"
   ]
  },
  {
   "cell_type": "code",
   "execution_count": 101,
   "id": "25f16af6-5c9f-4bba-ad91-8960ef5da9ca",
   "metadata": {},
   "outputs": [
    {
     "data": {
      "text/plain": [
       "8"
      ]
     },
     "execution_count": 101,
     "metadata": {},
     "output_type": "execute_result"
    }
   ],
   "source": [
    "#14\n",
    "2+2*3"
   ]
  },
  {
   "cell_type": "code",
   "execution_count": 111,
   "id": "fdb1e5c3-3823-43da-9190-cbcf9b92a97f",
   "metadata": {},
   "outputs": [
    {
     "name": "stdout",
     "output_type": "stream",
     "text": [
      "<class 'int'>\n"
     ]
    }
   ],
   "source": [
    "#15\n",
    "a=128\n",
    "print(type(a))"
   ]
  },
  {
   "cell_type": "code",
   "execution_count": 107,
   "id": "3d75357b-a05b-4507-a9b8-c4318fe29f33",
   "metadata": {},
   "outputs": [
    {
     "name": "stdout",
     "output_type": "stream",
     "text": [
      "<class 'str'>\n"
     ]
    }
   ],
   "source": [
    "#16\n",
    "a=\"132\"\n",
    "print(type(a))"
   ]
  },
  {
   "cell_type": "code",
   "execution_count": 119,
   "id": "fbc136ff-556a-4bd9-9a92-0ca6def85f18",
   "metadata": {},
   "outputs": [],
   "source": [
    "#17 ~ #19 이건 도저히 모르겠다."
   ]
  },
  {
   "cell_type": "code",
   "execution_count": 129,
   "id": "646fe05d-cfd3-43e3-9be9-25885c714206",
   "metadata": {},
   "outputs": [
    {
     "name": "stdout",
     "output_type": "stream",
     "text": [
      "1749024\n"
     ]
    }
   ],
   "source": [
    "#20\n",
    "a = 48584\n",
    "총금액 = a*36\n",
    "print(총금액)\n"
   ]
  },
  {
   "cell_type": "code",
   "execution_count": 144,
   "id": "455c5efa-bb57-457c-b950-44d403021da9",
   "metadata": {},
   "outputs": [
    {
     "name": "stdout",
     "output_type": "stream",
     "text": [
      "p t\n"
     ]
    }
   ],
   "source": [
    "#21\n",
    "letters = 'python'\n",
    "print(letters[0],letters[2])"
   ]
  },
  {
   "cell_type": "code",
   "execution_count": 154,
   "id": "64029ab4-36af-4016-9742-7d711221039b",
   "metadata": {},
   "outputs": [
    {
     "name": "stdout",
     "output_type": "stream",
     "text": [
      "2210\n"
     ]
    }
   ],
   "source": [
    "#22\n",
    "license_plate = \"24가 2210\"\n",
    "print(license_plate[4:])"
   ]
  },
  {
   "cell_type": "code",
   "execution_count": 160,
   "id": "174f0a3b-248a-40de-8312-ece1b3f16dde",
   "metadata": {},
   "outputs": [
    {
     "name": "stdout",
     "output_type": "stream",
     "text": [
      "홀홀홀\n"
     ]
    }
   ],
   "source": [
    "#23 몰라서 대충 배낌\n",
    "string = \"홀짝홀짝홀짝\"\n",
    "print(string[::2])"
   ]
  },
  {
   "cell_type": "code",
   "execution_count": 162,
   "id": "3c59394c-5dda-4479-a15f-166f53bc3816",
   "metadata": {},
   "outputs": [
    {
     "name": "stdout",
     "output_type": "stream",
     "text": [
      "nohtyP\n"
     ]
    }
   ],
   "source": [
    "#24\n",
    "string = 'Python'\n",
    "print(string[::-1])"
   ]
  },
  {
   "cell_type": "code",
   "execution_count": 176,
   "id": "f1e723bf-93d8-4572-b0cc-8582eedb3ada",
   "metadata": {},
   "outputs": [
    {
     "name": "stdout",
     "output_type": "stream",
     "text": [
      "010 1111 2222\n"
     ]
    }
   ],
   "source": [
    "#25\n",
    "phone_number = \"010-1111-2222\"\n",
    "phone_number1 = phone_number.replace('-',' ')\n",
    "print(phone_number1)"
   ]
  },
  {
   "cell_type": "code",
   "execution_count": 178,
   "id": "fa48b2e9-c433-45e0-9cae-ce5edabf588c",
   "metadata": {},
   "outputs": [
    {
     "name": "stdout",
     "output_type": "stream",
     "text": [
      "01011112222\n"
     ]
    }
   ],
   "source": [
    "#26\n",
    "phone_number = \"010-1111-2222\"\n",
    "phone_number1 = phone_number.replace('-','')\n",
    "print(phone_number1)"
   ]
  },
  {
   "cell_type": "code",
   "execution_count": 194,
   "id": "457d4a7c-6b0a-4f83-bc19-4fcfe1f14008",
   "metadata": {},
   "outputs": [
    {
     "name": "stdout",
     "output_type": "stream",
     "text": [
      "kr\n"
     ]
    }
   ],
   "source": [
    "#27\n",
    "url = \"http://sharebook.kr\"\n",
    "print(url[-2:])"
   ]
  },
  {
   "cell_type": "code",
   "execution_count": 196,
   "id": "fea0e3a7-ea8b-497c-be65-bedd9f61dfa7",
   "metadata": {},
   "outputs": [
    {
     "ename": "TypeError",
     "evalue": "'str' object does not support item assignment",
     "output_type": "error",
     "traceback": [
      "\u001b[1;31m---------------------------------------------------------------------------\u001b[0m",
      "\u001b[1;31mTypeError\u001b[0m                                 Traceback (most recent call last)",
      "Cell \u001b[1;32mIn[196], line 2\u001b[0m\n\u001b[0;32m      1\u001b[0m \u001b[38;5;66;03m#28 lang = 'python'\u001b[39;00m\n\u001b[1;32m----> 2\u001b[0m lang[\u001b[38;5;241m0\u001b[39m] \u001b[38;5;241m=\u001b[39m \u001b[38;5;124m'\u001b[39m\u001b[38;5;124mP\u001b[39m\u001b[38;5;124m'\u001b[39m\n\u001b[0;32m      3\u001b[0m \u001b[38;5;28mprint\u001b[39m(lang)\n",
      "\u001b[1;31mTypeError\u001b[0m: 'str' object does not support item assignment"
     ]
    }
   ],
   "source": [
    "#28 lang = 'python'\n",
    "lang[0] = 'P'\n",
    "print(lang)"
   ]
  },
  {
   "cell_type": "code",
   "execution_count": 198,
   "id": "71d6418c-907e-4318-8ad6-f9c1c88b2d9a",
   "metadata": {},
   "outputs": [
    {
     "name": "stdout",
     "output_type": "stream",
     "text": [
      "Abcdfe2A354A32A\n"
     ]
    }
   ],
   "source": [
    "#29\n",
    "string = 'abcdfe2a354a32a'\n",
    "print(string.replace('a','A'))"
   ]
  },
  {
   "cell_type": "code",
   "execution_count": 200,
   "id": "5c48c502-ea49-4063-81a2-b2317bba4a06",
   "metadata": {},
   "outputs": [
    {
     "name": "stdout",
     "output_type": "stream",
     "text": [
      "abcd\n"
     ]
    }
   ],
   "source": [
    "#30\n",
    "string = 'abcd'\n",
    "string.replace('b', 'B')\n",
    "print(string)\n",
    "#aBcd"
   ]
  },
  {
   "cell_type": "code",
   "execution_count": 202,
   "id": "ffd07a52-c48b-4b08-8dd4-7f1f758a596c",
   "metadata": {},
   "outputs": [
    {
     "name": "stdout",
     "output_type": "stream",
     "text": [
      "34\n"
     ]
    }
   ],
   "source": [
    "#31\n",
    "a = \"3\"\n",
    "b = \"4\"\n",
    "print(a + b)\n",
    "#34?"
   ]
  },
  {
   "cell_type": "code",
   "execution_count": 204,
   "id": "6b180bf2-44cb-4a09-858a-054d409af534",
   "metadata": {},
   "outputs": [
    {
     "name": "stdout",
     "output_type": "stream",
     "text": [
      "HiHiHi\n"
     ]
    }
   ],
   "source": [
    "#32\n",
    "print(\"Hi\" * 3)\n",
    "#hihihi?"
   ]
  },
  {
   "cell_type": "code",
   "execution_count": 207,
   "id": "be0eda36-3f5f-49cc-9ee4-96a12edb99f1",
   "metadata": {},
   "outputs": [
    {
     "name": "stdout",
     "output_type": "stream",
     "text": [
      "--------------------------------------------------------------------------------\n"
     ]
    }
   ],
   "source": [
    "#33\n",
    "print('-'*80)"
   ]
  },
  {
   "cell_type": "code",
   "execution_count": 219,
   "id": "1ca61fa0-8f24-4eb3-bbbe-fb3eb3d252ba",
   "metadata": {},
   "outputs": [
    {
     "name": "stdout",
     "output_type": "stream",
     "text": [
      "pythonjavapythonjavapythonjava\n",
      "python java python java python java \n"
     ]
    }
   ],
   "source": [
    "#34\n",
    "t1 = 'python'\n",
    "t2 = 'java'\n",
    "print((t1+t2)*3)\n",
    "\n",
    "t1 = 'python'\n",
    "t2 = 'java'\n",
    "print((t1+' '+t2+' ')*3)"
   ]
  },
  {
   "cell_type": "code",
   "execution_count": 229,
   "id": "3a945bc0-d566-4ac9-a299-78737f261a0b",
   "metadata": {},
   "outputs": [
    {
     "name": "stdout",
     "output_type": "stream",
     "text": [
      "이름 : 김민수 나이 : 10\n",
      "이름 : 이철희 나이 : 13\n"
     ]
    }
   ],
   "source": [
    "#35\n",
    "name1 = \"김민수\" \n",
    "age1 = 10\n",
    "name2 = \"이철희\"\n",
    "age2 = 13\n",
    "\n",
    "print(\"이름 : %s 나이 : %d\" % (name1, age1))\n",
    "print(\"이름 : %s 나이 : %d\" % (name2, age2))"
   ]
  },
  {
   "cell_type": "code",
   "execution_count": 233,
   "id": "01f395cc-1a6b-41dc-af33-32eae6c29e1b",
   "metadata": {},
   "outputs": [
    {
     "name": "stdout",
     "output_type": "stream",
     "text": [
      "이름: 김민수 나이: 10\n",
      "이름: 이철희 나이: 13\n"
     ]
    }
   ],
   "source": [
    "#36\n",
    "print(\"이름: {} 나이: {}\".format (name1, age1))\n",
    "print(\"이름: {} 나이: {}\".format (name2, age2))"
   ]
  },
  {
   "cell_type": "code",
   "execution_count": 245,
   "id": "91e7b04b-c3f4-42ff-93cd-a005ae368af8",
   "metadata": {},
   "outputs": [
    {
     "name": "stdout",
     "output_type": "stream",
     "text": [
      "이름: 김민수 나이: 10\n",
      "이름: 이철희 나이: 13\n"
     ]
    }
   ],
   "source": [
    "#37\n",
    "print(f\"이름: {name1} 나이: {age1}\")\n",
    "print(f\"이름: {name2} 나이: {age2}\")"
   ]
  },
  {
   "cell_type": "code",
   "execution_count": 257,
   "id": "3ca7d52f-6726-4d07-a689-fc9645a31c51",
   "metadata": {},
   "outputs": [
    {
     "name": "stdout",
     "output_type": "stream",
     "text": [
      "5969782550\n"
     ]
    }
   ],
   "source": [
    "#38\n",
    "상장주식수 = \"5,969,782,550\"\n",
    "print(상장주식수.replace(',',''))"
   ]
  },
  {
   "cell_type": "code",
   "execution_count": 259,
   "id": "6017a4a3-cca0-47fa-ab14-a6854cd43135",
   "metadata": {},
   "outputs": [
    {
     "name": "stdout",
     "output_type": "stream",
     "text": [
      "2020/03\n"
     ]
    }
   ],
   "source": [
    "#39\n",
    "분기 = \"2020/03(E) (IFRS연결)\"\n",
    "print(분기[:7])"
   ]
  },
  {
   "cell_type": "code",
   "execution_count": 267,
   "id": "3cf242e6-280b-4de7-842a-09b3be09809d",
   "metadata": {},
   "outputs": [
    {
     "name": "stdout",
     "output_type": "stream",
     "text": [
      "삼성전자\n"
     ]
    }
   ],
   "source": [
    "#40\n",
    "data = \"   삼성전자    \"\n",
    "print(data.strip())"
   ]
  },
  {
   "cell_type": "code",
   "execution_count": 273,
   "id": "99994a9f-8c0a-4b58-8f02-3e174b6a50e6",
   "metadata": {},
   "outputs": [
    {
     "name": "stdout",
     "output_type": "stream",
     "text": [
      "BTC_KRW\n"
     ]
    }
   ],
   "source": [
    "#41\n",
    "ticker = \"btc_krw\"\n",
    "print(ticker.upper())"
   ]
  },
  {
   "cell_type": "code",
   "execution_count": 277,
   "id": "581653a7-bbe6-4ac8-bdaf-ef90f9b0445a",
   "metadata": {},
   "outputs": [
    {
     "name": "stdout",
     "output_type": "stream",
     "text": [
      "btc_krw\n"
     ]
    }
   ],
   "source": [
    "#42\n",
    "ticker = \"BTC_KRW\"\n",
    "print(ticker.lower())"
   ]
  },
  {
   "cell_type": "code",
   "execution_count": 283,
   "id": "29c374af-93b1-418d-81f3-d29f82ec003c",
   "metadata": {},
   "outputs": [
    {
     "data": {
      "text/plain": [
       "'Hello'"
      ]
     },
     "execution_count": 283,
     "metadata": {},
     "output_type": "execute_result"
    }
   ],
   "source": [
    "#43 일단 따라해봄\n",
    "a = \"hello\"\n",
    "a = a.capitalize()\n",
    "a"
   ]
  },
  {
   "cell_type": "code",
   "execution_count": 291,
   "id": "f8a7d344-e259-4b3c-97f4-518de859b1fe",
   "metadata": {},
   "outputs": [
    {
     "data": {
      "text/plain": [
       "True"
      ]
     },
     "execution_count": 291,
     "metadata": {},
     "output_type": "execute_result"
    }
   ],
   "source": [
    "#44\n",
    "file_name = \"보고서.xlsx\"\n",
    "file_name.endswith(\"xlsx\")"
   ]
  },
  {
   "cell_type": "code",
   "execution_count": 295,
   "id": "8e62ecba-69a5-4df6-ae50-2e39985f9ada",
   "metadata": {},
   "outputs": [
    {
     "data": {
      "text/plain": [
       "False"
      ]
     },
     "execution_count": 295,
     "metadata": {},
     "output_type": "execute_result"
    }
   ],
   "source": [
    "#45\n",
    "file_name = \"보고서.xlsx\"\n",
    "file_name.endswith(\"xls\")"
   ]
  },
  {
   "cell_type": "code",
   "execution_count": 301,
   "id": "5e12a459-0128-4589-93be-34fda2a799eb",
   "metadata": {},
   "outputs": [
    {
     "data": {
      "text/plain": [
       "True"
      ]
     },
     "execution_count": 301,
     "metadata": {},
     "output_type": "execute_result"
    }
   ],
   "source": [
    "#46\n",
    "file_name = \"2020_보고서.xlsx\"\n",
    "file_name.startswith(\"2020\")"
   ]
  },
  {
   "cell_type": "code",
   "execution_count": 303,
   "id": "87ca6f84-7fb4-4913-8c11-c8c7a147b82d",
   "metadata": {},
   "outputs": [
    {
     "data": {
      "text/plain": [
       "['hello', 'world']"
      ]
     },
     "execution_count": 303,
     "metadata": {},
     "output_type": "execute_result"
    }
   ],
   "source": [
    "#47\n",
    "a = \"hello world\"\n",
    "a.split()"
   ]
  },
  {
   "cell_type": "code",
   "execution_count": 305,
   "id": "d6b85e1e-37b0-47c6-b2bf-87fbd7dc9510",
   "metadata": {},
   "outputs": [],
   "source": [
    "#48"
   ]
  },
  {
   "cell_type": "code",
   "execution_count": 309,
   "id": "4bac7a13-5b97-47d7-bf28-5b0a9d260576",
   "metadata": {},
   "outputs": [
    {
     "data": {
      "text/plain": [
       "['btc', 'krw']"
      ]
     },
     "execution_count": 309,
     "metadata": {},
     "output_type": "execute_result"
    }
   ],
   "source": [
    "ticker = \"btc_krw\"\n",
    "ticker.split(\"_\")"
   ]
  },
  {
   "cell_type": "code",
   "execution_count": 313,
   "id": "8e3111da-b6ea-418b-b5c6-3b43562e14af",
   "metadata": {},
   "outputs": [
    {
     "data": {
      "text/plain": [
       "['2020', '05', '01']"
      ]
     },
     "execution_count": 313,
     "metadata": {},
     "output_type": "execute_result"
    }
   ],
   "source": [
    "#49\n",
    "date = \"2020-05-01\"\n",
    "date.split(\"-\")"
   ]
  },
  {
   "cell_type": "code",
   "execution_count": 315,
   "id": "ba18608f-1b9f-4ffc-b3e0-f9d9a7804153",
   "metadata": {},
   "outputs": [
    {
     "data": {
      "text/plain": [
       "'039490'"
      ]
     },
     "execution_count": 315,
     "metadata": {},
     "output_type": "execute_result"
    }
   ],
   "source": [
    "#50\n",
    "data = \"039490     \"\n",
    "data.rstrip()"
   ]
  },
  {
   "cell_type": "code",
   "execution_count": null,
   "id": "2c3b5a59-bbe7-4a2d-82ca-eafbd953ab8a",
   "metadata": {},
   "outputs": [],
   "source": []
  }
 ],
 "metadata": {
  "kernelspec": {
   "display_name": "Python 3 (ipykernel)",
   "language": "python",
   "name": "python3"
  },
  "language_info": {
   "codemirror_mode": {
    "name": "ipython",
    "version": 3
   },
   "file_extension": ".py",
   "mimetype": "text/x-python",
   "name": "python",
   "nbconvert_exporter": "python",
   "pygments_lexer": "ipython3",
   "version": "3.12.4"
  }
 },
 "nbformat": 4,
 "nbformat_minor": 5
}
