{
 "cells": [
  {
   "cell_type": "code",
   "execution_count": 1,
   "id": "3d02f37c-ea8d-4754-b310-471d82342080",
   "metadata": {},
   "outputs": [
    {
     "name": "stdout",
     "output_type": "stream",
     "text": [
      "0\n",
      "1\n",
      "2\n",
      "3\n",
      "4\n",
      "5\n",
      "6\n",
      "7\n",
      "8\n",
      "9\n"
     ]
    }
   ],
   "source": [
    "for i in range(10):\n",
    "    print(i)"
   ]
  },
  {
   "cell_type": "code",
   "execution_count": 3,
   "id": "df4fe78e-d196-408b-8901-886339e67f5a",
   "metadata": {},
   "outputs": [
    {
     "name": "stdout",
     "output_type": "stream",
     "text": [
      "1\n",
      "2\n",
      "3\n",
      "4\n",
      "5\n",
      "6\n",
      "7\n",
      "8\n",
      "9\n",
      "10\n"
     ]
    }
   ],
   "source": [
    "for i in range(1,11):\n",
    "    print(i)"
   ]
  },
  {
   "cell_type": "code",
   "execution_count": 7,
   "id": "6d6b0c80-db1e-423d-835e-ee915cb1da52",
   "metadata": {},
   "outputs": [
    {
     "ename": "NameError",
     "evalue": "name 'sum_range' is not defined",
     "output_type": "error",
     "traceback": [
      "\u001b[1;31m---------------------------------------------------------------------------\u001b[0m",
      "\u001b[1;31mNameError\u001b[0m                                 Traceback (most recent call last)",
      "Cell \u001b[1;32mIn[7], line 2\u001b[0m\n\u001b[0;32m      1\u001b[0m \u001b[38;5;28;01mfor\u001b[39;00m i \u001b[38;5;129;01min\u001b[39;00m \u001b[38;5;28mrange\u001b[39m(\u001b[38;5;241m1\u001b[39m,\u001b[38;5;241m11\u001b[39m):\n\u001b[1;32m----> 2\u001b[0m     \u001b[38;5;28mprint\u001b[39m(sum_range(\u001b[38;5;241m1.11\u001b[39m))\n",
      "\u001b[1;31mNameError\u001b[0m: name 'sum_range' is not defined"
     ]
    }
   ],
   "source": [
    "for i in range(1,11):\n",
    "    print(sum_range(1.11))"
   ]
  },
  {
   "cell_type": "code",
   "execution_count": 13,
   "id": "197a4621-9438-421f-b0d6-2c9a8734e3a2",
   "metadata": {},
   "outputs": [
    {
     "name": "stdout",
     "output_type": "stream",
     "text": [
      "55\n"
     ]
    }
   ],
   "source": [
    "num = 0\n",
    "\n",
    "for i in range(1,11):\n",
    "    num += i\n",
    "print(num)"
   ]
  },
  {
   "cell_type": "code",
   "execution_count": 19,
   "id": "b32d59ec-5011-4de7-9850-ffaee3d0b287",
   "metadata": {},
   "outputs": [
    {
     "name": "stdout",
     "output_type": "stream",
     "text": [
      "1번 학생 축하합니다. 합격입니다.\n",
      "3번 학생 축하합니다. 합격입니다.\n",
      "5번 학생 축하합니다. 합격입니다.\n"
     ]
    }
   ],
   "source": [
    "marks = [90, 25, 67, 45, 80]\n",
    "for number in range(len(marks)):\n",
    "    if marks[number] < 60: \n",
    "        continue\n",
    "    print(f\"{number+1}번 학생 축하합니다. 합격입니다.\")"
   ]
  },
  {
   "cell_type": "code",
   "execution_count": 44,
   "id": "798871fd-4cf7-4687-a58c-9ea6b4d94476",
   "metadata": {},
   "outputs": [
    {
     "name": "stdout",
     "output_type": "stream",
     "text": [
      "==========\n",
      "2단\n",
      "2 x 1 = 2\n",
      "==========\n",
      "2단\n",
      "2 x 2 = 4\n",
      "==========\n",
      "2단\n",
      "2 x 3 = 6\n",
      "==========\n",
      "2단\n",
      "2 x 4 = 8\n",
      "==========\n",
      "2단\n",
      "2 x 5 = 10\n",
      "==========\n",
      "2단\n",
      "2 x 6 = 12\n",
      "==========\n",
      "2단\n",
      "2 x 7 = 14\n",
      "==========\n",
      "2단\n",
      "2 x 8 = 16\n",
      "==========\n",
      "2단\n",
      "2 x 9 = 18\n",
      "==========\n",
      "3단\n",
      "3 x 1 = 3\n",
      "==========\n",
      "3단\n",
      "3 x 2 = 6\n",
      "==========\n",
      "3단\n",
      "3 x 3 = 9\n",
      "==========\n",
      "3단\n",
      "3 x 4 = 12\n",
      "==========\n",
      "3단\n",
      "3 x 5 = 15\n",
      "==========\n",
      "3단\n",
      "3 x 6 = 18\n",
      "==========\n",
      "3단\n",
      "3 x 7 = 21\n",
      "==========\n",
      "3단\n",
      "3 x 8 = 24\n",
      "==========\n",
      "3단\n",
      "3 x 9 = 27\n",
      "==========\n",
      "4단\n",
      "4 x 1 = 4\n",
      "==========\n",
      "4단\n",
      "4 x 2 = 8\n",
      "==========\n",
      "4단\n",
      "4 x 3 = 12\n",
      "==========\n",
      "4단\n",
      "4 x 4 = 16\n",
      "==========\n",
      "4단\n",
      "4 x 5 = 20\n",
      "==========\n",
      "4단\n",
      "4 x 6 = 24\n",
      "==========\n",
      "4단\n",
      "4 x 7 = 28\n",
      "==========\n",
      "4단\n",
      "4 x 8 = 32\n",
      "==========\n",
      "4단\n",
      "4 x 9 = 36\n",
      "==========\n",
      "5단\n",
      "5 x 1 = 5\n",
      "==========\n",
      "5단\n",
      "5 x 2 = 10\n",
      "==========\n",
      "5단\n",
      "5 x 3 = 15\n",
      "==========\n",
      "5단\n",
      "5 x 4 = 20\n",
      "==========\n",
      "5단\n",
      "5 x 5 = 25\n",
      "==========\n",
      "5단\n",
      "5 x 6 = 30\n",
      "==========\n",
      "5단\n",
      "5 x 7 = 35\n",
      "==========\n",
      "5단\n",
      "5 x 8 = 40\n",
      "==========\n",
      "5단\n",
      "5 x 9 = 45\n",
      "==========\n",
      "6단\n",
      "6 x 1 = 6\n",
      "==========\n",
      "6단\n",
      "6 x 2 = 12\n",
      "==========\n",
      "6단\n",
      "6 x 3 = 18\n",
      "==========\n",
      "6단\n",
      "6 x 4 = 24\n",
      "==========\n",
      "6단\n",
      "6 x 5 = 30\n",
      "==========\n",
      "6단\n",
      "6 x 6 = 36\n",
      "==========\n",
      "6단\n",
      "6 x 7 = 42\n",
      "==========\n",
      "6단\n",
      "6 x 8 = 48\n",
      "==========\n",
      "6단\n",
      "6 x 9 = 54\n",
      "==========\n",
      "7단\n",
      "7 x 1 = 7\n",
      "==========\n",
      "7단\n",
      "7 x 2 = 14\n",
      "==========\n",
      "7단\n",
      "7 x 3 = 21\n",
      "==========\n",
      "7단\n",
      "7 x 4 = 28\n",
      "==========\n",
      "7단\n",
      "7 x 5 = 35\n",
      "==========\n",
      "7단\n",
      "7 x 6 = 42\n",
      "==========\n",
      "7단\n",
      "7 x 7 = 49\n",
      "==========\n",
      "7단\n",
      "7 x 8 = 56\n",
      "==========\n",
      "7단\n",
      "7 x 9 = 63\n",
      "==========\n",
      "8단\n",
      "8 x 1 = 8\n",
      "==========\n",
      "8단\n",
      "8 x 2 = 16\n",
      "==========\n",
      "8단\n",
      "8 x 3 = 24\n",
      "==========\n",
      "8단\n",
      "8 x 4 = 32\n",
      "==========\n",
      "8단\n",
      "8 x 5 = 40\n",
      "==========\n",
      "8단\n",
      "8 x 6 = 48\n",
      "==========\n",
      "8단\n",
      "8 x 7 = 56\n",
      "==========\n",
      "8단\n",
      "8 x 8 = 64\n",
      "==========\n",
      "8단\n",
      "8 x 9 = 72\n",
      "==========\n",
      "9단\n",
      "9 x 1 = 9\n",
      "==========\n",
      "9단\n",
      "9 x 2 = 18\n",
      "==========\n",
      "9단\n",
      "9 x 3 = 27\n",
      "==========\n",
      "9단\n",
      "9 x 4 = 36\n",
      "==========\n",
      "9단\n",
      "9 x 5 = 45\n",
      "==========\n",
      "9단\n",
      "9 x 6 = 54\n",
      "==========\n",
      "9단\n",
      "9 x 7 = 63\n",
      "==========\n",
      "9단\n",
      "9 x 8 = 72\n",
      "==========\n",
      "9단\n",
      "9 x 9 = 81\n"
     ]
    }
   ],
   "source": [
    "for i in range(2,10):\n",
    " for u in range(1,10):\n",
    "     print(\"=\"*10)\n",
    "     print(f'{i}단')\n",
    "     print(f\"{i} x {u} = {i*u}\")"
   ]
  },
  {
   "cell_type": "markdown",
   "id": "c5d19c4f-8b4d-42e4-8b49-4128705ecc7f",
   "metadata": {},
   "source": [
    "## 리스트 컴프리헨션"
   ]
  },
  {
   "cell_type": "code",
   "execution_count": 47,
   "id": "502baa7c-90df-4b6f-bfa1-2e1ca527e0ed",
   "metadata": {},
   "outputs": [
    {
     "name": "stdout",
     "output_type": "stream",
     "text": [
      "[3, 6, 9, 12]\n"
     ]
    }
   ],
   "source": [
    "a = [1,2,3,4]\n",
    "result = []\n",
    "for num in a:\n",
    "     result.append(num*3)\n",
    "\n",
    "print(result)"
   ]
  },
  {
   "cell_type": "code",
   "execution_count": 65,
   "id": "5a7097ec-9184-455b-99a2-831cad60957b",
   "metadata": {},
   "outputs": [
    {
     "ename": "IndentationError",
     "evalue": "unindent does not match any outer indentation level (<string>, line 5)",
     "output_type": "error",
     "traceback": [
      "\u001b[1;36m  File \u001b[1;32m<string>:5\u001b[1;36m\u001b[0m\n\u001b[1;33m    if menu == 1:\u001b[0m\n\u001b[1;37m                 ^\u001b[0m\n\u001b[1;31mIndentationError\u001b[0m\u001b[1;31m:\u001b[0m unindent does not match any outer indentation level\n"
     ]
    }
   ],
   "source": [
    "while True:\n",
    "    print('------전화번호부 프로그램------')\n",
    "    print('1.추가  2.조회  3.검색  4.수정  5.삭제  9.종료')\n",
    "    menu = int(input('메뉴를 선택해주세요. :'))\n",
    " if menu == 1:\n",
    "     print('연락처를 추가합니다')\n",
    "     new_name = input('이름 : ')\n",
    "     new_tel = input('전화번호 : ')\n",
    "     print(new_name, new_tel)\n",
    "     contact[new_name] = new_tel\n",
    " elif menu == 2:\n",
    "     print('연락처를 조회합니다')"
   ]
  },
  {
   "cell_type": "code",
   "execution_count": 69,
   "id": "0aae42ca-23df-4ebc-8083-e54d7fd199e0",
   "metadata": {},
   "outputs": [
    {
     "name": "stdout",
     "output_type": "stream",
     "text": [
      "------전화번호부 프로그램------\n",
      "1.추가  2.조회  3.검색  4.수정  5.삭제  9.종료\n"
     ]
    },
    {
     "name": "stdin",
     "output_type": "stream",
     "text": [
      "메뉴를 선택해주세요. : 1\n"
     ]
    },
    {
     "name": "stdout",
     "output_type": "stream",
     "text": [
      "연락처를 추가합니다\n"
     ]
    },
    {
     "name": "stdin",
     "output_type": "stream",
     "text": [
      "이름 :  조금별\n",
      "전화번호 :  123\n"
     ]
    },
    {
     "ename": "NameError",
     "evalue": "name 'contact' is not defined",
     "output_type": "error",
     "traceback": [
      "\u001b[1;31m---------------------------------------------------------------------------\u001b[0m",
      "\u001b[1;31mNameError\u001b[0m                                 Traceback (most recent call last)",
      "Cell \u001b[1;32mIn[69], line 10\u001b[0m\n\u001b[0;32m      8\u001b[0m new_name \u001b[38;5;241m=\u001b[39m \u001b[38;5;28minput\u001b[39m(\u001b[38;5;124m'\u001b[39m\u001b[38;5;124m이름 : \u001b[39m\u001b[38;5;124m'\u001b[39m)\n\u001b[0;32m      9\u001b[0m new_tel \u001b[38;5;241m=\u001b[39m \u001b[38;5;28minput\u001b[39m(\u001b[38;5;124m'\u001b[39m\u001b[38;5;124m전화번호 : \u001b[39m\u001b[38;5;124m'\u001b[39m)\n\u001b[1;32m---> 10\u001b[0m contact[new_name] \u001b[38;5;241m=\u001b[39m new_tel\n",
      "\u001b[1;31mNameError\u001b[0m: name 'contact' is not defined"
     ]
    }
   ],
   "source": [
    "while True:\n",
    "    print('------전화번호부 프로그램------')\n",
    "    print('1.추가  2.조회  3.검색  4.수정  5.삭제  9.종료')\n",
    "    menu = int(input('메뉴를 선택해주세요. :'))\n",
    "\n",
    "    if menu == 1:\n",
    "        print('연락처를 추가합니다')\n",
    "        new_name = input('이름 : ')\n",
    "        new_tel = input('전화번호 : ')\n",
    "        contact[new_name] = new_tel"
   ]
  },
  {
   "cell_type": "code",
   "execution_count": null,
   "id": "dadf96e9-5960-4065-a8e2-79035d4fae55",
   "metadata": {},
   "outputs": [],
   "source": []
  }
 ],
 "metadata": {
  "kernelspec": {
   "display_name": "Python 3 (ipykernel)",
   "language": "python",
   "name": "python3"
  },
  "language_info": {
   "codemirror_mode": {
    "name": "ipython",
    "version": 3
   },
   "file_extension": ".py",
   "mimetype": "text/x-python",
   "name": "python",
   "nbconvert_exporter": "python",
   "pygments_lexer": "ipython3",
   "version": "3.12.4"
  }
 },
 "nbformat": 4,
 "nbformat_minor": 5
}
